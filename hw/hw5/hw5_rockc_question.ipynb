{
 "cells": [
  {
   "cell_type": "markdown",
   "metadata": {},
   "source": [
    "# Rock concert planning\n",
    "\n",
    "Your new-found optimization skills may not help you become a rock\n",
    "star, but they may help you ``plan`` for rock concerts.  This will\n",
    "surely increase your appeal to members of the opposite sex even more\n",
    "than becoming a rock star.\n",
    "Below is a set of tasks required to be performed before a rock\n",
    "concert.  Also included (in GAMS format) is a set of precedence\n",
    "relationships between tasks and the number of days required to perform\n",
    "each task.\n",
    "\n",
    "The promoters of a rock concert in Madison must perform the tasks\n",
    "shown before the concert can be held:"
   ]
  },
  {
   "cell_type": "code",
   "execution_count": null,
   "metadata": {
    "scrolled": true
   },
   "outputs": [],
   "source": [
    "# Load the gams extension\n",
    "%load_ext gams.magic\n",
    "m = gams.exchange_container"
   ]
  },
  {
   "cell_type": "code",
   "execution_count": null,
   "metadata": {},
   "outputs": [],
   "source": [
    "%%gams\n",
    "set activity /\n",
    "        A \"Find Site\",\n",
    "        B \"Find Engineers\",\n",
    "        C \"Hire Opening Act\",\n",
    "        D \"Set Radio and TV Ads\",\n",
    "        E \"Set Up Ticket Agents\",\n",
    "        F \"Prepare Electronics\",\n",
    "        G \"Print Advertising\",\n",
    "        H \"Set up Transportation\",\n",
    "        I \"Rehearsals\",\n",
    "        J \"Last-Minute Details\"\n",
    "/;\n",
    "\n",
    "alias (activity,ai,aj);\n",
    "\n",
    "set pred(ai,aj) \"ai preceeds aj\" /\n",
    "        A. (B,C,E) \n",
    "        B . F\n",
    "        C . (D,G,H)\n",
    "        (F,H) . I\n",
    "        I . J\n",
    "/;\n",
    "\n",
    "parameter duration(activity) \"in days\" /\n",
    "        A       3,      B       2\n",
    "        C       6,      D       2\n",
    "        E       3,      F       3\n",
    "        G       5,      H       1\n",
    "        I       1.5,    J       2\n",
    "/;"
   ]
  },
  {
   "cell_type": "markdown",
   "metadata": {},
   "source": [
    "If any increase in the duration of an activity increases the time\n",
    "needed to complete the project, then the activity is called a critical\n",
    "activity.  We will find the critical activities in this project in two\n",
    "different ways.\n",
    "\n",
    "### Method 1\n",
    "Set up a linear program to find the project duration (that is the\n",
    "minimum number of days needed to prepare for the concert).  Determine the critical tasks by inspecting the multipliers of this problem!   Make sure you store and print out the critical tasks."
   ]
  },
  {
   "cell_type": "code",
   "execution_count": null,
   "metadata": {},
   "outputs": [],
   "source": [
    "%%gams\n",
    "# put gams code here"
   ]
  },
  {
   "cell_type": "code",
   "execution_count": null,
   "metadata": {},
   "outputs": [],
   "source": [
    "print('critical arcs: ', *m.data['critical'].toList())"
   ]
  },
  {
   "cell_type": "markdown",
   "metadata": {},
   "source": [
    "### Method 2\n",
    "Now use two\n",
    "other linear programs to find the early event times (the earliest\n",
    "possible starting time for an activity) and the late event\n",
    "times (the latest possible time to start the activity without delaying\n",
    "project completion time).  Then construct the critical activities by seeing which early\n",
    "event times are the same as the corresponding late event times.\n",
    "Make sure your print out includes a listing of the\n",
    "early and late event times, and the critical activities."
   ]
  },
  {
   "cell_type": "code",
   "execution_count": null,
   "metadata": {},
   "outputs": [],
   "source": [
    "%%gams\n",
    "# put gams code here"
   ]
  },
  {
   "cell_type": "code",
   "execution_count": null,
   "metadata": {},
   "outputs": [],
   "source": [
    "print('critical arcs: ', *m.data['critical'].toList())\n",
    "print('early event times: ', *m.data['eeTime'].toList(), sep='\\n')\n",
    "print('late event times: ', *m.data['leTime'].toList(), sep='\\n')"
   ]
  },
  {
   "cell_type": "markdown",
   "metadata": {},
   "source": [
    "### Which of these two methods is more reliable?"
   ]
  },
  {
   "cell_type": "markdown",
   "metadata": {},
   "source": [
    "Type answer here!"
   ]
  },
  {
   "cell_type": "code",
   "execution_count": null,
   "metadata": {},
   "outputs": [],
   "source": [
    "%gams_cleanup --closedown"
   ]
  },
  {
   "cell_type": "code",
   "execution_count": null,
   "metadata": {},
   "outputs": [],
   "source": []
  }
 ],
 "metadata": {
  "kernelspec": {
   "display_name": "Python 3 (ipykernel)",
   "language": "python",
   "name": "python3"
  },
  "language_info": {
   "codemirror_mode": {
    "name": "ipython",
    "version": 3
   },
   "file_extension": ".py",
   "mimetype": "text/x-python",
   "name": "python",
   "nbconvert_exporter": "python",
   "pygments_lexer": "ipython3",
   "version": "3.10.12"
  }
 },
 "nbformat": 4,
 "nbformat_minor": 4
}
