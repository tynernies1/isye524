{
 "cells": [
  {
   "cell_type": "code",
   "execution_count": 24,
   "id": "c0e55428",
   "metadata": {},
   "outputs": [],
   "source": [
    "## {number of credits needed: (class that can satisfy,num credits) }\n",
    "\n",
    "ie_data = [\n",
    "    {5: ('MATH 221',5)}, {4: ('MATH 222',4)}, {4: ('MATH 234',4)},\n",
    "    {3: ('MATH 340',3)}, {(5,6): (('PHYSICS 201',5), ('PHYSICS 207',5), (('E M A 201',3),('E M A 202',3)), (('E M A 201',3), ('E M A 240',3)))},\n",
    "{9: (('ANAT&PHY 335',5),(('BIOLOGY/BOTANY/ZOOLOGY 151',5), ('ZOOLOGY 153',3)), ('BIOLOGY/BOTANY/ZOOLOGY 152', 5),\n",
    "    (('CHEM 103',4),('CHEM 109',5),('CHEM 115',5)), ('CHEM 104', 5), ('CHEM 116',5), ('CHEM 311',4), (('CHEM 327',4), ('CHEM 329',4)),\n",
    "     ('CHEM 341', 3), ('CHEM 342', 1), ('CHEM 343', 3),\n",
    "     ('CHEM 344', 2), ('CHEM 345', 3), ('CHEM 346', 2), \n",
    "     ('MICROBIO 101',3), ('MICROBIO 102', 2), (('PHYSICS 202',5), ('PHYSICS 208',5), ('PHYSICS 248',5)),\n",
    "     (('PHYSICS 205',3), ('PHYSICS 241', 3), ('PHYSICS 249',4)), ('MATH/COMP SCI 240',3), ('MATH 319',3),\n",
    "     ('MATH 421',3), ('MATH 441',3), ('MATH 443',3), ('MATH/COMP SCI/STAT 475',3),\n",
    "     ('MATH 521',3), ('MATH 522', 3))}, {3: (('STAT 311',3), ('STAT/MATH 309',3))}, {3: (('I SY E 210',3), ('STAT/MATH 310',3), ('STAT 312',3))},\n",
    "    {4:('COMP SCI 220',4)}, {(3,4): (('COMP SCI 200',3), ('COMP SCI 300', 3), ('COMP SCI 320',4), ('COMP SCI 400',3), ('COMP SCI 412',3))},\n",
    "    {2: ('I SY E 191',2)}, {3: ('I SY E 312',3)}, {3: ('I SY E 313',3)}, {3: ('I SY E 315',3)}, {3: ('I SY E 320',3)}, {1: ('I SY E 321',1)},\n",
    "  {3: ('I SY E 323',3)}, {1: ('I SY E 348',1)}, {3: ('I SY E/PSYCH 349',3)}, {3: ('I SY E 350',3)}, {3: ('I SY E 450',3)}, {9:(('I SY E 412', 3), ('I SY E/COMP SCI/MATH 425',3), ('I SY E/CIV ENGR/N E 460',3), ('I SY E 516',3), ('I SY E 521',3), ('I SY E/COMP SCI/E C E 524',3),\n",
    "    ('I SY E/COMP SCI/MATH/STAT 525',3), ('I SY E/COMP SCI 526',3), ('I SY E/COMP SCI/M E 558',3), ('I SY E/N E 574',3), ('I SY E 603',3), ('I SY E 620',3), ('I SY E 624',3), ('I SY E/MATH/OTM/STAT 632',3))}\n",
    "    \n",
    "    \n",
    "    \n",
    "]\n",
    "    "
   ]
  },
  {
   "cell_type": "code",
   "execution_count": 23,
   "id": "55086636",
   "metadata": {},
   "outputs": [],
   "source": [
    "math_data = [{(3,5): (('MATH 341',3), ('MATH 320', 3), ('MATH 340',3),\n",
    "                      ('MATH 375',5))}, {6: (('MATH 521', 3), ('MATH 541',3), ('MATH 551',3))},\n",
    "             {3:(('MATH/COMP SCI 513',3), ('MATH/COMP SCI 514',3),('MATH 519',3), ('MATH 521',3), ('MATH 522',3),\n",
    "                ('MATH/COMP SCI/I SY E/STAT 525',3), ('MATH 531', 3), ('MATH 535', 3), ('MATH 540',3), ('MATH 541',3),\n",
    "                ('MATH 542',3), ('MATH 551',3), ('MATH 552',3), ('MATH 561',3), ('MATH 567',3), ('MATH 570',3), ('MATH/PHILOS 571',3),\n",
    "                ('MATH 605',3), ('MATH 607',3), ('MATH 619',3), ('MATH 621',3), ('MATH 623',3), ('MATH 627',3), ('MATH 629',3),\n",
    "                ('MATH/I SY E/OTM/STAT 632',3), ('MATH 635',3), ('MATH/E C E 641',3), ('MATH 681',3), ('MATH 682',3),\n",
    "                ('MATH 691',3), ('MATH 692',3), ('MATH 698',3), ('MATH 699',3))}, {9: ((('MATH/STAT 309',3), ('MATH 331', 3), ('MATH/STAT 431',3)),\n",
    "                ('MATH/STAT 310', 3), (('MATH 319',3),('MATH 376',5)), ('MATH 321',3), ('MATH 322',3), ('MATH 390',3), ('MATH 407',3), ('MATH 415',3),\n",
    "                ('MATH 421',3), ('MATH/COMP SCI/I SY E 425',3), ('MATH/COMP SCI/E C E 435',3), ('MATH 441',3),('MATH 443',3), ('MATH 461',3), ('MATH 467',3),\n",
    "                ('MATH/HIST SCI 473',3), ('MATH/COMP SCI/STAT 475',3), ('MATH 490',3), ('MATH 491', 3), ('MATH/COMP SCI 513',3), ('MATH/COMP SCI 514',3),\n",
    "                ('MATH 519', 3), ('MATH 521', 3), ('MATH 522', 3), ('MATH/COMP SCI/I SY E/STAT 525', 3), ('MATH 531',3), ('MATH 535',3), ('MATH 540',3), ('MATH 541',3),\n",
    "                ('MATH 551',3), ('MATH 552',3), ('MATH 561',3), ('MATH 567',3), ('MATH 570',3), ('MATH/PHILOS 571',3), ('MATH 605',3), ('MATH 607',3),\n",
    "                ('MATH/B M I/BIOCHEM/BMOLCHEM 609',3), ('MATH 619',3), ('MATH 621',3), ('MATH 623',3), ('MATH 627',3), ('MATH 629',3), ('MATH/I SY E/OTM/STAT 632',3),\n",
    "                ('MATH 635',3), ('MATH/E C E 641',3), ('MATH 681',3), ('MATH 682',3), ('MATH 691',3), ('MATH 692',3), ('MATH 698',3), ('MATH 699',3))}\n",
    "    \n",
    "    \n",
    "    \n",
    "]"
   ]
  },
  {
   "cell_type": "code",
   "execution_count": null,
   "id": "0e3fb51f",
   "metadata": {},
   "outputs": [],
   "source": [
    "#should a tuple within a tuple mean you have to take both or (one or the other), \n",
    "#thinking maybe should rewrite to be just for and, and the or ones will be for one or the other\n",
    "cs_data = [ {3: ('COMP SCI/MATH 240',3)}, {3: ('COMP SCI/E C E 252',3)},\n",
    "           {3: ('COMP SCI 300',3)}, {3: ('COMP SCI/E C E 354',3)}, {3:('COMP SCI 400',3)},\n",
    "           {(9,14,10): (  (('MATH 221',5), ('MATH 222',4)), (('MATH 171',5), ('MATH 217',))    )}\n",
    "    \n",
    "    \n",
    "    \n",
    "    \n",
    "    \n",
    "]"
   ]
  }
 ],
 "metadata": {
  "kernelspec": {
   "display_name": "Python 3 (ipykernel)",
   "language": "python",
   "name": "python3"
  },
  "language_info": {
   "codemirror_mode": {
    "name": "ipython",
    "version": 3
   },
   "file_extension": ".py",
   "mimetype": "text/x-python",
   "name": "python",
   "nbconvert_exporter": "python",
   "pygments_lexer": "ipython3",
   "version": "3.9.12"
  }
 },
 "nbformat": 4,
 "nbformat_minor": 5
}
