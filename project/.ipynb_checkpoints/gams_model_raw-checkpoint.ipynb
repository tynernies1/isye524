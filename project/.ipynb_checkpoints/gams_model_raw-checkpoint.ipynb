{
 "cells": [
  {
   "cell_type": "code",
   "execution_count": 2,
   "id": "080411ff",
   "metadata": {},
   "outputs": [],
   "source": [
    "#%load_ext gams.magic\n",
    "#m = gams.exchange_container"
   ]
  },
  {
   "cell_type": "code",
   "execution_count": 3,
   "id": "e5107741",
   "metadata": {},
   "outputs": [],
   "source": [
    "# %%gams\n",
    "# set classes / /; \n",
    "# set semester /s1*s8/;\n",
    "# set requirements /.... , ..., /\n",
    "# alias(i, j, classes); \n",
    "# #we put all of the classes that are required for all 3 majors in here\n",
    "\n",
    "# parameter credits(classes); #number of credits for each class\n",
    "# parameter max_cred(semester) = 19;\n",
    "# parameter min_cred(semester) = 12;\n",
    "# parameter req_credits(requirements) / 1, 1 , 3, 9 /; \n",
    "# table satisfy(classes,requirements)\n",
    "#          ie_math_221_req ie_basic_science_req   math_math_221_req\n",
    "# math_221       3               0.                       3\n",
    "# physics_207    0                4\n",
    "# chemistry_103  0.                3 ; \n",
    "    \n",
    "\n",
    "\n",
    "# set pred(i,j); #classes in i must be taken before class j\n",
    "\n",
    "# binary variable x(classes, semeseter); #1 if class is taken during that semester\n",
    "# variable total_classes;\n",
    "\n",
    "# equations obj_equation, req_fulfill ....;\n",
    "\n",
    "# obj_equation..\n",
    "#     total_classes =e= sum((classes,semester), x(classes, semester); \n",
    "                          \n",
    "# req_fulfill(requirement)..\n",
    "#     sum(classes$satisfy(classes,requirement)) =g= req_credits(requirements);\n",
    "                          \n",
    "                          \n",
    "# model triple_major /all/;\n",
    "# solve triple_major using mip minimize total_classes; \n",
    "\n",
    "# #then we do abroad example where only thing that changes is that during s6, no credits are taken\n"
   ]
  },
  {
   "cell_type": "code",
   "execution_count": null,
   "id": "b35312bd",
   "metadata": {},
   "outputs": [],
   "source": []
  }
 ],
 "metadata": {
  "kernelspec": {
   "display_name": "Python 3 (ipykernel)",
   "language": "python",
   "name": "python3"
  },
  "language_info": {
   "codemirror_mode": {
    "name": "ipython",
    "version": 3
   },
   "file_extension": ".py",
   "mimetype": "text/x-python",
   "name": "python",
   "nbconvert_exporter": "python",
   "pygments_lexer": "ipython3",
   "version": "3.9.12"
  }
 },
 "nbformat": 4,
 "nbformat_minor": 5
}
