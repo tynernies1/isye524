{
 "cells": [
  {
   "cell_type": "code",
   "execution_count": 45,
   "id": "b5f2b158",
   "metadata": {},
   "outputs": [],
   "source": [
    "## {number of credits needed: (class that can satisfy,num credits) }\n",
    "\n",
    "ie_data = [\n",
    "    {5: ('MATH 221',5)}, {4: ('MATH 222',4)}, {4: ('MATH 234',4)},\n",
    "    {3: ('MATH 340',3)}, {(5,6): (('PHYSICS 201',5), ('PHYSICS 207',5), (('E M A 201',3),('E M A 202',3)), (('E M A 201',3), ('E M A 240',3)))},\n",
    "{9: (('ANAT&PHY 335',5),(('BIOLOGY/BOTANY/ZOOLOGY 151',5), ('ZOOLOGY 153',3)), ('BIOLOGY/BOTANY/ZOOLOGY 152', 5),\n",
    "    (('CHEM 103',4),('CHEM 109',5),('CHEM 115',5)), ('CHEM 104', 5), ('CHEM 116',5), ('CHEM 311',4), (('CHEM 327',4), ('CHEM 329',4)),\n",
    "     ('CHEM 341', 3), ('CHEM 342', 1), ('CHEM 343', 3),\n",
    "     ('CHEM 344', 2), ('CHEM 345', 3), ('CHEM 346', 2), \n",
    "     ('MICROBIO 101',3), ('MICROBIO 102', 2), (('PHYSICS 202',5), ('PHYSICS 208',5), ('PHYSICS 248',5)),\n",
    "     (('PHYSICS 205',3), ('PHYSICS 241', 3), ('PHYSICS 249',4)), ('MATH/COMP SCI 240',3), ('MATH 319',3),\n",
    "     ('MATH 421',3), ('MATH 441',3), ('MATH 443',3), ('MATH/COMP SCI/STAT 475',3),\n",
    "     ('MATH 521',3), ('MATH 522', 3))}, {3: (('STAT 311',3), ('STAT/MATH 309',3))}, {3: (('I SY E 210',3), ('STAT/MATH 310',3), ('STAT 312',3))},\n",
    "    {4:('COMP SCI 220',4)}, {(3,4): (('COMP SCI 200',3), ('COMP SCI 300', 3), ('COMP SCI 320',4), ('COMP SCI 400',3), ('COMP SCI 412',3))},\n",
    "    {2: ('I SY E 191',2)}, {3: ('I SY E 312',3)}, {3: ('I SY E 313',3)}, {3: ('I SY E 315',3)}, {3: ('I SY E 320',3)}, {1: ('I SY E 321',1)},\n",
    "  {3: ('I SY E 323',3)}, {1: ('I SY E 348',1)}, {3: ('I SY E/PSYCH 349',3)}, {3: ('I SY E 350',3)}, {3: ('I SY E 450',3)}, {9:(('I SY E 412', 3), ('I SY E/COMP SCI/MATH 425',3), ('I SY E/CIV ENGR/N E 460',3), ('I SY E 516',3), ('I SY E 521',3), ('I SY E/COMP SCI/E C E 524',3),\n",
    "    ('I SY E/COMP SCI/MATH/STAT 525',3), ('I SY E/COMP SCI 526',3), ('I SY E/COMP SCI/M E 558',3), ('I SY E/N E 574',3), ('I SY E 603',3), ('I SY E 620',3), ('I SY E 624',3), ('I SY E/MATH/OTM/STAT 632',3))}\n",
    "    \n",
    "    \n",
    "    \n",
    "]\n"
   ]
  },
  {
   "cell_type": "code",
   "execution_count": 23,
   "id": "a9182169",
   "metadata": {},
   "outputs": [],
   "source": [
    "math_data = [{(3,5): (('MATH 341',3), ('MATH 320', 3), ('MATH 340',3),\n",
    "                      ('MATH 375',5))}, {6: (('MATH 521', 3), ('MATH 541',3), ('MATH 551',3))},\n",
    "             {3:(('MATH/COMP SCI 513',3), ('MATH/COMP SCI 514',3),('MATH 519',3), ('MATH 521',3), ('MATH 522',3),\n",
    "                ('MATH/COMP SCI/I SY E/STAT 525',3), ('MATH 531', 3), ('MATH 535', 3), ('MATH 540',3), ('MATH 541',3),\n",
    "                ('MATH 542',3), ('MATH 551',3), ('MATH 552',3), ('MATH 561',3), ('MATH 567',3), ('MATH 570',3), ('MATH/PHILOS 571',3),\n",
    "                ('MATH 605',3), ('MATH 607',3), ('MATH 619',3), ('MATH 621',3), ('MATH 623',3), ('MATH 627',3), ('MATH 629',3),\n",
    "                ('MATH/I SY E/OTM/STAT 632',3), ('MATH 635',3), ('MATH/E C E 641',3), ('MATH 681',3), ('MATH 682',3),\n",
    "                ('MATH 691',3), ('MATH 692',3), ('MATH 698',3), ('MATH 699',3))}, {9: ((('MATH/STAT 309',3), ('MATH 331', 3), ('MATH/STAT 431',3)),\n",
    "                ('MATH/STAT 310', 3), (('MATH 319',3),('MATH 376',5)), ('MATH 321',3), ('MATH 322',3), ('MATH 390',3), ('MATH 407',3), ('MATH 415',3),\n",
    "                ('MATH 421',3), ('MATH/COMP SCI/I SY E 425',3), ('MATH/COMP SCI/E C E 435',3), ('MATH 441',3),('MATH 443',3), ('MATH 461',3), ('MATH 467',3),\n",
    "                ('MATH/HIST SCI 473',3), ('MATH/COMP SCI/STAT 475',3), ('MATH 490',3), ('MATH 491', 3), ('MATH/COMP SCI 513',3), ('MATH/COMP SCI 514',3),\n",
    "                ('MATH 519', 3), ('MATH 521', 3), ('MATH 522', 3), ('MATH/COMP SCI/I SY E/STAT 525', 3), ('MATH 531',3), ('MATH 535',3), ('MATH 540',3), ('MATH 541',3),\n",
    "                ('MATH 551',3), ('MATH 552',3), ('MATH 561',3), ('MATH 567',3), ('MATH 570',3), ('MATH/PHILOS 571',3), ('MATH 605',3), ('MATH 607',3),\n",
    "                ('MATH/B M I/BIOCHEM/BMOLCHEM 609',3), ('MATH 619',3), ('MATH 621',3), ('MATH 623',3), ('MATH 627',3), ('MATH 629',3), ('MATH/I SY E/OTM/STAT 632',3),\n",
    "                ('MATH 635',3), ('MATH/E C E 641',3), ('MATH 681',3), ('MATH 682',3), ('MATH 691',3), ('MATH 692',3), ('MATH 698',3), ('MATH 699',3))}\n",
    "    \n",
    "    \n",
    "    \n",
    "]"
   ]
  },
  {
   "cell_type": "code",
   "execution_count": 46,
   "id": "63f9b0a5",
   "metadata": {},
   "outputs": [],
   "source": [
    "#should a tuple within a tuple mean you have to take both or (one or the other), \n",
    "#thinking maybe should rewrite to be just for and, and the or ones will be for one or the other\n",
    "cs_data = [ {3: ('COMP SCI/MATH 240',3)}, {3: ('COMP SCI/E C E 252',3)},\n",
    "           {3: ('COMP SCI 300',3)}, {3: ('COMP SCI/E C E 354',3)}, {3:('COMP SCI 400',3)},\n",
    "           {(9,14,10): (  (('MATH 221',5), ('MATH 222',4)), (('MATH 171',5), ('MATH 217',))    )}\n",
    "    \n",
    "    \n",
    "    \n",
    "    \n",
    "    \n",
    "]"
   ]
  },
  {
   "cell_type": "code",
   "execution_count": 47,
   "id": "20f6c74d",
   "metadata": {},
   "outputs": [
    {
     "ename": "SyntaxError",
     "evalue": "invalid syntax (2395317313.py, line 2)",
     "output_type": "error",
     "traceback": [
      "\u001b[0;36m  Input \u001b[0;32mIn [47]\u001b[0;36m\u001b[0m\n\u001b[0;31m    {5: ('MATH 221')}, {4: ('MATH 222')}, {4: ( 102', 2), (('PHYSICS 202',5), ('PHYSICS 208',5), ('PHYSICS 248',5)),\u001b[0m\n\u001b[0m                                                   ^\u001b[0m\n\u001b[0;31mSyntaxError\u001b[0m\u001b[0;31m:\u001b[0m invalid syntax\n"
     ]
    }
   ],
   "source": [
    "ie_data_nocred = [\n",
    "    {5: ('MATH 221')}, {4: ('MATH 222')}, {4: ( 102', 2), (('PHYSICS 202',5), ('PHYSICS 208',5), ('PHYSICS 248',5)),\n",
    "     (('PHYSICS 205',3), ('PHYSICS 241', 3), ('PHYSICS 249',4)), ('MATH/COMP SCI 240',3), ('MATH 319',3),\n",
    "     ('MATH 421',3), ('MATH 441',3), ('MATH 443',3), ('MATH/COMP SCI/STAT 475',3),\n",
    "     ('MATH 521',3), ('MATH 522', 3))}, {3: (('STAT 311',3), ('STAT/MATH 309',3))}, {3: (('I SY E 210',3), ('STAT/MATH 310',3), ('STAT 312',3))},\n",
    "    {4:('COMP SCI 220',4)}, {(3,4): (('COMP SCI 200',3), ('COMP SCI 300', 3), ('COMP SCI 320',4), ('COMP SCI 400',3), ('COMP SCI 412',3))},\n",
    "    {2: ('I SY E 191',2)}, {3: ('I SY E 312',3)}, {3: ('I SY E 313',3)}, {3: ('I SY E 315',3)}, {3: ('I SY E 320',3)}, {1: ('I SY E 321',1)},\n",
    "  {3: ('I SY E 323',3)}, {1: ('I SY E 348',1)}, {3: ('I SY E/PSYCH 349',3)}, {3: ('I SY E 350',3)}, {3: ('I SY E 450',3)}, {9:(('I SY E 412', 3), ('I SY E/COMP SCI/MATH 425',3), ('I SY E/CIV ENGR/N E 460',3), ('I SY E 516',3), ('I SY E 521',3), ('I SY E/COMP SCI/E C E 524',3),\n",
    "    ('I SY E/COMP SCI/MATH/STAT 525',3), ('I SY E/COMP SCI 526',3), ('I SY E/COMP SCI/M E 558',3), ('I SY E/N E 574',3), ('I SY E 603',3), ('I SY E 620',3), ('I SY E 624',3), ('I SY E/MATH/OTM/STAT 632',3))}\n",
    "    \n",
    "    \n",
    "    \n",
    "]\n"
   ]
  },
  {
   "cell_type": "code",
   "execution_count": 48,
   "id": "106a04ea",
   "metadata": {},
   "outputs": [],
   "source": [
    "ie_classes = ['MATH 221','MATH 222','MATH 234','MATH 340','PHYSICS 201','PHYSICS 207','E M A 201','E M A 202','E M A 201','E M A 240','ANAT&PHY 335','BIOLOGY/BOTANY/ZOOLOGY 151',\n",
    "              'ZOOLOGY 153','BIOLOGY/BOTANY/ZOOLOGY 152','CHEM 103','CHEM 109','CHEM 115','CHEM 104','CHEM 116','CHEM 311','CHEM 327','CHEM 329',\n",
    "'CHEM 341','CHEM 342', 'CHEM 343', 'CHEM 344', 'CHEM 345','CHEM 346', 'MICROBIO 101','MICROBIO 102','PHYSICS 202','PHYSICS 208','PHYSICS 248',\n",
    "'PHYSICS 205','PHYSICS 241','PHYSICS 249','MATH/COMP SCI 240','MATH 319','MATH 421','MATH 441','MATH 443','MATH/COMP SCI/STAT 475',\n",
    "'MATH 521','MATH 522', 'STAT 311','STAT/MATH 309', 'I SY E 210','STAT/MATH 310','STAT 312',\n",
    "'COMP SCI 220','COMP SCI 200','COMP SCI 300','COMP SCI 320','COMP SCI 400','COMP SCI 412','I SY E 191','I SY E 312','I SY E 313','I SY E 315','I SY E 320','I SY E 321'\n",
    "'I SY E 323','I SY E 348','I SY E/PSYCH 349','I SY E 350','I SY E 450','I SY E 412','I SY E/COMP SCI/MATH 425','I SY E/CIV ENGR/N E 460','I SY E 516','I SY E 521','I SY E/COMP SCI/E C E 524',\n",
    "'I SY E/COMP SCI/MATH/STAT 525','I SY E/COMP SCI 526','I SY E/COMP SCI/M E 558','I SY E/N E 574','I SY E 603','I SY E 620','I SY E 624','I SY E/MATH/OTM/STAT 632','I SY E 417','I SY E 517','I SY E 557',\n",
    "'I SY E 555', 'I SY E/MED PHYS 559', 'I SY E 606', 'I SY E/PHARMACY 608', 'I SY E/B M I 617', 'I SY E/COMP SCI/DS 518', 'I SY E/PSYCH 549', 'I SY E 552', 'I SY E 555', 'I SY E 557', 'I SY E 562', 'I SY E/B M E 564',\n",
    "'I SY E 602', 'I SY E/PSYCH 653', 'I SY E 649', 'I SY E/B M E 662', 'I SY E 415', 'I SY E/M E 510', 'I SY E/M E 512', 'I SY E 515', 'I SY E 520', 'I SY E 575', 'I SY E 604', 'I SY E 605', 'I SY E 612', 'I SY E 615', 'I SY E/M E  641',\n",
    "'I SY E/M E 643', 'I SY E 645', 'ENGL 100', 'COM ARTS 100', 'LSC 100', 'ESL 118', 'INTEREGR 397', 'ECON 101']\n"
   ]
  },
  {
   "cell_type": "code",
   "execution_count": 49,
   "id": "bdff673b",
   "metadata": {},
   "outputs": [],
   "source": [
    "math_classes = ['MATH 341','MATH 320','MATH 340','MATH 375','MATH 521','MATH 541','MATH 551',\n",
    "'MATH/COMP SCI 513','MATH/COMP SCI 514','MATH 519','MATH 521','MATH 522','MATH/COMP SCI/I SY E/STAT 525','MATH 531','MATH 535','MATH 540','MATH 541','MATH 542','MATH 551','MATH 552','MATH 561','MATH 567','MATH 570','MATH/PHILOS 571',\n",
    "'MATH 605','MATH 607','MATH 619','MATH 621','MATH 623','MATH 627','MATH 629','MATH/I SY E/OTM/STAT 632','MATH 635','MATH/E C E 641','MATH 681','MATH 682',\n",
    "'MATH 691','MATH 692','MATH 698','MATH 699','MATH/STAT 309','MATH 331','MATH/STAT 431',\n",
    "'MATH/STAT 310', 'MATH 319','MATH 376','MATH 321','MATH 322','MATH 390','MATH 407','MATH 415',\n",
    "                'MATH 421','MATH/COMP SCI/I SY E 425','MATH/COMP SCI/E C E 435','MATH 441','MATH 443','MATH 461','MATH 467',\n",
    "'MATH/HIST SCI 473','MATH/COMP SCI/STAT 475','MATH 490','MATH 491','MATH/COMP SCI 513','MATH/COMP SCI 514',\n",
    "'MATH 519', 'MATH 521', 'MATH 522','MATH/COMP SCI/I SY E/STAT 525', 'MATH 531','MATH 535','MATH 540','MATH 541',\n",
    "'MATH 551','MATH 552','MATH 561','MATH 567','MATH 570','MATH/PHILOS 571','MATH 605','MATH 607',\n",
    "'MATH/B M I/BIOCHEM/BMOLCHEM 609','MATH 619','MATH 621','MATH 623','MATH 627','MATH 629','MATH/I SY E/OTM/STAT 632',\n",
    "'MATH 635','MATH/E C E 641','MATH 681','MATH 682','MATH 691','MATH 692','MATH 698','MATH 699']\n",
    "    \n",
    "    \n",
    "    \n"
   ]
  },
  {
   "cell_type": "code",
   "execution_count": 50,
   "id": "86241d16",
   "metadata": {},
   "outputs": [],
   "source": [
    "cs_classes = ['COMP SCI/MATH  240','COMP SCI/E C E  252','COMP SCI 300','COMP SCI/E C E  354','COMP SCI 400',\n",
    "'MATH 221','MATH 222','MATH 171','MATH 217','MATH 275', 'MATH 276', 'MATH 340', 'MATH 375', 'STAT 324', 'COMP SCI 412',\n",
    "'COMP SCI/E C E/MATH  435', 'COMP SCI/MATH 513', 'COMP SCI/MATH 514', 'COMP SCI/I SY E/MATH/STAT  525', 'COMP SCI/I SY E  526',\n",
    "'E C E 331', 'MATH 234','MATH 375', 'MATH 319', 'MATH 320', 'MATH 375', 'MATH 321', 'MATH 322', 'MATH 331', 'MATH 341', 'MATH 376',\n",
    "'MATH/STAT 431', 'MATH 443', 'MATH 461', 'MATH/COMP SCI/STAT  475', 'MATH 521', 'MATH 541', 'MATH 542', 'MATH 567', 'MATH/PHILOS 571',\n",
    "'STAT/MATH 309', 'STAT/MATH 310', 'STAT 311', 'STAT 312', 'COMP SCI 577', 'COMP SCI 520', 'COMP SCI 407', 'COMP SCI/E C E 506', 'COMP SCI 536',\n",
    "'COMP SCI 538', 'COMP SCI 537', 'COMP SCI 542', 'COMP SCI 544', 'COMP SCI/E C E 552', 'COMP SCI 564', 'COMP SCI 640','COMP SCI 642', 'COMP SCI 412',\n",
    "'COMP SCI/I SY E/MATH  425','COMP SCI/MATH 513', 'COMP SCI/MATH 514','COMP SCI/E C E/I SY E  524', 'COMP SCI/I SY E/MATH/STAT 525', 'COMP SCI 534', 'COMP SCI 540',\n",
    "'COMP SCI 545', 'COMP SCI 559', 'COMP SCI 566', 'COMP SCI 570', 'COMP SCI 571', 'COMP SCI 407', 'COMP SCI 412', 'COMP SCI/E C E/MATH 435', 'COMP SCI/STAT 471', 'COMP SCI/MATH/STAT 475',\n",
    "'COMP SCI/E C E 506', 'COMP SCI/MATH 513', 'COMP SCI/MATH 514', 'COMP SCI/DS/I SY E 518', 'COMP SCI 520', 'COMP SCI/I SY E/MATH  425', 'COMP SCI/I SY E 526', 'COMP SCI/E C E/M E 532','COMP SCI/E C E 533',\n",
    "'COMP SCI 534', 'COMP SCI 536', 'COMP SCI 537', 'COMP SCI 538', 'COMP SCI/E C E/M E 539', 'COMP SCI 542', 'COMP SCI 545', 'COMP SCI/E C E 552', 'COMP SCI/I SY E/M E 558', 'COMP SCI 559', 'COMP SCI/E C E 561',\n",
    "'COMP SCI 564', 'COMP SCI/B M I 567', 'COMP SCI 570', 'COMP SCI 571', 'COMP SCI/B M I 576', 'COMP SCI 577', 'COMP SCI/DS 579', 'COMP SCI/I SY E 635', 'COMP SCI 640', 'COMP SCI 642', 'COMP SCI 639']"
   ]
  },
  {
   "cell_type": "code",
   "execution_count": 51,
   "id": "854d19d2",
   "metadata": {},
   "outputs": [],
   "source": [
    "cs_classes = list(set(cs_classes)) "
   ]
  },
  {
   "cell_type": "code",
   "execution_count": 53,
   "id": "0b1e8895",
   "metadata": {},
   "outputs": [
    {
     "name": "stdout",
     "output_type": "stream",
     "text": [
      "['COMP SCI 639', 'COMP SCI 570', 'STAT 312', 'MATH 461', 'COMP SCI/E C E/M E 532', 'COMP SCI 537', 'COMP SCI 534', 'MATH 331', 'COMP SCI/I SY E/M E 558', 'COMP SCI 640', 'COMP SCI 538', 'MATH 234', 'COMP SCI 566', 'COMP SCI/E C E/I SY E 524', 'MATH/PHILOS 571', 'COMP SCI/E C E 354', 'MATH 222', 'MATH 321', 'COMP SCI 300', 'COMP SCI/MATH 514', 'COMP SCI/E C E 252', 'E C E 331', 'MATH 541', 'MATH 542', 'COMP SCI/I SY E 635', 'MATH 275', 'COMP SCI/E C E 561', 'COMP SCI/MATH 240', 'COMP SCI 542', 'COMP SCI/DS/I SY E 518', 'COMP SCI/I SY E/MATH  425', 'COMP SCI 642', 'COMP SCI/E C E/M E 539', 'MATH 376', 'COMP SCI 544', 'COMP SCI/E C E/MATH 435', 'COMP SCI/STAT 471', 'COMP SCI 520', 'MATH 221', 'COMP SCI 564', 'MATH 322', 'COMP SCI/E C E 552', 'MATH 567', 'MATH 443', 'COMP SCI/I SY E/MATH 425', 'MATH 320', 'COMP SCI/MATH/STAT 475', 'MATH 217', 'MATH 340', 'COMP SCI 559', 'COMP SCI/I SY E/MATH/STAT 525', 'COMP SCI 540', 'MATH 171', 'COMP SCI/I SY E 526', 'COMP SCI 536', 'MATH/COMP SCI/STAT 475', 'STAT 311', 'MATH 276', 'COMP SCI/B M I 576', 'MATH 341', 'COMP SCI/MATH 513', 'COMP SCI/E C E 506', 'MATH 319', 'STAT/MATH 310', 'COMP SCI 407', 'COMP SCI 577', 'COMP SCI/B M I 567', 'MATH 521', 'STAT/MATH 309', 'COMP SCI 571', 'MATH/STAT 431', 'COMP SCI/E C E 533', 'STAT 324', 'COMP SCI 412', 'MATH 375', 'COMP SCI 400', 'COMP SCI 545', 'COMP SCI/DS 579']\n"
     ]
    }
   ],
   "source": [
    "print(cs_classes)"
   ]
  },
  {
   "cell_type": "code",
   "execution_count": 56,
   "id": "5c36b6ba",
   "metadata": {},
   "outputs": [],
   "source": [
    "ie_requirements_list = ['ie_math221', #take math 221\n",
    "'ie_math222', #take math 222\n",
    "'ie_math234', #take math 234\n",
    "'ie_math340', #take math 340\n",
    "'ie_phys_ema', #choose 5-6 credits from the following physics/ema\n",
    "'ie_basic_science', #choose 9 credits from the list of basic science\n",
    "'ie_stat_311_309', #choose between stat 311 or 309\n",
    "'ie_210_or_stats', #choose between isye210, stat 310, stat 312\n",
    "'ie_cs220', #take cs 220\n",
    "'ie_cs_choice', #choose 1 of a few cs classes\n",
    "'ie_191', #take isye 191\n",
    "'ie_312', #take isye 312\n",
    "'ie_313', #take isye 313\n",
    "'ie_315', #take isye 315\n",
    "'ie_320', #take isye 320\n",
    "'ie_321', #take isye 321\n",
    "'ie_323', #take isye 323\n",
    "'ie_348', #take isye 348\n",
    "'ie_349', #take isye/psych 349\n",
    "'ie_350', #take isye 350\n",
    "'ie_450', #take isye 450\n",
    "'ie_an_op', #take 3 of the analytics/operations research\n",
    "'ie_diff_elective', #take elective not in the analytics/operations area\n",
    "'ie_elective', #6 credits of any elective\n",
    "'ie_comm', #3 credits of communication skills\n",
    "'ie_eng_comm', #must take engineering communication class\n",
    "'ie_econ', #must take econ 101\n",
    "]\n",
    "\n",
    "math_requirements_list = [\n",
    "'math_linalg', #take linear algebra class from options\n",
    "'math_algebra', #take 2 analysis/topology/algebra classes\n",
    "'math_advanced', #take one advanced math class from list,\n",
    "'math_electives', #take 9 credits of electives\n",
    "]\n",
    "    \n",
    "cs_requirements_list = [\n",
    "'cs_240', #take cs/math 240\n",
    "'cs_252', #take cs/ece 252\n",
    "'cs_300', #take cs 300\n",
    "'cs_354', #take cs/ece 354\n",
    "'cs_400', #take cs 400\n",
    "'cs_calc', #take one of the calc sequences\n",
    "'cs_math', #take 2 courses of additional math \n",
    "'cs_theory', #take one theory of CS class\n",
    "'cs_software', #take two software CS classes,\n",
    "'cs_app', #take one cs application class\n",
    "'cs_elective', #take two cs electives \n",
    "]\n",
    "    \n",
    "    \n",
    "\n",
    "\n",
    "\n",
    "\n",
    "\n",
    "\n",
    "\n"
   ]
  },
  {
   "cell_type": "code",
   "execution_count": null,
   "id": "50225a37",
   "metadata": {},
   "outputs": [],
   "source": []
  }
 ],
 "metadata": {
  "kernelspec": {
   "display_name": "Python 3 (ipykernel)",
   "language": "python",
   "name": "python3"
  },
  "language_info": {
   "codemirror_mode": {
    "name": "ipython",
    "version": 3
   },
   "file_extension": ".py",
   "mimetype": "text/x-python",
   "name": "python",
   "nbconvert_exporter": "python",
   "pygments_lexer": "ipython3",
   "version": "3.9.12"
  }
 },
 "nbformat": 4,
 "nbformat_minor": 5
}
