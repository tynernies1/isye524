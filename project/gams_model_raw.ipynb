{
 "cells": [
  {
   "cell_type": "code",
   "execution_count": 2,
   "id": "96949039",
   "metadata": {},
   "outputs": [],
   "source": [
    "#%load_ext gams.magic\n",
    "#m = gams.exchange_container"
   ]
  },
  {
   "cell_type": "code",
   "execution_count": 3,
   "id": "8d7d6621",
   "metadata": {},
   "outputs": [],
   "source": []
  },
  {
   "cell_type": "code",
   "execution_count": null,
   "id": "da29bfe2",
   "metadata": {},
   "outputs": [],
   "source": [
    "# %%gams\n",
    "# set C \"classes\" / /; \n",
    "# set S \"semester\" /s1*s8/;\n",
    "# set R \"requirements\" /ie_math221  ,ie_math222 , ie_math234 , ie_math340 , ie_phys_ema , ie_basic_science , ie_stat_311_309 , \n",
    "# ie_210_or_stats ,ie_cs220,ie_cs_choice, ie_191, ie_312, ie_313,ie_315,ie_320,ie_321, ie_323, ie_348, ie_349, ie_350, ie_450,\n",
    "# ie_an_op, ie_diff_elective, ie_elective, ie_comm, ie_eng_comm, ie_econ, math_linalg, math_algebra, math_advanced, math_electives,\n",
    "# cs_240, cs_252, cs_300, cs_354, cs_400, cs_calc, cs_math, cs_theory, cs_software, cs_app, cs_elective/;\n",
    "# alias(i, j, classes); \n",
    "\n",
    "# parameter credits(C); #number of credits for each class\n",
    "# parameter max_cred(S) = 12;\n",
    "# parameter min_cred(S) = 3;\n",
    "# parameter req_credits(requirements) /ie_math221 5,ie_math222 4, ie_math234 4, ie_math340 3, ie_phys_ema 5, ie_basic_science 9, ie_stat_311_309 3, \n",
    "# ie_210_or_stats 3, ie_cs220 4, ie_cs_choice 3, ie_191 2, ie_312 3, ie_313 3,ie_315 3,ie_320 3, ie_321 1, ie_323 3, ie_348 1, ie_349 3, ie_350 3, ie_450 3,\n",
    "# ie_an_op 9, ie_diff_elective 3, ie_elective 6, ie_comm 6, ie_eng_comm 3, ie_econ 4, math_linalg 3, math_algebra 6, math_advanced 3, math_electives 9,\n",
    "# cs_240 3, cs_252 3, cs_300 3, cs_354 3, cs_400 3, cs_calc 9, cs_math 6, cs_theory 3, cs_software 6, cs_app 3, cs_elective 6 /; \n",
    "# table satisfy(C,R) \n",
    "         \n",
    "# math_221       1               0.               1\n",
    "# physics_207    0                1\n",
    "# chemistry_103  0.                1 ; \n",
    "    \n",
    "\n",
    "\n",
    "# set pred(i,j); #classes in i must be taken before class j\n",
    "\n",
    "# binary variable x(C, S); #1 if class is taken during that semester\n",
    "# variable total_classes;\n",
    "\n",
    "# equations obj_equation, req_fulfill ....;\n",
    "\n",
    "# obj_equation..\n",
    "#     total_classes =e= sum((C,S), x(C, S);\n",
    "# `\n",
    "# req_fulfill(R)..\n",
    "#     sum(C, satisfy(C,R)*credits(C)) =g= req_credits(R);\n",
    "                          \n",
    "                          \n",
    "# model triple_major /all/;\n",
    "# solve triple_major using mip minimize total_classes; \n",
    "\n",
    "# #then we do abroad example where only thing that changes is that during s6, no credits are taken\n"
   ]
  }
 ],
 "metadata": {
  "kernelspec": {
   "display_name": "Python 3 (ipykernel)",
   "language": "python",
   "name": "python3"
  },
  "language_info": {
   "codemirror_mode": {
    "name": "ipython",
    "version": 3
   },
   "file_extension": ".py",
   "mimetype": "text/x-python",
   "name": "python",
   "nbconvert_exporter": "python",
   "pygments_lexer": "ipython3",
   "version": "3.9.12"
  }
 },
 "nbformat": 4,
 "nbformat_minor": 5
}
