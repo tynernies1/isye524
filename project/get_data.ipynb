{
 "cells": [
  {
   "cell_type": "markdown",
   "metadata": {},
   "source": [
    "## Getting links by sending seperate get requests for each link - faster"
   ]
  },
  {
   "cell_type": "code",
   "execution_count": 22,
   "metadata": {},
   "outputs": [],
   "source": [
    "from selenium import webdriver\n",
    "from selenium.common.exceptions import StaleElementReferenceException, NoSuchElementException\n",
    "from selenium.webdriver.common.by import By\n",
    "from selenium.webdriver.support.ui import WebDriverWait\n",
    "from selenium.webdriver.support import expected_conditions as EC\n",
    "from selenium.webdriver.chrome.options import Options\n",
    "import time\n",
    "\n",
    "# Setting up Web Driver\n",
    "options = Options()\n",
    "#options.add_argument(\"--headless=new\")\n",
    "driver = webdriver.Chrome(options=options)\n",
    "driver.get('https://guide.wisc.edu/courses/')\n",
    "\n",
    "# Initializing empty dict for class dict and list for class information (requisites, repeatable, etc.)\n",
    "class_list = []\n",
    "detail_keys = ['requisites', 'designation', 'repeatable', 'last_taught']\n",
    "\n",
    "majors = driver.find_element(By.ID, \"atozindex\")\n",
    "links = majors.find_elements(By.TAG_NAME, \"a\")\n",
    "\n",
    "# Gather all the URLs first\n",
    "urls = [link.get_attribute('href') for link in links]\n",
    "\n",
    "# Now visit each URL directly\n",
    "for i in range(len(urls))[:5]:\n",
    "    driver.get(urls[i])\n",
    "\n",
    "    classes = WebDriverWait(driver, 20, ignored_exceptions=(NoSuchElementException, StaleElementReferenceException)).until(EC.presence_of_element_located((By.CLASS_NAME,  \"sc_sccoursedescs\")))\n",
    "    titles = classes.find_elements(By.CLASS_NAME, \"courseblockcode\")\n",
    "    credits = classes.find_elements(By.CLASS_NAME, \"courseblockcredits\")\n",
    "    buttons = classes.find_elements(By.XPATH,  \"//*[text()='View details']\")\n",
    "    for i in range(len(buttons)):\n",
    "        class_dict = {}\n",
    "        class_dict['class'] = titles[i].text\n",
    "        class_dict['credits'] = int(credits[i].text[:1])\n",
    "        class_list.append(class_dict)\n",
    "\n",
    "        buttons[i].click()\n",
    "        time.sleep(0.5)\n",
    "\n",
    "        # details = classes.find_elements(By.CLASS_NAME, \"cbextra-data\")\n",
    "        # class_details = []\n",
    "        # for detail in details:\n",
    "        #     class_details.append(detail.text)\n",
    "        #     temp_dict = {}\n",
    "        #     for k, v in zip(detail_keys, class_details):\n",
    "        #         temp_dict[k] = v\n",
    "            #class_dict['class info'] = temp_dict\n",
    "        #class_list.append(class_dict)\n",
    "driver.quit()\n",
    "print(class_list)\n"
   ]
  },
  {
   "cell_type": "code",
   "execution_count": null,
   "metadata": {},
   "outputs": [],
   "source": []
  },
  {
   "cell_type": "code",
   "execution_count": null,
   "metadata": {},
   "outputs": [],
   "source": []
  }
 ],
 "metadata": {
  "kernelspec": {
   "display_name": "gams",
   "language": "python",
   "name": "python3"
  },
  "language_info": {
   "codemirror_mode": {
    "name": "ipython",
    "version": 3
   },
   "file_extension": ".py",
   "mimetype": "text/x-python",
   "name": "python",
   "nbconvert_exporter": "python",
   "pygments_lexer": "ipython3",
   "version": "3.11.5"
  }
 },
 "nbformat": 4,
 "nbformat_minor": 2
}
