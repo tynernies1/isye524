{
 "cells": [
  {
   "cell_type": "markdown",
   "metadata": {
    "slideshow": {
     "slide_type": "slide"
    }
   },
   "source": [
    "# CS524:  Introduction to Optimization Lecture 28\n",
    "## Michael C. Ferris <br> Computer Sciences Department<br>University of Wisconsin-Madison\n",
    "## November 8, 2023"
   ]
  },
  {
   "cell_type": "markdown",
   "metadata": {
    "slideshow": {
     "slide_type": "slide"
    }
   },
   "source": [
    "## Vector norms\n",
    "We want to solve Ax=b, but there is no solution.  Define the residual to be the quantity $r:=b−Ax$.  We can’t make it zero, so instead we try to make it small.  Many options!\n",
    "- minimize the largest component (a.k.a.  the ∞-norm)<br>\n",
    "\\begin{eqnarray*}\n",
    "‖r‖_∞= \\underset{i}{\\text{max}}|r_i|\n",
    "\\end{eqnarray*}\n",
    "- minimize the sum of absolute values (a.k.a. the 1-norm)<br>\n",
    "\\begin{eqnarray*}\n",
    "‖r‖_1=|r_1|+|r_2|+···+|r_m|\n",
    "\\end{eqnarray*}\n",
    "- minimize the Euclidean norm (a.k.a. the 2-norm)<br>\n",
    "\\begin{eqnarray*}\n",
    "‖r‖_2=‖r‖=\\sqrt{r_1^2+r_2^2+\\dots+r_m^2}\n",
    "\\end{eqnarray*}\n",
    "Equivalently, we minimize the square of this, a nice convex quadratic"
   ]
  },
  {
   "cell_type": "markdown",
   "metadata": {
    "slideshow": {
     "slide_type": "slide"
    }
   },
   "source": [
    "## Vector norms\n",
    "- minimizing the largest component is an LP:<br>\n",
    "\\begin{eqnarray*}\n",
    " \\min_x \\max_i | a_i^Tx−b_i | & \\iff &\n",
    " \\begin{aligned}\n",
    " & \\min_{x,t} & & t \\\\\n",
    " & \\text{s.t.} \n",
    " & & −t \\leq a_i^Tx−b_i \\leq t\n",
    " \\end{aligned}\n",
    "\\end{eqnarray*}\n",
    "<br>\n",
    "- minimizing the sum of absolute values is an LP:<br>\n",
    "\\begin{eqnarray*}\n",
    " \\min_x\n",
    " \\displaystyle\\sum_{i=1}^{m} | a_i^Tx−b_i | & \\iff & \n",
    " \\begin{aligned}\n",
    " & \\min_{x,d_i} & & d_1+···+d_m \\\\\n",
    " & \\text{s.t.} & & −d_i \\leq a_i^Tx−b_i \\leq d_i\n",
    " \\end{aligned}\n",
    "\\end{eqnarray*}\n",
    "<br>\n",
    "- minimizing the 2-norm squared is not an LP!<br>\n",
    "\\begin{eqnarray*}\n",
    " \\min_{x} \n",
    " \\displaystyle\\sum_{i=1}^{m}(a_i^Tx−b_i)^2\n",
    "\\end{eqnarray*}\n",
    "\n",
    "Can also formulate using difference of positive variables $a_i^Tx - b_i = p_i - n_i$, $p_i, n_i \\geq 0$ but this is typically slower for the barrier method to solve (for large problems see leastsquares.gms model)"
   ]
  },
  {
   "cell_type": "markdown",
   "metadata": {},
   "source": [
    "## Examples from least squares lecture slides\n",
    "\n",
    "$L_{\\infty}$:"
   ]
  },
  {
   "cell_type": "code",
   "execution_count": 1,
   "metadata": {
    "slideshow": {
     "slide_type": "slide"
    }
   },
   "outputs": [],
   "source": [
    "%load_ext gams.magic\n",
    "m = gams.exchange_container"
   ]
  },
  {
   "cell_type": "code",
   "execution_count": 2,
   "metadata": {},
   "outputs": [
    {
     "data": {
      "text/html": [
       "<div>\n",
       "<style scoped>\n",
       "    .dataframe tbody tr th:only-of-type {\n",
       "        vertical-align: middle;\n",
       "    }\n",
       "\n",
       "    .dataframe tbody tr th {\n",
       "        vertical-align: top;\n",
       "    }\n",
       "\n",
       "    .dataframe thead th {\n",
       "        text-align: right;\n",
       "    }\n",
       "</style>\n",
       "<table border=\"1\" class=\"dataframe\">\n",
       "  <thead>\n",
       "    <tr style=\"text-align: right;\">\n",
       "      <th></th>\n",
       "      <th>Solver Status</th>\n",
       "      <th>Model Status</th>\n",
       "      <th>Objective</th>\n",
       "      <th>#equ</th>\n",
       "      <th>#var</th>\n",
       "      <th>Model Type</th>\n",
       "      <th>Solver</th>\n",
       "      <th>Solver Time</th>\n",
       "    </tr>\n",
       "  </thead>\n",
       "  <tbody>\n",
       "    <tr>\n",
       "      <th>0</th>\n",
       "      <td>Normal (1)</td>\n",
       "      <td>Optimal Global (1)</td>\n",
       "      <td>0.5</td>\n",
       "      <td>4</td>\n",
       "      <td>2</td>\n",
       "      <td>LP</td>\n",
       "      <td>CPLEX</td>\n",
       "      <td>0.016</td>\n",
       "    </tr>\n",
       "  </tbody>\n",
       "</table>\n",
       "</div>"
      ],
      "text/plain": [
       "  Solver Status        Model Status  Objective #equ #var Model Type Solver  \\\n",
       "0    Normal (1)  Optimal Global (1)        0.5    4    2         LP  CPLEX   \n",
       "\n",
       "  Solver Time  \n",
       "0       0.016  "
      ]
     },
     "execution_count": 2,
     "metadata": {},
     "output_type": "execute_result"
    }
   ],
   "source": [
    "%%gams\n",
    "variables x, t;\n",
    "equations m1, m2, m3, m4;\n",
    "\n",
    "m1.. t =g= x - 1;\n",
    "m2.. t =g= -(x-1);\n",
    "m3.. t =g= x - 2;\n",
    "m4.. t =g= -(x-2);\n",
    "\n",
    "model linf /m1,m2,m3,m4/;\n",
    "solve linf using lp min t;"
   ]
  },
  {
   "cell_type": "code",
   "execution_count": 3,
   "metadata": {},
   "outputs": [
    {
     "name": "stdout",
     "output_type": "stream",
     "text": [
      "Optimal x =1.500000\n"
     ]
    }
   ],
   "source": [
    "xval = m['x'].toValue()\n",
    "print(f'Optimal x ={xval:f}')"
   ]
  },
  {
   "cell_type": "markdown",
   "metadata": {},
   "source": [
    "$L_1$:"
   ]
  },
  {
   "cell_type": "code",
   "execution_count": 4,
   "metadata": {},
   "outputs": [
    {
     "data": {
      "text/html": [
       "<div>\n",
       "<style scoped>\n",
       "    .dataframe tbody tr th:only-of-type {\n",
       "        vertical-align: middle;\n",
       "    }\n",
       "\n",
       "    .dataframe tbody tr th {\n",
       "        vertical-align: top;\n",
       "    }\n",
       "\n",
       "    .dataframe thead th {\n",
       "        text-align: right;\n",
       "    }\n",
       "</style>\n",
       "<table border=\"1\" class=\"dataframe\">\n",
       "  <thead>\n",
       "    <tr style=\"text-align: right;\">\n",
       "      <th></th>\n",
       "      <th>Solver Status</th>\n",
       "      <th>Model Status</th>\n",
       "      <th>Objective</th>\n",
       "      <th>#equ</th>\n",
       "      <th>#var</th>\n",
       "      <th>Model Type</th>\n",
       "      <th>Solver</th>\n",
       "      <th>Solver Time</th>\n",
       "    </tr>\n",
       "  </thead>\n",
       "  <tbody>\n",
       "    <tr>\n",
       "      <th>0</th>\n",
       "      <td>Normal (1)</td>\n",
       "      <td>Optimal Global (1)</td>\n",
       "      <td>1.0</td>\n",
       "      <td>5</td>\n",
       "      <td>4</td>\n",
       "      <td>LP</td>\n",
       "      <td>CPLEX</td>\n",
       "      <td>0.003</td>\n",
       "    </tr>\n",
       "  </tbody>\n",
       "</table>\n",
       "</div>"
      ],
      "text/plain": [
       "  Solver Status        Model Status  Objective #equ #var Model Type Solver  \\\n",
       "0    Normal (1)  Optimal Global (1)        1.0    5    4         LP  CPLEX   \n",
       "\n",
       "  Solver Time  \n",
       "0       0.003  "
      ]
     },
     "execution_count": 4,
     "metadata": {},
     "output_type": "execute_result"
    }
   ],
   "source": [
    "%%gams\n",
    "variables d1, d2, d3, d4, obj;\n",
    "equations n1, n2, n3, n4, o1;\n",
    "\n",
    "n1.. d1 =g= x - 1;\n",
    "n2.. d1 =g= -(x-1);\n",
    "n3.. d2 =g= x - 2;\n",
    "n4.. d2 =g= -(x-2);\n",
    "o1.. obj =e= d1 + d2;\n",
    "\n",
    "model lone /n1,n2,n3,n4,o1/;\n",
    "solve lone using lp min obj;"
   ]
  },
  {
   "cell_type": "code",
   "execution_count": 5,
   "metadata": {},
   "outputs": [
    {
     "name": "stdout",
     "output_type": "stream",
     "text": [
      "Optimal x =2.000000\n"
     ]
    }
   ],
   "source": [
    "xval = m['x'].toValue()\n",
    "print(f'Optimal x ={xval:f}')"
   ]
  },
  {
   "cell_type": "markdown",
   "metadata": {},
   "source": [
    "$L_2$:"
   ]
  },
  {
   "cell_type": "code",
   "execution_count": 6,
   "metadata": {},
   "outputs": [
    {
     "data": {
      "text/html": [
       "<div>\n",
       "<style scoped>\n",
       "    .dataframe tbody tr th:only-of-type {\n",
       "        vertical-align: middle;\n",
       "    }\n",
       "\n",
       "    .dataframe tbody tr th {\n",
       "        vertical-align: top;\n",
       "    }\n",
       "\n",
       "    .dataframe thead th {\n",
       "        text-align: right;\n",
       "    }\n",
       "</style>\n",
       "<table border=\"1\" class=\"dataframe\">\n",
       "  <thead>\n",
       "    <tr style=\"text-align: right;\">\n",
       "      <th></th>\n",
       "      <th>Solver Status</th>\n",
       "      <th>Model Status</th>\n",
       "      <th>Objective</th>\n",
       "      <th>#equ</th>\n",
       "      <th>#var</th>\n",
       "      <th>Model Type</th>\n",
       "      <th>Solver</th>\n",
       "      <th>Solver Time</th>\n",
       "    </tr>\n",
       "  </thead>\n",
       "  <tbody>\n",
       "    <tr>\n",
       "      <th>0</th>\n",
       "      <td>Normal (1)</td>\n",
       "      <td>OptimalLocal (2)</td>\n",
       "      <td>0.5</td>\n",
       "      <td>1</td>\n",
       "      <td>2</td>\n",
       "      <td>QCP</td>\n",
       "      <td>CONOPT</td>\n",
       "      <td>0.023</td>\n",
       "    </tr>\n",
       "  </tbody>\n",
       "</table>\n",
       "</div>"
      ],
      "text/plain": [
       "  Solver Status      Model Status  Objective #equ #var Model Type  Solver  \\\n",
       "0    Normal (1)  OptimalLocal (2)        0.5    1    2        QCP  CONOPT   \n",
       "\n",
       "  Solver Time  \n",
       "0       0.023  "
      ]
     },
     "execution_count": 6,
     "metadata": {},
     "output_type": "execute_result"
    }
   ],
   "source": [
    "%%gams\n",
    "equations o2;\n",
    "\n",
    "o2.. obj =e= sqr(x - 1) + sqr(x-2);\n",
    "\n",
    "model l2 /o2/;\n",
    "solve l2 using qcp min obj;"
   ]
  },
  {
   "cell_type": "code",
   "execution_count": 7,
   "metadata": {},
   "outputs": [
    {
     "name": "stdout",
     "output_type": "stream",
     "text": [
      "Optimal x =1.500000\n"
     ]
    }
   ],
   "source": [
    "xval = m['x'].toValue()\n",
    "print(f'Optimal x ={xval:f}')"
   ]
  },
  {
   "cell_type": "code",
   "execution_count": 8,
   "metadata": {},
   "outputs": [],
   "source": [
    "gams.reset()\n",
    "m = gams.exchange_container"
   ]
  },
  {
   "cell_type": "markdown",
   "metadata": {},
   "source": [
    "## Another larger example  \n",
    "\n",
    "First load in new data then do $L_\\infty$, $L_1$, least squares models"
   ]
  },
  {
   "cell_type": "code",
   "execution_count": 9,
   "metadata": {},
   "outputs": [],
   "source": [
    "%%gams\n",
    "$title  Simple Linear Regression Model with different loss functions\n",
    "\n",
    "set     i       Observations /i1*i100/,\n",
    "        k       Parameters /k1*k2/;\n",
    "\n",
    "parameter       b(i)    RHS values\n",
    "                A(i,k)  Data points;\n",
    "\n",
    "*  Generate a random dataset.\n",
    "A(i,k) = uniform(0,2);\n",
    "\n",
    "*  Randomly generate x0:\n",
    "parameter  x0(k)   True value of X;\n",
    "x0(k)   = uniform(0,2);\n",
    "\n",
    "b(i) = sum(k,A(i,k)*x0(k)) + 0.1*normal(0,1);\n",
    "\n",
    "parameter compare Comparison of estimates;\n",
    "compare(k,\"x0\") = x0(k); "
   ]
  },
  {
   "cell_type": "code",
   "execution_count": 10,
   "metadata": {},
   "outputs": [
    {
     "data": {
      "text/html": [
       "<div>\n",
       "<style scoped>\n",
       "    .dataframe tbody tr th:only-of-type {\n",
       "        vertical-align: middle;\n",
       "    }\n",
       "\n",
       "    .dataframe tbody tr th {\n",
       "        vertical-align: top;\n",
       "    }\n",
       "\n",
       "    .dataframe thead th {\n",
       "        text-align: right;\n",
       "    }\n",
       "</style>\n",
       "<table border=\"1\" class=\"dataframe\">\n",
       "  <thead>\n",
       "    <tr style=\"text-align: right;\">\n",
       "      <th></th>\n",
       "      <th>Solver Status</th>\n",
       "      <th>Model Status</th>\n",
       "      <th>Objective</th>\n",
       "      <th>#equ</th>\n",
       "      <th>#var</th>\n",
       "      <th>Model Type</th>\n",
       "      <th>Solver</th>\n",
       "      <th>Solver Time</th>\n",
       "    </tr>\n",
       "  </thead>\n",
       "  <tbody>\n",
       "    <tr>\n",
       "      <th>0</th>\n",
       "      <td>Normal (1)</td>\n",
       "      <td>Optimal Global (1)</td>\n",
       "      <td>0.2376</td>\n",
       "      <td>300</td>\n",
       "      <td>103</td>\n",
       "      <td>LP</td>\n",
       "      <td>CPLEX</td>\n",
       "      <td>0.002</td>\n",
       "    </tr>\n",
       "  </tbody>\n",
       "</table>\n",
       "</div>"
      ],
      "text/plain": [
       "  Solver Status        Model Status  Objective #equ #var Model Type Solver  \\\n",
       "0    Normal (1)  Optimal Global (1)     0.2376  300  103         LP  CPLEX   \n",
       "\n",
       "  Solver Time  \n",
       "0       0.002  "
      ]
     },
     "execution_count": 10,
     "metadata": {},
     "output_type": "execute_result"
    }
   ],
   "source": [
    "%%gams\n",
    "variables       x(k)    Unknown parameter estimates\n",
    "                r(i)    Residual in equation i\n",
    "                obj     Objective function;\n",
    "\n",
    "equations boxnormUP, boxnormLO, rdef;\n",
    "\n",
    "rdef(i)..       r(i) =e= sum(k, a(i,k)*x(k)) - b(i);\n",
    "\n",
    "boxnormUP(i)..  OBJ =G= r(i);\n",
    "\n",
    "boxnormLO(i)..  OBJ =G= -r(i);\n",
    "\n",
    "model boxnorm/rdef,boxnormLO,boxnormUP/;\n",
    "solve boxnorm using lp minimizing OBJ;\n",
    "compare(k,\"Linf\") = x.l(k)"
   ]
  },
  {
   "cell_type": "code",
   "execution_count": 11,
   "metadata": {},
   "outputs": [
    {
     "data": {
      "text/html": [
       "<div>\n",
       "<style scoped>\n",
       "    .dataframe tbody tr th:only-of-type {\n",
       "        vertical-align: middle;\n",
       "    }\n",
       "\n",
       "    .dataframe tbody tr th {\n",
       "        vertical-align: top;\n",
       "    }\n",
       "\n",
       "    .dataframe thead th {\n",
       "        text-align: right;\n",
       "    }\n",
       "</style>\n",
       "<table border=\"1\" class=\"dataframe\">\n",
       "  <thead>\n",
       "    <tr style=\"text-align: right;\">\n",
       "      <th></th>\n",
       "      <th>Solver Status</th>\n",
       "      <th>Model Status</th>\n",
       "      <th>Objective</th>\n",
       "      <th>#equ</th>\n",
       "      <th>#var</th>\n",
       "      <th>Model Type</th>\n",
       "      <th>Solver</th>\n",
       "      <th>Solver Time</th>\n",
       "    </tr>\n",
       "  </thead>\n",
       "  <tbody>\n",
       "    <tr>\n",
       "      <th>0</th>\n",
       "      <td>Normal (1)</td>\n",
       "      <td>Optimal Global (1)</td>\n",
       "      <td>8.1217</td>\n",
       "      <td>301</td>\n",
       "      <td>203</td>\n",
       "      <td>LP</td>\n",
       "      <td>CPLEX</td>\n",
       "      <td>0.005</td>\n",
       "    </tr>\n",
       "  </tbody>\n",
       "</table>\n",
       "</div>"
      ],
      "text/plain": [
       "  Solver Status        Model Status  Objective #equ #var Model Type Solver  \\\n",
       "0    Normal (1)  Optimal Global (1)     8.1217  301  203         LP  CPLEX   \n",
       "\n",
       "  Solver Time  \n",
       "0       0.005  "
      ]
     },
     "execution_count": 11,
     "metadata": {},
     "output_type": "execute_result"
    }
   ],
   "source": [
    "%%gams\n",
    "equations absnormUP, absnormLO, objabs;\n",
    "\n",
    "nonnegative variable d(i)  Deviation in the ith norm;\n",
    "\n",
    "objabs..        OBJ =e= sum(i, d(i));\n",
    "\n",
    "absnormUP(i)..  d(i) =G= r(i);\n",
    "\n",
    "absnormLO(i)..  d(i) =G= -r(i);\n",
    "\n",
    "model absnorm/rdef,absnormLO,absnormUP, objabs/;\n",
    "solve absnorm using lp minimizing OBJ;\n",
    "compare(k,\"L1\") = x.l(k)"
   ]
  },
  {
   "cell_type": "code",
   "execution_count": 12,
   "metadata": {
    "slideshow": {
     "slide_type": "slide"
    }
   },
   "outputs": [
    {
     "data": {
      "text/html": [
       "<div>\n",
       "<style scoped>\n",
       "    .dataframe tbody tr th:only-of-type {\n",
       "        vertical-align: middle;\n",
       "    }\n",
       "\n",
       "    .dataframe tbody tr th {\n",
       "        vertical-align: top;\n",
       "    }\n",
       "\n",
       "    .dataframe thead th {\n",
       "        text-align: right;\n",
       "    }\n",
       "</style>\n",
       "<table border=\"1\" class=\"dataframe\">\n",
       "  <thead>\n",
       "    <tr style=\"text-align: right;\">\n",
       "      <th></th>\n",
       "      <th>Solver Status</th>\n",
       "      <th>Model Status</th>\n",
       "      <th>Objective</th>\n",
       "      <th>#equ</th>\n",
       "      <th>#var</th>\n",
       "      <th>Model Type</th>\n",
       "      <th>Solver</th>\n",
       "      <th>Solver Time</th>\n",
       "    </tr>\n",
       "  </thead>\n",
       "  <tbody>\n",
       "    <tr>\n",
       "      <th>0</th>\n",
       "      <td>Normal (1)</td>\n",
       "      <td>OptimalLocal (2)</td>\n",
       "      <td>1.0007</td>\n",
       "      <td>101</td>\n",
       "      <td>103</td>\n",
       "      <td>QCP</td>\n",
       "      <td>CONOPT</td>\n",
       "      <td>0.007</td>\n",
       "    </tr>\n",
       "  </tbody>\n",
       "</table>\n",
       "</div>"
      ],
      "text/plain": [
       "  Solver Status      Model Status  Objective #equ #var Model Type  Solver  \\\n",
       "0    Normal (1)  OptimalLocal (2)     1.0007  101  103        QCP  CONOPT   \n",
       "\n",
       "  Solver Time  \n",
       "0       0.007  "
      ]
     },
     "execution_count": 12,
     "metadata": {},
     "output_type": "execute_result"
    }
   ],
   "source": [
    "%%gams\n",
    "\n",
    "equations       objdef;\n",
    "\n",
    "objdef..        obj =e= sum(i, sqr(r(i)));\n",
    "\n",
    "model lsqr /objdef, rdef/;\n",
    "solve lsqr using qcp minimizing OBJ;\n",
    "compare(k,\"L2\") = x.l(k);"
   ]
  },
  {
   "cell_type": "code",
   "execution_count": 13,
   "metadata": {},
   "outputs": [
    {
     "data": {
      "text/html": [
       "<div>\n",
       "<style scoped>\n",
       "    .dataframe tbody tr th:only-of-type {\n",
       "        vertical-align: middle;\n",
       "    }\n",
       "\n",
       "    .dataframe tbody tr th {\n",
       "        vertical-align: top;\n",
       "    }\n",
       "\n",
       "    .dataframe thead th {\n",
       "        text-align: right;\n",
       "    }\n",
       "</style>\n",
       "<table border=\"1\" class=\"dataframe\">\n",
       "  <thead>\n",
       "    <tr style=\"text-align: right;\">\n",
       "      <th></th>\n",
       "      <th>x0</th>\n",
       "      <th>Linf</th>\n",
       "      <th>L1</th>\n",
       "      <th>L2</th>\n",
       "    </tr>\n",
       "  </thead>\n",
       "  <tbody>\n",
       "    <tr>\n",
       "      <th>k1</th>\n",
       "      <td>1.865521</td>\n",
       "      <td>1.871575</td>\n",
       "      <td>1.864296</td>\n",
       "      <td>1.861592</td>\n",
       "    </tr>\n",
       "    <tr>\n",
       "      <th>k2</th>\n",
       "      <td>0.697531</td>\n",
       "      <td>0.716341</td>\n",
       "      <td>0.706407</td>\n",
       "      <td>0.705419</td>\n",
       "    </tr>\n",
       "  </tbody>\n",
       "</table>\n",
       "</div>"
      ],
      "text/plain": [
       "          x0      Linf        L1        L2\n",
       "k1  1.865521  1.871575  1.864296  1.861592\n",
       "k2  0.697531  0.716341  0.706407  0.705419"
      ]
     },
     "metadata": {},
     "output_type": "display_data"
    }
   ],
   "source": [
    "display(m['compare'].pivot())"
   ]
  },
  {
   "cell_type": "markdown",
   "metadata": {},
   "source": [
    "What about the k-norm?  (k largest absolute values of r)\n",
    "See lecture notes and Gaudiso/Hiriart-Urruty paper\n",
    "k = 1 gives inf norm\n",
    "k = n gives L1 norm"
   ]
  },
  {
   "cell_type": "code",
   "execution_count": 14,
   "metadata": {},
   "outputs": [
    {
     "data": {
      "text/html": [
       "<div>\n",
       "<style scoped>\n",
       "    .dataframe tbody tr th:only-of-type {\n",
       "        vertical-align: middle;\n",
       "    }\n",
       "\n",
       "    .dataframe tbody tr th {\n",
       "        vertical-align: top;\n",
       "    }\n",
       "\n",
       "    .dataframe thead th {\n",
       "        text-align: right;\n",
       "    }\n",
       "</style>\n",
       "<table border=\"1\" class=\"dataframe\">\n",
       "  <thead>\n",
       "    <tr style=\"text-align: right;\">\n",
       "      <th></th>\n",
       "      <th>Solver Status</th>\n",
       "      <th>Model Status</th>\n",
       "      <th>Objective</th>\n",
       "      <th>#equ</th>\n",
       "      <th>#var</th>\n",
       "      <th>Model Type</th>\n",
       "      <th>Solver</th>\n",
       "      <th>Solver Time</th>\n",
       "    </tr>\n",
       "  </thead>\n",
       "  <tbody>\n",
       "    <tr>\n",
       "      <th>0</th>\n",
       "      <td>Normal (1)</td>\n",
       "      <td>Optimal Global (1)</td>\n",
       "      <td>0.6905</td>\n",
       "      <td>301</td>\n",
       "      <td>504</td>\n",
       "      <td>LP</td>\n",
       "      <td>CPLEX</td>\n",
       "      <td>0.003</td>\n",
       "    </tr>\n",
       "  </tbody>\n",
       "</table>\n",
       "</div>"
      ],
      "text/plain": [
       "  Solver Status        Model Status  Objective #equ #var Model Type Solver  \\\n",
       "0    Normal (1)  Optimal Global (1)     0.6905  301  504         LP  CPLEX   \n",
       "\n",
       "  Solver Time  \n",
       "0       0.003  "
      ]
     },
     "execution_count": 14,
     "metadata": {},
     "output_type": "execute_result"
    }
   ],
   "source": [
    "%%gams\n",
    "$set k 3\n",
    "\n",
    "positive variables p(i), q(i), u(i), v(i), w;\n",
    "equations defr(i), defn(i), defobj;\n",
    "\n",
    "defobj..\n",
    "  obj =e= sum(i, p(i) + q(i)) + %k%*w;\n",
    "\n",
    "defr(i)..\n",
    "  p(i) - q(i) + u(i) - v(i) =e= r(i);\n",
    "\n",
    "defn(i)..\n",
    "   -u(i) - v(i) + w =e= 0;\n",
    "\n",
    "model knorm /rdef,defr,defn,defobj/;\n",
    "solve knorm using lp min obj;"
   ]
  },
  {
   "cell_type": "code",
   "execution_count": 15,
   "metadata": {},
   "outputs": [
    {
     "data": {
      "text/plain": [
       "0.6904787865111004"
      ]
     },
     "metadata": {},
     "output_type": "display_data"
    }
   ],
   "source": [
    "# sum of 3 largest residuals\n",
    "import numpy as np\n",
    "display(np.sum(np.sort(np.abs(m['r'].records.level))[-3:]))"
   ]
  },
  {
   "cell_type": "code",
   "execution_count": 16,
   "metadata": {},
   "outputs": [
    {
     "data": {
      "text/html": [
       "<div>\n",
       "<style scoped>\n",
       "    .dataframe tbody tr th:only-of-type {\n",
       "        vertical-align: middle;\n",
       "    }\n",
       "\n",
       "    .dataframe tbody tr th {\n",
       "        vertical-align: top;\n",
       "    }\n",
       "\n",
       "    .dataframe thead th {\n",
       "        text-align: right;\n",
       "    }\n",
       "</style>\n",
       "<table border=\"1\" class=\"dataframe\">\n",
       "  <thead>\n",
       "    <tr style=\"text-align: right;\">\n",
       "      <th></th>\n",
       "      <th>k</th>\n",
       "      <th>level</th>\n",
       "      <th>marginal</th>\n",
       "      <th>lower</th>\n",
       "      <th>upper</th>\n",
       "      <th>scale</th>\n",
       "    </tr>\n",
       "  </thead>\n",
       "  <tbody>\n",
       "    <tr>\n",
       "      <th>0</th>\n",
       "      <td>k1</td>\n",
       "      <td>1.852687</td>\n",
       "      <td>0.0</td>\n",
       "      <td>-inf</td>\n",
       "      <td>inf</td>\n",
       "      <td>1.0</td>\n",
       "    </tr>\n",
       "    <tr>\n",
       "      <th>1</th>\n",
       "      <td>k2</td>\n",
       "      <td>0.705917</td>\n",
       "      <td>0.0</td>\n",
       "      <td>-inf</td>\n",
       "      <td>inf</td>\n",
       "      <td>1.0</td>\n",
       "    </tr>\n",
       "  </tbody>\n",
       "</table>\n",
       "</div>"
      ],
      "text/plain": [
       "    k     level  marginal  lower  upper  scale\n",
       "0  k1  1.852687       0.0   -inf    inf    1.0\n",
       "1  k2  0.705917       0.0   -inf    inf    1.0"
      ]
     },
     "metadata": {},
     "output_type": "display_data"
    }
   ],
   "source": [
    "display(m['x'].records[['k','level']])"
   ]
  },
  {
   "cell_type": "markdown",
   "metadata": {},
   "source": [
    "## Parametric regression\n",
    "\n",
    "We are given noisy data points $(z_i, y_i)$ (the training set).\n",
    "- We suspect they are related by \n",
    "$$y\\approx pz^2+qz+r =: \\phi(z; x)$$ \n",
    "- Find $x = (p, q, r)$ so $\\phi(z; x)$ best agrees with the data $y$.\n",
    "\n",
    "Writing all the equations:\n",
    "$$\n",
    "\\begin{array}{c}\n",
    "y_1 \\approx pz_1^2+qz_1+r \\\\\n",
    "y_2 \\approx pz_2^2+qz_2+r \\\\\n",
    "\\vdots \\\\\n",
    "y_m \\approx pz_m^2+qz_m+r \n",
    "\\end{array}\n",
    "\\Rightarrow\n",
    "      \\begin{bmatrix} y_1 \\\\ y_2 \\\\ \\vdots \\\\ y_m\n",
    "      \\end{bmatrix}\n",
    "      \\approx\n",
    "      \\begin{bmatrix} z_1^2 & z_1 & 1 \\\\ z_2^2 & z_2 & 1 \\\\ \\vdots & \\vdots & \\vdots \\\\ \n",
    "        z_m^2 & z_m & 1 \n",
    "      \\end{bmatrix}\n",
    "      \\begin{bmatrix} p \\\\ q \\\\ r\n",
    "      \\end{bmatrix}\n",
    "      =: A x\n",
    "$$\n",
    "- $a_i^T = (z_i^2, z_i, 1)$ for $i=1,\\ldots,m$\n",
    "- Curve fitting problem is also called parametric regression"
   ]
  },
  {
   "cell_type": "markdown",
   "metadata": {},
   "source": [
    "## More complicated:\n",
    "\n",
    "-  $y \\approx p e^z + q \\cos(z) - r \\sqrt{z} + s z^3$\n",
    "- Find $x = (p, q, r, s)$ that best agrees with the data\n",
    "-  Writing all the equations:\n",
    "$$\n",
    "      \\begin{bmatrix} y_1 \\\\ y_2 \\\\ \\vdots \\\\ y_m\n",
    "      \\end{bmatrix}\n",
    "      \\approx\n",
    "      \\begin{bmatrix} e^{z_1} & \\cos(z_1) & -\\sqrt{z_1} & z_1^3 \\\\ e^{z_2} & \\cos(z_2) & -\\sqrt{z_2} & z_2^3 \\\\ \\vdots & \\vdots & \\vdots & \\vdots \\\\ \n",
    "        e^{z_m} & \\cos(z_m) & -\\sqrt{z_m} & z_m^3  \n",
    "      \\end{bmatrix}\n",
    "      \\begin{bmatrix} p \\\\ q \\\\ r \\\\ s \n",
    "      \\end{bmatrix}\n",
    "      =: A x\n",
    "$$\n",
    "- $a_i^T = (e^z_i, \\cos(z_i), -\\sqrt{z_i},  z_i^3)$ for $i=1,\\ldots,m$; $\\phi(z; x) = p e^z + q \\cos(z) - r \\sqrt{z} + s z^3$\n",
    "- Still a linear least squares problem (data is nonlinear)"
   ]
  },
  {
   "cell_type": "code",
   "execution_count": 17,
   "metadata": {},
   "outputs": [],
   "source": [
    "%gams_cleanup --closedown"
   ]
  },
  {
   "cell_type": "code",
   "execution_count": null,
   "metadata": {},
   "outputs": [],
   "source": []
  }
 ],
 "metadata": {
  "celltoolbar": "幻灯片",
  "kernelspec": {
   "display_name": "Python 3 (ipykernel)",
   "language": "python",
   "name": "python3"
  },
  "language_info": {
   "codemirror_mode": {
    "name": "ipython",
    "version": 3
   },
   "file_extension": ".py",
   "mimetype": "text/x-python",
   "name": "python",
   "nbconvert_exporter": "python",
   "pygments_lexer": "ipython3",
   "version": "3.10.12"
  }
 },
 "nbformat": 4,
 "nbformat_minor": 4
}
