{
 "cells": [
  {
   "cell_type": "markdown",
   "metadata": {},
   "source": [
    "CS524: Introduction to Optimization Lecture 18\n",
    "======================================\n",
    "\n",
    "## Michael Ferris<br> Computer Sciences Department <br> University of Wisconsin-Madison\n",
    "\n",
    "## October 16, 2023\n",
    "--------------"
   ]
  },
  {
   "cell_type": "markdown",
   "metadata": {},
   "source": [
    "### Set Covering\n",
    "\n",
    "- Suppose we are given a base set S = {1,2,...m} (customers)\n",
    "- We're also given a set of subsets (routes) of S:\n",
    "    - base set: S = {1,2,3,4,5,6}\n",
    "    - set of subsets of S:  C = {{1,2},{1,3,5},{1,2,4,5},{4,5},{3,6}}\n",
    "- A set of subsets C **\"covers\"** S if every element of S is in at least of of the sets in C. In this problem, it means that all customers are \"covered\" -- Everyone gets delivery\n",
    "- The set $C_{1}$ = {{1,2},{1,4,5},{3,6}} is a cover\n",
    "- **Possible goal**: find a cover with minimum cost\n",
    "- If we choose subset i in cover:  $x_{1}$ = 1\n",
    "\n",
    "Each route has a cost (distance from one customer to another customer, may visit one customer more than one time)\n"
   ]
  },
  {
   "cell_type": "markdown",
   "metadata": {},
   "source": [
    "### Formulation:\n",
    "Minimize: $x_{1} + x_{2} + x_{3}+ x_{4}+ x_{5}$  \n",
    "-  Number of $x_{i}$ = Number of different routes\n",
    "\n",
    "<br /> Subject to\n",
    "<br /> $x_{1}$ + $x_{2}$ + $x_{3}$ &emsp;&emsp;&emsp;&emsp;&emsp; $\\ge 1 $\n",
    "<br /> $x_{1}$ + &emsp;&ensp; + $x_{3}$ &emsp;&emsp;&emsp;&emsp;&emsp; $\\ge 1 $\n",
    "<br /> &emsp;&emsp;&emsp;$x_{2}$ &emsp;&emsp;&emsp;&emsp;&emsp;+ $x_{5}$ $\\ge 1 $\n",
    "<br /> &emsp;&emsp;&emsp;&emsp;&emsp;&ensp; $x_{3}$ + $x_{4}$ &emsp;&emsp; $\\ge 1 $\n",
    "<br /> &emsp;&emsp;&emsp;&emsp;&emsp;&ensp;&emsp;&emsp;&emsp;&emsp;&emsp;&ensp; $x_{5}$ $\\ge 1 $\n",
    "<br /> &emsp;&emsp;&emsp;&emsp;&emsp;&ensp;&emsp;&emsp;&emsp;&emsp;&emsp;&ensp; $x_{i} \\in \\big\\{ 0,1\\big\\} \\forall i$ \n",
    "- Each column corresponds to a route in the subset\n",
    "- Each (row) equation correpsonds an element (customer) on the base set. The \"$\\ge 1 $\" means that each customer must be visited at least once (get covered)\n",
    "\n"
   ]
  },
  {
   "cell_type": "code",
   "execution_count": 1,
   "metadata": {},
   "outputs": [],
   "source": [
    "%load_ext gams.magic\n",
    "m = gams.exchange_container"
   ]
  },
  {
   "cell_type": "code",
   "execution_count": 2,
   "metadata": {},
   "outputs": [],
   "source": [
    "s = m.addSet('s',description='base set',records=['a','b','c','d','e','f'])\n",
    "j = m.addSet('j',description='index of subsets',records=[i+1 for i in range(5)])\n",
    "cover = m.addSet('cover',[s,j],description=\"item i is covered by set j\",records=[\n",
    "    ('a','1'), ('b','1'),\n",
    "    ('a','2'), ('c','2'), ('e','2'),\n",
    "    ('a','3'), ('b','3'), ('d','3'), ('e','3'),\n",
    "    ('d','4'), ('e','4'),\n",
    "    ('c','5'), ('f','5')])"
   ]
  },
  {
   "cell_type": "code",
   "execution_count": 3,
   "metadata": {},
   "outputs": [
    {
     "data": {
      "text/html": [
       "<div>\n",
       "<style scoped>\n",
       "    .dataframe tbody tr th:only-of-type {\n",
       "        vertical-align: middle;\n",
       "    }\n",
       "\n",
       "    .dataframe tbody tr th {\n",
       "        vertical-align: top;\n",
       "    }\n",
       "\n",
       "    .dataframe thead th {\n",
       "        text-align: right;\n",
       "    }\n",
       "</style>\n",
       "<table border=\"1\" class=\"dataframe\">\n",
       "  <thead>\n",
       "    <tr style=\"text-align: right;\">\n",
       "      <th></th>\n",
       "      <th>Solver Status</th>\n",
       "      <th>Model Status</th>\n",
       "      <th>Objective</th>\n",
       "      <th>#equ</th>\n",
       "      <th>#var</th>\n",
       "      <th>Model Type</th>\n",
       "      <th>Solver</th>\n",
       "      <th>Solver Time</th>\n",
       "    </tr>\n",
       "  </thead>\n",
       "  <tbody>\n",
       "    <tr>\n",
       "      <th>0</th>\n",
       "      <td>Normal (1)</td>\n",
       "      <td>Optimal Global (1)</td>\n",
       "      <td>2.0</td>\n",
       "      <td>7</td>\n",
       "      <td>6</td>\n",
       "      <td>MIP</td>\n",
       "      <td>CPLEX</td>\n",
       "      <td>0.001</td>\n",
       "    </tr>\n",
       "  </tbody>\n",
       "</table>\n",
       "</div>"
      ],
      "text/plain": [
       "  Solver Status        Model Status  Objective #equ #var Model Type Solver  \\\n",
       "0    Normal (1)  Optimal Global (1)        2.0    7    6        MIP  CPLEX   \n",
       "\n",
       "  Solver Time  \n",
       "0       0.001  "
      ]
     },
     "execution_count": 3,
     "metadata": {},
     "output_type": "execute_result"
    }
   ],
   "source": [
    "%%gams\n",
    "alias (s,i);\n",
    "\n",
    "binary variables x(j);\n",
    "variable coverCost;\n",
    "\n",
    "equation coverConstraint(i), objective;\n",
    "\n",
    "objective..\n",
    "        coverCost =e= sum(j, x(j));\n",
    "\n",
    "coverConstraint(i)..\n",
    "        sum(j$cover(i,j), x(j)) =g= 1;\n",
    "\n",
    "model setcover /all/;\n",
    "\n",
    "* any optimum within <1 of the true optimum must BE the true optimum!\n",
    "setcover.optca = 0.999;\n",
    "solve setcover using mip minimizing coverCost;"
   ]
  },
  {
   "cell_type": "markdown",
   "metadata": {},
   "source": [
    "# More Set Covering: Kilroy County\n",
    "In this example, the county must determine where to build fire stations. We want to build fire stations in some of cities and ensure that at least one station is within 15 minutes driving time of each city. Assumed that there are 6 cities in Kilroy County.\n",
    "\n",
    "We would like to formulate an integer problem whose solution gives the minimum number of fire stations and their locations.\n",
    "\n",
    "- Driving Distances from city $i$ to city $j$\n",
    "\n",
    "|city|1|2|3|4|5|6|\n",
    "|----|-|-|-|-|-|-|\n",
    "|**1**|0|10|20|30|30|20|\n",
    "|**2**|10|0|25|35|20|10|\n",
    "|**3**|20|25|0|15|30|20|\n",
    "|**4**|30|35|15|0|15|25|\n",
    "|**5**|30|20|30|15|0|14|\n",
    "|**6**|20|10|20|25|14|0|\n",
    "\n",
    "- Variables: $x_j=1$ if build a fire station in city $j$\n",
    "\n",
    "For example, $x_1=1$ if we build a fire station in city $1$, then it will cover city $2$ as well since the driving time from city $1$ to city $2$ is 10, less than 15.\n",
    "\n",
    "\n",
    "In this example, we would like to select a subset of cities to meet the requirement of all cities, which is a standard set covering problem."
   ]
  },
  {
   "cell_type": "code",
   "execution_count": 4,
   "metadata": {
    "scrolled": true
   },
   "outputs": [
    {
     "data": {
      "text/html": [
       "<div>\n",
       "<style scoped>\n",
       "    .dataframe tbody tr th:only-of-type {\n",
       "        vertical-align: middle;\n",
       "    }\n",
       "\n",
       "    .dataframe tbody tr th {\n",
       "        vertical-align: top;\n",
       "    }\n",
       "\n",
       "    .dataframe thead th {\n",
       "        text-align: right;\n",
       "    }\n",
       "</style>\n",
       "<table border=\"1\" class=\"dataframe\">\n",
       "  <thead>\n",
       "    <tr style=\"text-align: right;\">\n",
       "      <th></th>\n",
       "      <th>Solver Status</th>\n",
       "      <th>Model Status</th>\n",
       "      <th>Objective</th>\n",
       "      <th>#equ</th>\n",
       "      <th>#var</th>\n",
       "      <th>Model Type</th>\n",
       "      <th>Solver</th>\n",
       "      <th>Solver Time</th>\n",
       "    </tr>\n",
       "  </thead>\n",
       "  <tbody>\n",
       "    <tr>\n",
       "      <th>0</th>\n",
       "      <td>Normal (1)</td>\n",
       "      <td>Optimal Global (1)</td>\n",
       "      <td>2.0</td>\n",
       "      <td>7</td>\n",
       "      <td>7</td>\n",
       "      <td>MIP</td>\n",
       "      <td>CPLEX</td>\n",
       "      <td>0.001</td>\n",
       "    </tr>\n",
       "  </tbody>\n",
       "</table>\n",
       "</div>"
      ],
      "text/plain": [
       "  Solver Status        Model Status  Objective #equ #var Model Type Solver  \\\n",
       "0    Normal (1)  Optimal Global (1)        2.0    7    7        MIP  CPLEX   \n",
       "\n",
       "  Solver Time  \n",
       "0       0.001  "
      ]
     },
     "execution_count": 4,
     "metadata": {},
     "output_type": "execute_result"
    }
   ],
   "source": [
    "import numpy as np\n",
    "import pandas as pd\n",
    "\n",
    "cities = [i+1 for i in range(6)]\n",
    "s = m.addSet('s',description='city',records=cities)\n",
    "j = m.addSet('j',description='city',records=cities)\n",
    "travelTime = pd.DataFrame(data=np.array([\n",
    "    [ 0,      10,     20,     30,    30,    20],\n",
    "    [10,       0,     25,     35,    20,    10],\n",
    "    [20,      25,      0,     15,    30,    20],\n",
    "    [30,      35,     15,      0,    15,    25],\n",
    "    [30,      20,     30,     15,     0,    14],\n",
    "    [20,      10,     20,     25,    14,     0]]),index=cities, columns=cities)\n",
    "inRange = gams.from2dim(travelTime<=15)\n",
    "cover = m.addSet('cover',[s,j],description=\"travel time between cities in Kilroy County\",records=inRange[inRange[0]]) \n",
    "gams.gams('display cover; solve setcover using mip minimizing coverCost;')"
   ]
  },
  {
   "cell_type": "markdown",
   "metadata": {},
   "source": [
    "## Vehicle Routing -- Determine how trucks meet consumers' demand\n",
    "\n",
    "<br />**Goal: Find a route that k trucks can go over all consumers with minimum cost**\n",
    "- You have a fleet of k trucks, each with a capacity Q.\n",
    "- You have a set of customers N = {0,1,2....N}.\n",
    "- 0 is a special \"depot\" node\n",
    "- Each customer has a demand $b_{1}$, $i \\in N$ \\ $\\{0\\}$ \n",
    "- How do route trucks to meet customer demand at minimum cost? (Can't ship to each customer more than their demand bi)\n",
    "    - A truck must visit every customer\n",
    "    - The sum of the demands on the route visiting the customer must be $\\le Q $ (Each truck can only ship Q quantity at most)\n",
    "\n",
    "\n",
    "--------------"
   ]
  },
  {
   "cell_type": "markdown",
   "metadata": {},
   "source": [
    "**Picture signifies the distribution of consumers:**\n",
    "<img src=\"https://raw.githubusercontent.com/twcmchang/Intro-to-Optimization/master/scribe/graph1.png\" width=\"200\" height=\"200\" />"
   ]
  },
  {
   "cell_type": "markdown",
   "metadata": {},
   "source": [
    "### Additional Possible Constraints\n",
    "\n",
    "- If each customer had some \"time windows\" [ $t^{-}$,$t^{+}$ ] that the routes must obey.\n",
    "- If each route had some \"fixed cost\" or had a nonlinear function of the distance traveled. (e.g. charge to give for airports)\n",
    "\n",
    "### A New Formulation Idea - Enumeration\n",
    "- Set up a new variable x for every possible route $r \\in R$\n",
    "\\begin{equation}\n",
    "  x_{r}=\\begin{cases}\n",
    "    1 & \\text{if travel on route r}.\\\\\n",
    "    0 & \\text{otherwise}.\n",
    "  \\end{cases}\n",
    "\\end{equation}\n",
    "\n",
    "- **Enumerate** all possible routes 1,2,3.... and choose the optimal one from within these routes (which satify certain criteria)\n",
    "\n",
    "<img src=\"https://raw.githubusercontent.com/twcmchang/Intro-to-Optimization/master/scribe/graph2.png\" width=\"600\" height=\"600\" />"
   ]
  },
  {
   "cell_type": "markdown",
   "metadata": {},
   "source": [
    "- **Constraints**: \n",
    "    - each customer get stuff delivered -- (for each customer, sum of $x_{i}\\ge 1 $)\n",
    "    - A refers to data matrix: (A * $x_{i}) \\ge  b_{i}$"
   ]
  },
  {
   "cell_type": "code",
   "execution_count": 5,
   "metadata": {},
   "outputs": [
    {
     "data": {
      "text/html": [
       "<div>\n",
       "<style scoped>\n",
       "    .dataframe tbody tr th:only-of-type {\n",
       "        vertical-align: middle;\n",
       "    }\n",
       "\n",
       "    .dataframe tbody tr th {\n",
       "        vertical-align: top;\n",
       "    }\n",
       "\n",
       "    .dataframe thead th {\n",
       "        text-align: right;\n",
       "    }\n",
       "</style>\n",
       "<table border=\"1\" class=\"dataframe\">\n",
       "  <thead>\n",
       "    <tr style=\"text-align: right;\">\n",
       "      <th></th>\n",
       "      <th>Solver Status</th>\n",
       "      <th>Model Status</th>\n",
       "      <th>Objective</th>\n",
       "      <th>#equ</th>\n",
       "      <th>#var</th>\n",
       "      <th>Model Type</th>\n",
       "      <th>Solver</th>\n",
       "      <th>Solver Time</th>\n",
       "    </tr>\n",
       "  </thead>\n",
       "  <tbody>\n",
       "    <tr>\n",
       "      <th>0</th>\n",
       "      <td>Normal (1)</td>\n",
       "      <td>Optimal Global (1)</td>\n",
       "      <td>2.0</td>\n",
       "      <td>6</td>\n",
       "      <td>7</td>\n",
       "      <td>MIP</td>\n",
       "      <td>CPLEX</td>\n",
       "      <td>0.001</td>\n",
       "    </tr>\n",
       "  </tbody>\n",
       "</table>\n",
       "</div>"
      ],
      "text/plain": [
       "  Solver Status        Model Status  Objective #equ #var Model Type Solver  \\\n",
       "0    Normal (1)  Optimal Global (1)        2.0    6    7        MIP  CPLEX   \n",
       "\n",
       "  Solver Time  \n",
       "0       0.001  "
      ]
     },
     "execution_count": 5,
     "metadata": {},
     "output_type": "execute_result"
    }
   ],
   "source": [
    "s = m.addSet('s',description='customers',records=[i+1 for i in range(5)])\n",
    "j = m.addSet('j',description='routes',records=['r'+str(i+1) for i in range(6)])\n",
    "cover = m.addSet('cover',[s,j],description=\"customer covered by route\",records=[\n",
    "    ('1','r1'), ('1','r4'),\n",
    "    ('2','r2'), ('2','r5'),\n",
    "    ('3','r2'), ('3','r3'),\n",
    "    ('4','r2'),\n",
    "    ('5','r1'), ('5','r3'), ('5','r6')])\n",
    "gams.gams('display cover; solve setcover using mip minimizing coverCost;')"
   ]
  },
  {
   "cell_type": "markdown",
   "metadata": {},
   "source": [
    "# Set Covering/Packing/Partitioning \n",
    "If $A$ is a matrix consisting only of $0$'s and $1$'s, then\n",
    "\n",
    "### Set covering: $min \\hspace{0.2cm} c^Tx: Ax\\ge1, x \\in\\{0,1\\}^n$\n",
    "\n",
    "- Assume the data $A$ and cost of each thing $c$ are specified. \n",
    "- We would like to choose a subset of columns of $A$ to make sure every row (or city in the previous example) being visited at least once, that is, $Ax\\ge1$. Here we use $x_i=1$ to *activate* the column $i$ in the matrix $A$.\n",
    "- We would like to find a subset of $x$ to meet the requirement with minimum cost.\n",
    "\n",
    "### Set packing: $max \\hspace{0.2cm} c^Tx: Ax\\le1, x \\in\\{0,1\\}^n$\n",
    "\n",
    "- Assume there is a base set of things, $A$. Let's maximize the things that we can get without repetition.\n",
    "- We would like to maximize the value of the things we can pack and won't choose things at the base set more than once.\n",
    "\n",
    "### Set partitioning: $min \\hspace{0.2cm} c^Tx: Ax=1, x \\in\\{0,1\\}^n$\n",
    "- Assume there is a base set of things, $A$. Let's take the same thing **exactly once** with minimum cost.\n",
    "\n",
    "### Visualization\n",
    "Here we conceptually visualize these three problems by the following graph.\n",
    "<img src=\"https://raw.githubusercontent.com/twcmchang/Intro-to-Optimization/master/scribe/set-covering-packing-partitioning.png\"></img>\n",
    "- set covering: things at the base set could be visited more than once.\n",
    "- set packing: things at the base set could **not** be visited more than once.\n",
    "- set partitioning: things at the base set should be visited exactly once.\n",
    "\n",
    "# Another Example of Set Covering - Flight Crew Scheduling\n",
    "One of the famous examples is flight crew scheduling. For this problem, we would like to determine a minimum cost set of pilots or  to use so that all flights are covered. However, it is a complicated problem because:\n",
    "- The rule that constitute a feasible pairing for a set of pilots are complicated, such as maximum flight time constraints and minimum sleep in between flights constraints.\n",
    "- The cost for a pilot is also a complicated function of flying time, time away from home, and a minimum trip guarantee.\n",
    "\n",
    "If you're trying to do that with some logical functions, it will be very complicated. But, once you know the route, you can evaluate the cost of the route, which is relatively easier. Thus, the trick they do is to list all (or most) of the feasible pairings and their cost. \n",
    "\n",
    "We therefore can formulate it as a set covering problem, where the rows are flight legs and the columns are pairings (subsets of flight legs, starting and ending in home base that obeying FAA flight regulation)."
   ]
  },
  {
   "cell_type": "code",
   "execution_count": 6,
   "metadata": {},
   "outputs": [],
   "source": [
    "%gams_cleanup --closedown"
   ]
  },
  {
   "cell_type": "code",
   "execution_count": null,
   "metadata": {},
   "outputs": [],
   "source": []
  }
 ],
 "metadata": {
  "kernelspec": {
   "display_name": "Python 3 (ipykernel)",
   "language": "python",
   "name": "python3"
  },
  "language_info": {
   "codemirror_mode": {
    "name": "ipython",
    "version": 3
   },
   "file_extension": ".py",
   "mimetype": "text/x-python",
   "name": "python",
   "nbconvert_exporter": "python",
   "pygments_lexer": "ipython3",
   "version": "3.10.12"
  }
 },
 "nbformat": 4,
 "nbformat_minor": 4
}
