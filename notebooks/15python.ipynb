{
 "cells": [
  {
   "cell_type": "markdown",
   "metadata": {
    "jp-MarkdownHeadingCollapsed": true,
    "slideshow": {
     "slide_type": "slide"
    }
   },
   "source": [
    "CS524: Introduction to Optimization Lecture 15\n",
    "======================================\n",
    "\n",
    "## Michael Ferris<br> Computer Sciences Department <br> University of Wisconsin-Madison\n",
    "\n",
    "## October 9, 2023\n",
    "--------------"
   ]
  },
  {
   "cell_type": "markdown",
   "metadata": {},
   "source": [
    "# See documentation at:  \n",
    "\n",
    "- https://www.gams.com/latest/docs/API_PY_MAGIC.html\n",
    "\n",
    "- The above link gives details on how to install gams.magic into your python environment\n",
    "\n",
    "- I did a more complete installation using\n",
    "\n",
    "conda create --name gams44 python=3.10  \n",
    "conda activate gams44  \n",
    "conda install pymssql  \n",
    "pip install gams[all] --find-links /Library/Frameworks/GAMS.framework/Resources/api/python/bdist  \n",
    "  \n",
    "I also added:  \n",
    "pip install jupyterlab  \n",
    "pip install matplotlib  \n",
    "pip install scikit-learn  \n",
    "pip install plotly  \n",
    "pip install networkx  \n",
    "pip install geopandas  \n",
    "  \n",
    "I also updated /Users/ferris/Library/Preferences/GAMS/gamsconfig.yaml to have:  \n",
    "< - GMSPYTHONLIB:  \n",
    "<     value: /Users/ferris/miniconda3/envs/gams44/lib/libpython3.10.dylib  \n",
    "<     minVersion: 44  \n",
    "  \n",
    "To run I just executed:  \n",
    "jupyter lab  \n",
    "\n",
    "- Also note that similar interfaces exist to pass data to/from the model in R or Matlab\n",
    "- https://www.gams.com/latest/docs/API_R_GAMSTRANSFER.html\n",
    "- https://www.gams.com/latest/docs/apis/matlab_gamstransfer/GAMSTRANSFER_MATLAB_GETSTARTED.html"
   ]
  },
  {
   "cell_type": "code",
   "execution_count": 1,
   "metadata": {},
   "outputs": [],
   "source": []
  },
  {
   "cell_type": "code",
   "execution_count": null,
   "metadata": {},
   "outputs": [],
   "source": []
  },
  {
   "cell_type": "code",
   "execution_count": null,
   "metadata": {},
   "outputs": [],
   "source": []
  },
  {
   "cell_type": "markdown",
   "metadata": {},
   "source": [
    "# Example files:\n",
    "\n",
    "[Top Brass LP](./04topbrass.ipynb)  \n",
    "[Shortest Path Problem](./13shortestpath.ipynb)  \n",
    "[Critical Path Problem](./14twidgetco.ipynb)  "
   ]
  },
  {
   "cell_type": "markdown",
   "metadata": {},
   "source": [
    "# Additional useful utilities:\n",
    "\n",
    "[GAMSpy IO](./16gamsio.ipynb)  \n",
    "[GAMSpy GDX file interface](./16gdx.ipynb)  \n",
    "[GAMSpy read csv file](./16gamsreadcsv.ipynb)  \n",
    "[GAMSpy write csv file](./16gamswritecsv.ipynb)  "
   ]
  },
  {
   "cell_type": "code",
   "execution_count": 5,
   "metadata": {},
   "outputs": [],
   "source": [
    "%gams_cleanup --closedown"
   ]
  },
  {
   "cell_type": "code",
   "execution_count": null,
   "metadata": {},
   "outputs": [],
   "source": []
  }
 ],
 "metadata": {
  "kernelspec": {
   "display_name": "Python 3 (ipykernel)",
   "language": "python",
   "name": "python3"
  },
  "language_info": {
   "codemirror_mode": {
    "name": "ipython",
    "version": 3
   },
   "file_extension": ".py",
   "mimetype": "text/x-python",
   "name": "python",
   "nbconvert_exporter": "python",
   "pygments_lexer": "ipython3",
   "version": "3.10.11"
  }
 },
 "nbformat": 4,
 "nbformat_minor": 4
}
