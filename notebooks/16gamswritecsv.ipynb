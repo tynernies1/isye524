{
 "cells": [
  {
   "cell_type": "markdown",
   "metadata": {
    "slideshow": {
     "slide_type": "slide"
    }
   },
   "source": [
    "CS524: Introduction to Optimization <br>Lecture 16: Write csv and excel\n",
    "======================================\n",
    "## by Michael C. Ferris<br> Computer Sciences Department <br> University of Wisconsin-Madison\n",
    "## October 11, 2023"
   ]
  },
  {
   "cell_type": "code",
   "execution_count": 1,
   "metadata": {
    "slideshow": {
     "slide_type": "slide"
    }
   },
   "outputs": [],
   "source": [
    "%load_ext gams.magic\n",
    "m = gams.exchange_container"
   ]
  },
  {
   "cell_type": "code",
   "execution_count": 2,
   "metadata": {},
   "outputs": [
    {
     "data": {
      "text/html": [
       "<div>\n",
       "<style scoped>\n",
       "    .dataframe tbody tr th:only-of-type {\n",
       "        vertical-align: middle;\n",
       "    }\n",
       "\n",
       "    .dataframe tbody tr th {\n",
       "        vertical-align: top;\n",
       "    }\n",
       "\n",
       "    .dataframe thead th {\n",
       "        text-align: right;\n",
       "    }\n",
       "</style>\n",
       "<table border=\"1\" class=\"dataframe\">\n",
       "  <thead>\n",
       "    <tr style=\"text-align: right;\">\n",
       "      <th></th>\n",
       "      <th>Solver Status</th>\n",
       "      <th>Model Status</th>\n",
       "      <th>Objective</th>\n",
       "      <th>#equ</th>\n",
       "      <th>#var</th>\n",
       "      <th>Model Type</th>\n",
       "      <th>Solver</th>\n",
       "      <th>Solver Time</th>\n",
       "    </tr>\n",
       "  </thead>\n",
       "  <tbody>\n",
       "    <tr>\n",
       "      <th>0</th>\n",
       "      <td>Normal (1)</td>\n",
       "      <td>Optimal Global (1)</td>\n",
       "      <td>153.675</td>\n",
       "      <td>6</td>\n",
       "      <td>7</td>\n",
       "      <td>LP</td>\n",
       "      <td>CPLEX</td>\n",
       "      <td>0.004</td>\n",
       "    </tr>\n",
       "  </tbody>\n",
       "</table>\n",
       "</div>"
      ],
      "text/plain": [
       "  Solver Status        Model Status  Objective #equ #var Model Type Solver  \\\n",
       "0    Normal (1)  Optimal Global (1)    153.675    6    7         LP  CPLEX   \n",
       "\n",
       "  Solver Time  \n",
       "0       0.004  "
      ]
     },
     "execution_count": 2,
     "metadata": {},
     "output_type": "execute_result"
    }
   ],
   "source": [
    "%%gams\n",
    "$Title  A Transportation Problem (TRNSPORT,SEQ=1)\n",
    "$Ontext\n",
    "\n",
    "This problem finds a least cost shipping schedule that meets\n",
    "requirements at markets and supplies at factories.\n",
    "\n",
    "\n",
    "Dantzig, G B, Chapter 3.3. In Linear Programming and Extensions. \n",
    "Princeton University Press, Princeton, New Jersey, 1963.\n",
    "\n",
    "This formulation is described in detail in:\n",
    "Rosenthal, R E, Chapter 2: A GAMS Tutorial. In GAMS: A User's Guide. \n",
    "The Scientific Press, Redwood City, California, 1988.\n",
    "\n",
    "The line numbers will not match those in the book because of these \n",
    "comments.\n",
    "\n",
    "$Offtext\n",
    "\n",
    "\n",
    "  Sets\n",
    "       i   canning plants   / seattle, san-diego /\n",
    "       j   markets          / new-york, chicago, topeka / ;\n",
    "\n",
    "  Parameters\n",
    "\n",
    "       a(i)  capacity of plant i in cases\n",
    "         /    seattle     350\n",
    "              san-diego   600  /\n",
    "\n",
    "       b(j)  demand at market j in cases\n",
    "         /    new-york    325\n",
    "              chicago     300\n",
    "              topeka      275  / ;\n",
    "\n",
    "  Table d(i,j)  distance in thousands of miles\n",
    "                    new-york       chicago      topeka\n",
    "      seattle          2.5           1.7          1.8\n",
    "      san-diego        2.5           1.8          1.4  ;\n",
    "\n",
    "  Scalar f  freight in dollars per case per thousand miles  /90/ ;\n",
    "\n",
    "  Parameter c(i,j)  transport cost in thousands of dollars per case ;\n",
    "\n",
    "            c(i,j) = f * d(i,j) / 1000 ;\n",
    "\n",
    "  Variables\n",
    "       x(i,j)  shipment quantities in cases\n",
    "       z       total transportation costs in thousands of dollars ;\n",
    "\n",
    "  Positive Variable x ;\n",
    "\n",
    "  Equations\n",
    "       cost        define objective function\n",
    "       supply(i)   observe supply limit at plant i\n",
    "       demand(j)   satisfy demand at market j ;\n",
    "\n",
    "  cost ..        z  =e=  sum((i,j), c(i,j)*x(i,j)) ;\n",
    "\n",
    "  supply(i) ..   sum(j, x(i,j))  =l=  a(i) ;\n",
    "\n",
    "  demand(j) ..   sum(i, x(i,j))  =g=  b(j) ;\n",
    "\n",
    "  Model transport /all/ ;\n",
    "\n",
    "Solve transport using lp minimizing z ;"
   ]
  },
  {
   "cell_type": "markdown",
   "metadata": {},
   "source": [
    "## CSV output via put statements (execution time)"
   ]
  },
  {
   "cell_type": "code",
   "execution_count": 3,
   "metadata": {},
   "outputs": [],
   "source": [
    "%%gams\n",
    "\n",
    "file results / trnsport_outG.csv /;\n",
    "put results;\n",
    "results.pc = 2;\n",
    "put results \"i,j,level,marginal,lower,upper,scale\"/;\n",
    "results.pc = 5;\n",
    "loop((i,j), put i.tl, j.tl, x.l(i,j), x.m(i,j), x.lo(i,j), x.up(i,j), x.scale(i,j) / );\n",
    "putclose;"
   ]
  },
  {
   "cell_type": "markdown",
   "metadata": {
    "slideshow": {
     "slide_type": "slide"
    }
   },
   "source": [
    "# CSV output using pandas"
   ]
  },
  {
   "cell_type": "code",
   "execution_count": 4,
   "metadata": {
    "slideshow": {
     "slide_type": "slide"
    }
   },
   "outputs": [],
   "source": [
    "# Create a Pandas dataframe from some GAMS data (x variable).\n",
    "x = m.data['x'].records\n",
    "\n",
    "# Export to csv file\n",
    "x.to_csv('trnsport_outP.csv', index = False)"
   ]
  },
  {
   "cell_type": "markdown",
   "metadata": {},
   "source": [
    "# CSV output via Connect (execution time)"
   ]
  },
  {
   "cell_type": "code",
   "execution_count": 5,
   "metadata": {},
   "outputs": [],
   "source": [
    "%%gams\n",
    "\n",
    "* Only level values of x exported\n",
    "\n",
    "EmbeddedCode Connect:\n",
    "- GAMSReader:\n",
    "    symbols: [ {name: c}, {name: x} ]\n",
    "- Projection:\n",
    "    name: x.l(i,j)\n",
    "    newName: x_level(i,j)\n",
    "- CSVWriter:\n",
    "    file: trnsport_outC.csv\n",
    "    name: c\n",
    "    unstack: False\n",
    "- CSVWriter:\n",
    "    file: shipment_quantities.csv\n",
    "    name: x_level\n",
    "    unstack: True\n",
    "endEmbeddedCode\n"
   ]
  },
  {
   "cell_type": "markdown",
   "metadata": {},
   "source": [
    "## CSV output via Connect and gdx file (execution time)"
   ]
  },
  {
   "cell_type": "code",
   "execution_count": 6,
   "metadata": {
    "scrolled": true,
    "slideshow": {
     "slide_type": "slide"
    }
   },
   "outputs": [],
   "source": [
    "%%gams\n",
    "\n",
    "# Can do this via gdx file and GDXReader\n",
    "execute_unload \"trnsport_output\", i,j,a,b,c,d,f,x,z,cost,supply,demand;\n",
    "\n",
    "EmbeddedCode Connect:\n",
    "- GDXReader:\n",
    "    file: trnsport_output.gdx\n",
    "    symbols: [ {name: c}, {name: x} ]\n",
    "- Projection:\n",
    "    name: x.l(i,j)\n",
    "    newName: x_level(i,j)\n",
    "- CSVWriter:\n",
    "    file: trnsport_c.csv\n",
    "    name: c\n",
    "    unstack: False\n",
    "- CSVWriter:\n",
    "    file: trnsport_outC.csv\n",
    "    name: x_level\n",
    "    unstack: True\n",
    "endEmbeddedCode"
   ]
  },
  {
   "cell_type": "code",
   "execution_count": 7,
   "metadata": {},
   "outputs": [],
   "source": [
    "# could also do in python via connectDB\n",
    "from gams.connect import ConnectDatabase\n",
    "cdb = ConnectDatabase(gams._system_directory, gams)\n",
    "cdb.exec_task({'GDXReader': {'file': 'trnsport_output.gdx', 'symbols': [{'name': 'x'}]}})\n",
    "cdb.exec_task({'Projection': {'name': 'x.l(i,j)', 'newName': 'x_level(i,j)'}})\n",
    "cdb.exec_task({'CSVWriter': {'file': 'trnsport_outC.csv', 'name': 'x_level', 'unstack': True}})"
   ]
  },
  {
   "cell_type": "markdown",
   "metadata": {},
   "source": [
    "# Excel output via pandas writer"
   ]
  },
  {
   "cell_type": "code",
   "execution_count": 8,
   "metadata": {
    "slideshow": {
     "slide_type": "slide"
    }
   },
   "outputs": [],
   "source": [
    "import pandas as pd\n",
    "\n",
    "# Create a Pandas dataframe from some GAMS data (x variable).\n",
    "x = m.data['x'].records\n",
    "d = m.data['d'].records\n",
    "\n",
    "# Create a Pandas Excel writer\n",
    "excel_file = 'trnsport_output.xlsx'\n",
    "writer = pd.ExcelWriter(excel_file)\n",
    "\n",
    "# Convert the dataframe to an XlsxWriter Excel object.\n",
    "# Can write multiple sheets using this routine\n",
    "x.to_excel(writer, sheet_name='Sheet1')\n",
    "d.to_excel(writer, sheet_name='Sheet2')\n",
    "\n",
    "# Close the Pandas Excel writer and output the Excel file.\n",
    "writer.close()"
   ]
  },
  {
   "cell_type": "code",
   "execution_count": 9,
   "metadata": {},
   "outputs": [],
   "source": [
    "%gams_cleanup --closedown"
   ]
  },
  {
   "cell_type": "code",
   "execution_count": null,
   "metadata": {},
   "outputs": [],
   "source": []
  }
 ],
 "metadata": {
  "celltoolbar": "Slideshow",
  "kernelspec": {
   "display_name": "Python 3 (ipykernel)",
   "language": "python",
   "name": "python3"
  },
  "language_info": {
   "codemirror_mode": {
    "name": "ipython",
    "version": 3
   },
   "file_extension": ".py",
   "mimetype": "text/x-python",
   "name": "python",
   "nbconvert_exporter": "python",
   "pygments_lexer": "ipython3",
   "version": "3.10.12"
  }
 },
 "nbformat": 4,
 "nbformat_minor": 4
}
