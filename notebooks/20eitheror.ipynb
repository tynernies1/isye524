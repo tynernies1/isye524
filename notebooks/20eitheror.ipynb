{
 "cells": [
  {
   "cell_type": "markdown",
   "metadata": {
    "slideshow": {
     "slide_type": "slide"
    }
   },
   "source": [
    "CS524: Introduction to Optimization Lecture 20\n",
    "======================================\n",
    "\n",
    "## Michael Ferris<br> Computer Sciences Department <br> University of Wisconsin-Madison\n",
    "\n",
    "## October 25, 2019\n",
    "--------------"
   ]
  },
  {
   "cell_type": "code",
   "execution_count": 1,
   "metadata": {
    "slideshow": {
     "slide_type": "slide"
    }
   },
   "outputs": [],
   "source": [
    "%load_ext gams.magic\n",
    "m = gams.exchange_container"
   ]
  },
  {
   "cell_type": "markdown",
   "metadata": {},
   "source": [
    "### Either-Or constraints and semiint variables\n",
    "\n",
    "Dorian Auto is considering manufacturing three types of autos: \n",
    "compact, midsize and large.  The resources required for, and the \n",
    "profits yielded by, each type of car are shown below.\n",
    "At present 6,000 tons of steel and 60,000 hours of labor are avaiable.\n",
    "In order for production of a type of car to be economically feasible, at \n",
    "least 1,000 cars of that type must be produced.  \n",
    "Formulate an IP to maximize Dorian's profit."
   ]
  },
  {
   "cell_type": "code",
   "execution_count": 2,
   "metadata": {
    "slideshow": {
     "slide_type": "slide"
    }
   },
   "outputs": [],
   "source": [
    "%%gams\n",
    "set type /compact, midsize, tank/;\n",
    "set ingredients /labor  \"in hours\"\n",
    "               steel  \"in tons\"/;\n",
    "table resources(ingredients,type)\n",
    "      compact   midsize   tank\n",
    "steel  1.5        3        5\n",
    "labor  30         25       40;\n",
    "\n",
    "parameter profit(type) / compact 2, midsize 3, tank 4/;\n",
    "\n",
    "parameter available(ingredients) / steel 6000, labor 60000/;\n",
    "\n",
    "* minimum amount of a car to be produced, for viability\n",
    "scalar carsRequired / 1000 / \n",
    "       bigM         / 3000 /;"
   ]
  },
  {
   "cell_type": "markdown",
   "metadata": {},
   "source": [
    "Now solve the model"
   ]
  },
  {
   "cell_type": "code",
   "execution_count": 3,
   "metadata": {},
   "outputs": [
    {
     "data": {
      "text/html": [
       "<div>\n",
       "<style scoped>\n",
       "    .dataframe tbody tr th:only-of-type {\n",
       "        vertical-align: middle;\n",
       "    }\n",
       "\n",
       "    .dataframe tbody tr th {\n",
       "        vertical-align: top;\n",
       "    }\n",
       "\n",
       "    .dataframe thead th {\n",
       "        text-align: right;\n",
       "    }\n",
       "</style>\n",
       "<table border=\"1\" class=\"dataframe\">\n",
       "  <thead>\n",
       "    <tr style=\"text-align: right;\">\n",
       "      <th></th>\n",
       "      <th>Solver Status</th>\n",
       "      <th>Model Status</th>\n",
       "      <th>Objective</th>\n",
       "      <th>#equ</th>\n",
       "      <th>#var</th>\n",
       "      <th>Model Type</th>\n",
       "      <th>Solver</th>\n",
       "      <th>Solver Time</th>\n",
       "    </tr>\n",
       "  </thead>\n",
       "  <tbody>\n",
       "    <tr>\n",
       "      <th>0</th>\n",
       "      <td>Normal (1)</td>\n",
       "      <td>Optimal Global (1)</td>\n",
       "      <td>6000.0</td>\n",
       "      <td>9</td>\n",
       "      <td>7</td>\n",
       "      <td>MIP</td>\n",
       "      <td>CPLEX</td>\n",
       "      <td>0.013</td>\n",
       "    </tr>\n",
       "  </tbody>\n",
       "</table>\n",
       "</div>"
      ],
      "text/plain": [
       "  Solver Status        Model Status  Objective #equ #var Model Type Solver  \\\n",
       "0    Normal (1)  Optimal Global (1)     6000.0    9    7        MIP  CPLEX   \n",
       "\n",
       "  Solver Time  \n",
       "0       0.013  "
      ]
     },
     "execution_count": 3,
     "metadata": {},
     "output_type": "execute_result"
    }
   ],
   "source": [
    "%%gams\n",
    "integer variables cars(type)   \"how many cars of this type\";\n",
    "cars.lo(type)=0;\n",
    "cars.up(type)=bigM;\n",
    "variable totalProfit;\n",
    "binary variable produce(type)  \"produce this type of car\";\n",
    "\n",
    "equations\n",
    "        EQeither(type)   \"either constraint\"\n",
    "        EQor(type)       \"or constraint\"\n",
    "        resourceConstraint\n",
    "        objective;\n",
    "\n",
    "EQeither(type)..\n",
    "        cars(type) =l= bigM*produce(type);\n",
    "EQor(type)..\n",
    "        carsRequired - cars(type) =l= bigM*(1-produce(type));\n",
    "\n",
    "resourceConstraint(ingredients)..\n",
    "        sum(type,resources(ingredients,type)*cars(type)) =l= \n",
    "                 available(ingredients);\n",
    "\n",
    "objective..\n",
    "        totalProfit =e= sum(type,profit(type)*cars(type));\n",
    "\n",
    "model dorian/EQeither, EQor, resourceConstraint, objective/;\n",
    "\n",
    "option limrow=0, limcol=0;\n",
    "dorian.optcr=0;\n",
    "\n",
    "solve dorian using mip maximizing totalProfit;"
   ]
  },
  {
   "cell_type": "code",
   "execution_count": 4,
   "metadata": {},
   "outputs": [
    {
     "name": "stdout",
     "output_type": "stream",
     "text": [
      "Total Profit is 6000.0\n",
      "cars built:\n",
      " compact        0\n",
      " midsize     2000\n",
      "    tank        0\n"
     ]
    }
   ],
   "source": [
    "cars = m.data['cars'].records\n",
    "totalProfit = m.data['totalProfit'].toValue()\n",
    "print('Total Profit is {:5.1f}'.format(totalProfit))\n",
    "print('cars built:')\n",
    "for t in range(len(cars.index)):\n",
    "    print('{0:>8s} {1:8.0f}'.format(cars['type'][t],cars['level'][t]))"
   ]
  },
  {
   "cell_type": "code",
   "execution_count": 11,
   "metadata": {},
   "outputs": [
    {
     "name": "stdout",
     "output_type": "stream",
     "text": [
      "Total Profit is 6000.0\n",
      "cars built:\n",
      " compact        0\n",
      " midsize     2000\n",
      "    tank        0\n"
     ]
    }
   ],
   "source": [
    "# Alternative form of output\n",
    "cars = m.data['cars'].toList()\n",
    "print('Total Profit is {:5.1f}'.format(totalProfit))\n",
    "print('cars built:')\n",
    "for x in cars:\n",
    "    print('{0:>8s} {1:8.0f}'.format(x[0],x[1]))"
   ]
  },
  {
   "cell_type": "markdown",
   "metadata": {},
   "source": [
    "Now solve the model with semiint variables"
   ]
  },
  {
   "cell_type": "code",
   "execution_count": 12,
   "metadata": {
    "scrolled": true,
    "slideshow": {
     "slide_type": "slide"
    }
   },
   "outputs": [
    {
     "data": {
      "text/html": [
       "<div>\n",
       "<style scoped>\n",
       "    .dataframe tbody tr th:only-of-type {\n",
       "        vertical-align: middle;\n",
       "    }\n",
       "\n",
       "    .dataframe tbody tr th {\n",
       "        vertical-align: top;\n",
       "    }\n",
       "\n",
       "    .dataframe thead th {\n",
       "        text-align: right;\n",
       "    }\n",
       "</style>\n",
       "<table border=\"1\" class=\"dataframe\">\n",
       "  <thead>\n",
       "    <tr style=\"text-align: right;\">\n",
       "      <th></th>\n",
       "      <th>Solver Status</th>\n",
       "      <th>Model Status</th>\n",
       "      <th>Objective</th>\n",
       "      <th>#equ</th>\n",
       "      <th>#var</th>\n",
       "      <th>Model Type</th>\n",
       "      <th>Solver</th>\n",
       "      <th>Solver Time</th>\n",
       "    </tr>\n",
       "  </thead>\n",
       "  <tbody>\n",
       "    <tr>\n",
       "      <th>0</th>\n",
       "      <td>Normal (1)</td>\n",
       "      <td>Optimal Global (1)</td>\n",
       "      <td>6000.0</td>\n",
       "      <td>3</td>\n",
       "      <td>4</td>\n",
       "      <td>MIP</td>\n",
       "      <td>CPLEX</td>\n",
       "      <td>0.013</td>\n",
       "    </tr>\n",
       "  </tbody>\n",
       "</table>\n",
       "</div>"
      ],
      "text/plain": [
       "  Solver Status        Model Status  Objective #equ #var Model Type Solver  \\\n",
       "0    Normal (1)  Optimal Global (1)     6000.0    3    4        MIP  CPLEX   \n",
       "\n",
       "  Solver Time  \n",
       "0       0.013  "
      ]
     },
     "execution_count": 12,
     "metadata": {},
     "output_type": "execute_result"
    }
   ],
   "source": [
    "%%gams\n",
    "* Note that semicont variables also exist!\n",
    "semiint variables carsI(type)   \"how many cars of this type\";\n",
    "carsI.lo(type)=carsRequired;\n",
    "carsI.up(type)=bigM;\n",
    "\n",
    "resourceConstraint(ingredients)..\n",
    "        sum(type,resources(ingredients,type)*carsI(type)) =l= \n",
    "                 available(ingredients);\n",
    "\n",
    "objective..\n",
    "        totalProfit =e= sum(type,profit(type)*carsI(type));\n",
    "\n",
    "model dorianI /resourceConstraint, objective/;\n",
    "\n",
    "option limrow=0, limcol=0;\n",
    "dorianI.optcr=0;\n",
    "\n",
    "solve dorianI using mip maximizing totalProfit;"
   ]
  },
  {
   "cell_type": "code",
   "execution_count": 13,
   "metadata": {},
   "outputs": [
    {
     "name": "stdout",
     "output_type": "stream",
     "text": [
      "Total Profit is 6000.0\n",
      "cars built:\n",
      " compact        0\n",
      " midsize     2000\n",
      "    tank        0\n"
     ]
    }
   ],
   "source": [
    "carsI = m.data['carsI'].toList()\n",
    "totalProfit = m.data['totalProfit'].toValue()\n",
    "print('Total Profit is {:5.1f}'.format(totalProfit))\n",
    "print('cars built:')\n",
    "for x in carsI:\n",
    "  print('{0:>8s} {1:8.0f}'.format(x[0],x[1]))"
   ]
  },
  {
   "cell_type": "code",
   "execution_count": 14,
   "metadata": {},
   "outputs": [],
   "source": [
    "%gams_cleanup --closedown"
   ]
  },
  {
   "cell_type": "code",
   "execution_count": null,
   "metadata": {},
   "outputs": [],
   "source": []
  }
 ],
 "metadata": {
  "kernelspec": {
   "display_name": "Python 3 (ipykernel)",
   "language": "python",
   "name": "python3"
  },
  "language_info": {
   "codemirror_mode": {
    "name": "ipython",
    "version": 3
   },
   "file_extension": ".py",
   "mimetype": "text/x-python",
   "name": "python",
   "nbconvert_exporter": "python",
   "pygments_lexer": "ipython3",
   "version": "3.10.11"
  }
 },
 "nbformat": 4,
 "nbformat_minor": 4
}
