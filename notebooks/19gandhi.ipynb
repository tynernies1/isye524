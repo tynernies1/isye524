{
 "cells": [
  {
   "cell_type": "markdown",
   "metadata": {
    "slideshow": {
     "slide_type": "slide"
    }
   },
   "source": [
    "CS524: Introduction to Optimization Lecture 19\n",
    "======================================\n",
    "\n",
    "## Michael Ferris<br> Computer Sciences Department <br> University of Wisconsin-Madison\n",
    "\n",
    "## October 18, 2023\n",
    "--------------"
   ]
  },
  {
   "cell_type": "code",
   "execution_count": 1,
   "metadata": {
    "slideshow": {
     "slide_type": "slide"
    }
   },
   "outputs": [],
   "source": [
    "%load_ext gams.magic\n",
    "m = gams.exchange_container"
   ]
  },
  {
   "cell_type": "markdown",
   "metadata": {},
   "source": [
    "#  Gandhi (Winston, p 463)\n",
    "\n",
    "A clothing manufacturer can make shirts, shorts, and pants. A different machine must be rented to make each of these three items. A shirt machine costs \\\\$200/month to rent, while a shorts machine costs \\\\$150/month and a pants machine costs \\\\$100/month. (The manufacturer can choose not to rent a shirt machine, for example, but in this case he cannot make any shirts.) Each shirt requires 3 hours of labor and 4 square yards of cloth; each pair of pants requires 6 hours of labor and 4 square yards of cloth; each pair of shorts requires 2 hours of labor and 3 square yards of cloth. The total amount of labor available is 150 hours, and there are 160 square yards of cloth.\n",
    "\n",
    "Each shirt sells for \\\\$12 and costs \\\\$6 to make. Each pair of shorts sells for \\\\$8 and costs \\\\$4 to make, while each pair of pants sells for \\\\$15 and costs \\\\$8 to make.\n",
    "\n",
    "Determine which item(s) should be manufactured, and how many of each."
   ]
  },
  {
   "cell_type": "code",
   "execution_count": 2,
   "metadata": {
    "slideshow": {
     "slide_type": "slide"
    }
   },
   "outputs": [],
   "source": [
    "%%gams\n",
    "set item /shirt, shorts, pants/;\n",
    "set input /   labor    \"hours available per week\"\n",
    "              cloth    \"sq yards available per week\"/;\n",
    "set revcost / price    \"selling price in dollars\"\n",
    "              var-cost \"variable cost in dollars\"/;\n",
    "\n",
    "parameter rentmach(item) \"cost of rental in dollars/week\"\n",
    "          / shirt 200, shorts 150, pants 100/;\n",
    "\n",
    "* Table 2 from Winston\n",
    "table requirements(item,input)\n",
    "      labor     cloth\n",
    "shirt   3         4\n",
    "shorts  2         3\n",
    "pants   6         4;\n",
    "\n",
    "* Table 3 from Winston\n",
    "table revenue(item,revcost)\n",
    "        price   var-cost\n",
    "shirt    12        6\n",
    "shorts   8         4\n",
    "pants    15        8;\n",
    "\n",
    "parameter resources (input) / labor 150, cloth 160/;\n",
    "scalar bigM /1000/;\n",
    "\n",
    "positive variable amount(item);\n",
    "binary variable useMachine(item);\n",
    "variable profit;\n",
    "\n",
    "equations EQresources(input), EQrental(item), objective;\n",
    "\n",
    "EQresources(input)..\n",
    "        sum(item,requirements(item,input)*amount(item)) =l= resources(input);\n",
    "    \n",
    "EQrental(item)..\n",
    "        amount(item) =l= useMachine(item)*bigM;\n",
    "    \n",
    "objective..\n",
    "        profit =e=   sum(item, revenue(item,'price')*amount(item))\n",
    "                   - sum(item, revenue(item,'var-cost')*amount(item)) \n",
    "                   - sum(item, rentmach(item) * useMachine(item));\n",
    "\n",
    "model fixedCostExample/all/;"
   ]
  },
  {
   "cell_type": "markdown",
   "metadata": {},
   "source": [
    "Set the relative optimality tolerance (gap) to 0, then solve bigM problem:"
   ]
  },
  {
   "cell_type": "code",
   "execution_count": 3,
   "metadata": {},
   "outputs": [
    {
     "data": {
      "text/html": [
       "<div>\n",
       "<style scoped>\n",
       "    .dataframe tbody tr th:only-of-type {\n",
       "        vertical-align: middle;\n",
       "    }\n",
       "\n",
       "    .dataframe tbody tr th {\n",
       "        vertical-align: top;\n",
       "    }\n",
       "\n",
       "    .dataframe thead th {\n",
       "        text-align: right;\n",
       "    }\n",
       "</style>\n",
       "<table border=\"1\" class=\"dataframe\">\n",
       "  <thead>\n",
       "    <tr style=\"text-align: right;\">\n",
       "      <th></th>\n",
       "      <th>Solver Status</th>\n",
       "      <th>Model Status</th>\n",
       "      <th>Objective</th>\n",
       "      <th>#equ</th>\n",
       "      <th>#var</th>\n",
       "      <th>Model Type</th>\n",
       "      <th>Solver</th>\n",
       "      <th>Solver Time</th>\n",
       "    </tr>\n",
       "  </thead>\n",
       "  <tbody>\n",
       "    <tr>\n",
       "      <th>0</th>\n",
       "      <td>Normal (1)</td>\n",
       "      <td>Optimal Global (1)</td>\n",
       "      <td>75.0</td>\n",
       "      <td>6</td>\n",
       "      <td>7</td>\n",
       "      <td>MIP</td>\n",
       "      <td>CPLEX</td>\n",
       "      <td>0.004</td>\n",
       "    </tr>\n",
       "  </tbody>\n",
       "</table>\n",
       "</div>"
      ],
      "text/plain": [
       "  Solver Status        Model Status  Objective #equ #var Model Type Solver  \\\n",
       "0    Normal (1)  Optimal Global (1)       75.0    6    7        MIP  CPLEX   \n",
       "\n",
       "  Solver Time  \n",
       "0       0.004  "
      ]
     },
     "execution_count": 3,
     "metadata": {},
     "output_type": "execute_result"
    },
    {
     "name": "stdout",
     "output_type": "stream",
     "text": [
      "amount =\n",
      "      item  level\n",
      "0   shirt    0.0\n",
      "1  shorts    0.0\n",
      "2   pants   25.0\n",
      "use machines =\n",
      "      item  level\n",
      "0   shirt    0.0\n",
      "1  shorts    0.0\n",
      "2   pants    1.0\n"
     ]
    }
   ],
   "source": [
    "gams.gams('fixedCostExample.optcr=0; solve fixedCostExample using mip maximizing profit;')\n",
    "print(f\"amount =\\n {m['amount'].records[['item','level']]}\\nuse machines =\\n {m['useMachine'].records[['item','level']]}\")"
   ]
  },
  {
   "cell_type": "markdown",
   "metadata": {},
   "source": [
    "Use cplex with indicator constraints (turn on EQrental2 if useMachine = 0)"
   ]
  },
  {
   "cell_type": "code",
   "execution_count": 4,
   "metadata": {},
   "outputs": [
    {
     "data": {
      "text/html": [
       "<div>\n",
       "<style scoped>\n",
       "    .dataframe tbody tr th:only-of-type {\n",
       "        vertical-align: middle;\n",
       "    }\n",
       "\n",
       "    .dataframe tbody tr th {\n",
       "        vertical-align: top;\n",
       "    }\n",
       "\n",
       "    .dataframe thead th {\n",
       "        text-align: right;\n",
       "    }\n",
       "</style>\n",
       "<table border=\"1\" class=\"dataframe\">\n",
       "  <thead>\n",
       "    <tr style=\"text-align: right;\">\n",
       "      <th></th>\n",
       "      <th>Solver Status</th>\n",
       "      <th>Model Status</th>\n",
       "      <th>Objective</th>\n",
       "      <th>#equ</th>\n",
       "      <th>#var</th>\n",
       "      <th>Model Type</th>\n",
       "      <th>Solver</th>\n",
       "      <th>Solver Time</th>\n",
       "    </tr>\n",
       "  </thead>\n",
       "  <tbody>\n",
       "    <tr>\n",
       "      <th>0</th>\n",
       "      <td>Normal (1)</td>\n",
       "      <td>Optimal Global (1)</td>\n",
       "      <td>75.0</td>\n",
       "      <td>6</td>\n",
       "      <td>7</td>\n",
       "      <td>MIP</td>\n",
       "      <td>CPLEX</td>\n",
       "      <td>0.003</td>\n",
       "    </tr>\n",
       "  </tbody>\n",
       "</table>\n",
       "</div>"
      ],
      "text/plain": [
       "  Solver Status        Model Status  Objective #equ #var Model Type Solver  \\\n",
       "0    Normal (1)  Optimal Global (1)       75.0    6    7        MIP  CPLEX   \n",
       "\n",
       "  Solver Time  \n",
       "0       0.003  "
      ]
     },
     "execution_count": 4,
     "metadata": {},
     "output_type": "execute_result"
    }
   ],
   "source": [
    "%%gams\n",
    "$onecho > cplex.opt\n",
    "indic EQrental2(item)$useMachine(item) 0\n",
    "$offecho\n",
    "\n",
    "equations EQrental2(item);\n",
    "\n",
    "EQrental2(item)..\n",
    "        amount(item) =e= 0;\n",
    "\n",
    "model fixedCostExample2/EQresources, EQrental2, objective/;\n",
    "fixedCostExample2.optfile=1;\n",
    "fixedCostExample2.optcr=0; \n",
    "\n",
    "solve fixedCostExample2 using mip maximizing profit;"
   ]
  },
  {
   "cell_type": "code",
   "execution_count": 5,
   "metadata": {},
   "outputs": [
    {
     "name": "stdout",
     "output_type": "stream",
     "text": [
      "amount =\n",
      "      item  level\n",
      "0   shirt    0.0\n",
      "1  shorts    0.0\n",
      "2   pants   25.0\n",
      "use machines =\n",
      "      item  level\n",
      "0   shirt    0.0\n",
      "1  shorts    0.0\n",
      "2   pants    1.0\n"
     ]
    }
   ],
   "source": [
    "print(f\"amount =\\n {m['amount'].records[['item','level']]}\\nuse machines =\\n {m['useMachine'].records[['item','level']]}\")"
   ]
  },
  {
   "cell_type": "markdown",
   "metadata": {},
   "source": [
    "Modify problem to have different costs, capacities and multiple machines"
   ]
  },
  {
   "cell_type": "code",
   "execution_count": 6,
   "metadata": {
    "slideshow": {
     "slide_type": "slide"
    }
   },
   "outputs": [
    {
     "data": {
      "text/html": [
       "<div>\n",
       "<style scoped>\n",
       "    .dataframe tbody tr th:only-of-type {\n",
       "        vertical-align: middle;\n",
       "    }\n",
       "\n",
       "    .dataframe tbody tr th {\n",
       "        vertical-align: top;\n",
       "    }\n",
       "\n",
       "    .dataframe thead th {\n",
       "        text-align: right;\n",
       "    }\n",
       "</style>\n",
       "<table border=\"1\" class=\"dataframe\">\n",
       "  <thead>\n",
       "    <tr style=\"text-align: right;\">\n",
       "      <th></th>\n",
       "      <th>Solver Status</th>\n",
       "      <th>Model Status</th>\n",
       "      <th>Objective</th>\n",
       "      <th>#equ</th>\n",
       "      <th>#var</th>\n",
       "      <th>Model Type</th>\n",
       "      <th>Solver</th>\n",
       "      <th>Solver Time</th>\n",
       "    </tr>\n",
       "  </thead>\n",
       "  <tbody>\n",
       "    <tr>\n",
       "      <th>0</th>\n",
       "      <td>Normal (1)</td>\n",
       "      <td>Optimal Global (1)</td>\n",
       "      <td>126.0</td>\n",
       "      <td>6</td>\n",
       "      <td>7</td>\n",
       "      <td>MIP</td>\n",
       "      <td>CPLEX</td>\n",
       "      <td>0.003</td>\n",
       "    </tr>\n",
       "  </tbody>\n",
       "</table>\n",
       "</div>"
      ],
      "text/plain": [
       "  Solver Status        Model Status  Objective #equ #var Model Type Solver  \\\n",
       "0    Normal (1)  Optimal Global (1)      126.0    6    7        MIP  CPLEX   \n",
       "\n",
       "  Solver Time  \n",
       "0       0.003  "
      ]
     },
     "execution_count": 6,
     "metadata": {},
     "output_type": "execute_result"
    }
   ],
   "source": [
    "%%gams\n",
    "parameter rentmach(item) \"cost of rental in dollars/week\"\n",
    "          / shirt 30, shorts 50, pants 20/;\n",
    "\n",
    "parameter capacityMachine(item) \"capacity of each machine\"\n",
    "          / shirt 10, shorts 10, pants 8/;\n",
    "    \n",
    "integer  variable numberMachines(item);\n",
    "\n",
    "* No change to form of equations, just data\n",
    "EQrental(item)..\n",
    "        amount(item) =l= numberMachines(item)*capacityMachine(item);\n",
    "\n",
    "objective..\n",
    "        profit =e=   sum(item, revenue(item,'price')*amount(item))\n",
    "                   - sum(item, revenue(item,'var-cost')*amount(item)) \n",
    "                   - sum(item, rentmach(item) * numberMachines(item));\n",
    "            \n",
    "model fixedCostExample /EQresources, EQrental, objective/;\n",
    "\n",
    "solve fixedCostExample using mip maximizing profit;"
   ]
  },
  {
   "cell_type": "code",
   "execution_count": 7,
   "metadata": {
    "scrolled": true
   },
   "outputs": [
    {
     "name": "stdout",
     "output_type": "stream",
     "text": [
      "amount =\n",
      "      item  level\n",
      "0   shirt   30.0\n",
      "1  shorts    0.0\n",
      "2   pants    8.0\n",
      "number machines =\n",
      "      item  level\n",
      "0   shirt    3.0\n",
      "1  shorts    0.0\n",
      "2   pants    1.0\n"
     ]
    }
   ],
   "source": [
    "print(f\"amount =\\n {m['amount'].records[['item','level']]}\\nnumber machines =\\n {m['numberMachines'].records[['item','level']]}\")"
   ]
  },
  {
   "cell_type": "code",
   "execution_count": 8,
   "metadata": {
    "slideshow": {
     "slide_type": "slide"
    }
   },
   "outputs": [],
   "source": [
    "%gams_cleanup --closedown"
   ]
  },
  {
   "cell_type": "code",
   "execution_count": null,
   "metadata": {},
   "outputs": [],
   "source": []
  }
 ],
 "metadata": {
  "kernelspec": {
   "display_name": "Python 3 (ipykernel)",
   "language": "python",
   "name": "python3"
  },
  "language_info": {
   "codemirror_mode": {
    "name": "ipython",
    "version": 3
   },
   "file_extension": ".py",
   "mimetype": "text/x-python",
   "name": "python",
   "nbconvert_exporter": "python",
   "pygments_lexer": "ipython3",
   "version": "3.10.12"
  }
 },
 "nbformat": 4,
 "nbformat_minor": 4
}
