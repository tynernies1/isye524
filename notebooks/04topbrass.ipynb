{
 "cells": [
  {
   "cell_type": "markdown",
   "metadata": {
    "slideshow": {
     "slide_type": "slide"
    }
   },
   "source": [
    "CS524: Introduction to Optimization Lecture 4\n",
    "======================================\n",
    "\n",
    "## Michael Ferris<br> Computer Sciences Department <br> University of Wisconsin-Madison\n",
    "\n",
    "## October 9, 2023\n",
    "--------------"
   ]
  },
  {
   "cell_type": "markdown",
   "metadata": {
    "slideshow": {
     "slide_type": "slide"
    }
   },
   "source": [
    "## Recall: TopBrass Algebraic Model\n",
    "\n",
    "$$\\max z$$\n",
    "subject to\n",
    "\\begin{eqnarray*}\n",
    "12 x_1 + 9 x_2 & = & z \\qquad \\mbox{(Define Profit)}\\\\\n",
    "x_1 & \\leq & 1000 \\qquad \\mbox{(Football inventory)}\\\\\n",
    "x_2 & \\leq & 1500 \\qquad \\mbox{(Soccer ball inventory)}\\\\\n",
    "x_1 + x_2 & \\leq & 1750 \\qquad \\mbox{(Plaque inventory)}\\\\\n",
    "4 x_1 + 2 x_2 & \\leq & 4800 \\qquad \\mbox{(Wood inventory)}\\\\\n",
    "x_1, x_2 & \\geq & 0 \\qquad \\mbox{(Antimatter inventory)}\n",
    "\\end{eqnarray*}\n",
    "\n",
    "--------------"
   ]
  },
  {
   "cell_type": "markdown",
   "metadata": {
    "slideshow": {
     "slide_type": "slide"
    }
   },
   "source": [
    "## BigTopBrass\n",
    "\n",
    "### We're Going Big Time!\n",
    "- A General Goal: We'd like to think of an abstract model\n",
    "----------------------------------\n",
    "\n",
    "- What if instead of 2 products, we had 20,000.\n",
    "- What if instead of 3 resources required to make the products, we had 3000?\n",
    "\n",
    "----------\n",
    "\n",
    "|Symbol| Description|\n",
    "|---|---|\n",
    "| $I$ | Set of items (types of trophies) to sell |\n",
    "| $R$ | Set of resources requires to make items |\n",
    "| $c_i$ | Per-unit profit of producing $i \\in  I$ |\n",
    "| $u_i$ | Maximum number of $i \\in I$ to produce |\n",
    "| $b_r$ | Available Amt. of resource $r \\in R$ |\n",
    "| $a_{ri}$ | Amount of resource $r \\in R$ required to produce one $i \\in I$ |\n",
    "\n",
    "----------"
   ]
  },
  {
   "cell_type": "markdown",
   "metadata": {
    "slideshow": {
     "slide_type": "slide"
    }
   },
   "source": [
    "## BigTopBrass\n",
    "\n",
    "$$ \\max \\sum_{i \\in I}{c_ix_i}$$\n",
    "\n",
    "s.t.\n",
    "\n",
    "$$\\sum_{i \\in I}{a_{ri}  x_i} \\leq b_r,  \\forall_r \\in R$$\n",
    "$$ x_i \\leq u_i,  \\forall_i \\in I$$\n",
    "$$ x_i \\geq 0,  \\forall_i \\in I$$\n",
    "\n",
    "--- \n",
    "\n",
    "Matrix Form: \n",
    "$$ \\max_{0 \\leq x \\leq u} {\\{ c^Tx | Ax \\leq b \\}} $$\n",
    "\n",
    "---\n",
    "\n",
    "### Next steps\n",
    "- Learn how to put this 'symbolic' model into GAMS - using sets!\n",
    "- Separate data, model and post processing\n",
    "- Use an exchange container to move data to/from GAMS"
   ]
  },
  {
   "cell_type": "markdown",
   "metadata": {
    "slideshow": {
     "slide_type": "slide"
    }
   },
   "source": [
    "In order to use GAMS, we have to load GAMS extension. Running the next script will load it and set up exchange container."
   ]
  },
  {
   "cell_type": "code",
   "execution_count": 1,
   "metadata": {
    "slideshow": {
     "slide_type": "slide"
    }
   },
   "outputs": [],
   "source": [
    "%load_ext gams.magic\n",
    "m = gams.exchange_container"
   ]
  },
  {
   "cell_type": "markdown",
   "metadata": {
    "slideshow": {
     "slide_type": "slide"
    }
   },
   "source": [
    "We show how to do pre/post processing in python, with only the model solved in GAMS."
   ]
  },
  {
   "cell_type": "markdown",
   "metadata": {
    "slideshow": {
     "slide_type": "slide"
    }
   },
   "source": [
    "### GAMS tip\n",
    "\n",
    "Right now, we will declare a set and a new decision variable on that set. You can do it by running the following code.\n"
   ]
  },
  {
   "cell_type": "code",
   "execution_count": 2,
   "metadata": {},
   "outputs": [
    {
     "name": "stderr",
     "output_type": "stream",
     "text": [
      "c:\\Users\\Rocke\\anaconda3\\envs\\gams\\Lib\\site-packages\\gams\\transfer\\syms\\_mixins\\spve.py:1006: FutureWarning: is_categorical_dtype is deprecated and will be removed in a future version. Use isinstance(dtype, CategoricalDtype) instead\n",
      "  if not is_categorical_dtype(self.records[i]):\n",
      "c:\\Users\\Rocke\\anaconda3\\envs\\gams\\Lib\\site-packages\\gams\\transfer\\syms\\_mixins\\spve.py:1006: FutureWarning: is_categorical_dtype is deprecated and will be removed in a future version. Use isinstance(dtype, CategoricalDtype) instead\n",
      "  if not is_categorical_dtype(self.records[i]):\n",
      "c:\\Users\\Rocke\\anaconda3\\envs\\gams\\Lib\\site-packages\\gams\\transfer\\syms\\_mixins\\spve.py:1006: FutureWarning: is_categorical_dtype is deprecated and will be removed in a future version. Use isinstance(dtype, CategoricalDtype) instead\n",
      "  if not is_categorical_dtype(self.records[i]):\n",
      "c:\\Users\\Rocke\\anaconda3\\envs\\gams\\Lib\\site-packages\\gams\\transfer\\syms\\_mixins\\spve.py:1006: FutureWarning: is_categorical_dtype is deprecated and will be removed in a future version. Use isinstance(dtype, CategoricalDtype) instead\n",
      "  if not is_categorical_dtype(self.records[i]):\n",
      "c:\\Users\\Rocke\\anaconda3\\envs\\gams\\Lib\\site-packages\\gams\\transfer\\syms\\_mixins\\spve.py:1006: FutureWarning: is_categorical_dtype is deprecated and will be removed in a future version. Use isinstance(dtype, CategoricalDtype) instead\n",
      "  if not is_categorical_dtype(self.records[i]):\n",
      "c:\\Users\\Rocke\\anaconda3\\envs\\gams\\Lib\\site-packages\\gams\\transfer\\syms\\_mixins\\spve.py:1006: FutureWarning: is_categorical_dtype is deprecated and will be removed in a future version. Use isinstance(dtype, CategoricalDtype) instead\n",
      "  if not is_categorical_dtype(self.records[i]):\n"
     ]
    }
   ],
   "source": [
    "%%gams\n",
    "set I /football,soccer/;\n",
    "set R /plaques,wood/;\n",
    "\n",
    "table a(R,I)  \"Per-Unit resource requirements\"\n",
    "         football   soccer\n",
    "plaques     1         1\n",
    "wood        4         2  ;\n",
    "\n",
    "parameters\n",
    "    c(I) / \"football\" 12, \"soccer\" 9 /\n",
    "    u(I) / \"football\" 1000 , \"soccer\"  1500 /\n",
    "    b(R) / \"plaques\"  1750,  \"wood\"  4800 /;\n",
    "\n",
    "* VARIABLE AND EQUATION DECLARATIONS\n",
    "free variable profit \"total profit\";\n",
    "\n",
    "positive variables\n",
    "x(I)     \"number trophies\" ;"
   ]
  },
  {
   "cell_type": "markdown",
   "metadata": {},
   "source": [
    "Alternatively, you can use the following to generate the same data"
   ]
  },
  {
   "cell_type": "code",
   "execution_count": 3,
   "metadata": {},
   "outputs": [],
   "source": [
    "# DATA\n",
    "import numpy as np\n",
    "\n",
    "i = m.addSet('I',records=['football','soccer'])\n",
    "r = m.addSet('R',records=['plaques','wood'])\n",
    "c = m.addParameter('c',[i],records=np.array([12., 9.]))\n",
    "b = m.addParameter('b',[r],records=np.array([1750., 4800.]))\n",
    "a = m.addParameter('a',[r,i],records=np.array([[1., 1.], [4., 2.]]),description=\"Per-Unit resource requirements\")\n",
    "                    \n",
    "profit = m.addVariable('profit','free',description=\"total profit\")\n",
    "x = m.addVariable('x','positive',[i],description=\"number trophies\",records={\"upper\": np.array([1000., 1500.])})\n",
    "#m.addEquation('profit_eq','e',description=\"profit definition\")\n",
    "#m.addEquation('resource_con','l',[r],description=\"resource limit\");\n",
    "#m.write('tbdata.gdx')"
   ]
  },
  {
   "cell_type": "markdown",
   "metadata": {
    "slideshow": {
     "slide_type": "slide"
    }
   },
   "source": [
    "### MODEL: topbrass4.gms\n",
    "- Now note that we can use $\\sum_{i\\in I}$ notation in GAMS\n",
    "- Following code must be in GAMS\n",
    "- Suggest debugging this in GAMS Studio and then copy/pasting into Jupyter cell"
   ]
  },
  {
   "cell_type": "code",
   "execution_count": 4,
   "metadata": {
    "slideshow": {
     "slide_type": "slide"
    }
   },
   "outputs": [
    {
     "data": {
      "text/html": [
       "<div>\n",
       "<style scoped>\n",
       "    .dataframe tbody tr th:only-of-type {\n",
       "        vertical-align: middle;\n",
       "    }\n",
       "\n",
       "    .dataframe tbody tr th {\n",
       "        vertical-align: top;\n",
       "    }\n",
       "\n",
       "    .dataframe thead th {\n",
       "        text-align: right;\n",
       "    }\n",
       "</style>\n",
       "<table border=\"1\" class=\"dataframe\">\n",
       "  <thead>\n",
       "    <tr style=\"text-align: right;\">\n",
       "      <th></th>\n",
       "      <th>Solver Status</th>\n",
       "      <th>Model Status</th>\n",
       "      <th>Objective</th>\n",
       "      <th>#equ</th>\n",
       "      <th>#var</th>\n",
       "      <th>Model Type</th>\n",
       "      <th>Solver</th>\n",
       "      <th>Solver Time</th>\n",
       "    </tr>\n",
       "  </thead>\n",
       "  <tbody>\n",
       "    <tr>\n",
       "      <th>0</th>\n",
       "      <td>Normal (1)</td>\n",
       "      <td>Optimal Global (1)</td>\n",
       "      <td>17700.0</td>\n",
       "      <td>3</td>\n",
       "      <td>3</td>\n",
       "      <td>LP</td>\n",
       "      <td>CPLEX</td>\n",
       "      <td>0.021</td>\n",
       "    </tr>\n",
       "  </tbody>\n",
       "</table>\n",
       "</div>"
      ],
      "text/plain": [
       "  Solver Status        Model Status  Objective #equ #var Model Type Solver  \\\n",
       "0    Normal (1)  Optimal Global (1)    17700.0    3    3         LP  CPLEX   \n",
       "\n",
       "  Solver Time  \n",
       "0       0.021  "
      ]
     },
     "execution_count": 4,
     "metadata": {},
     "output_type": "execute_result"
    }
   ],
   "source": [
    "%%gams\n",
    "equation \n",
    "    profit_eq \"profit definition\",\n",
    "    resource_con(R) \"resource limit\";\n",
    "\n",
    "* EQUATION (MODEL) DEFINITION\n",
    "profit_eq..\n",
    "  profit =E= sum(I,c(I)*x(I));\n",
    "\n",
    "resource_con(R)..\n",
    "  sum(I, a(R,I)*x(I)) =L= b(R);\n",
    "\n",
    "model btb /all/;\n",
    "\n",
    "solve btb using lp maximizing profit;"
   ]
  },
  {
   "cell_type": "markdown",
   "metadata": {
    "slideshow": {
     "slide_type": "slide"
    }
   },
   "source": [
    "While declaring variables, if you redeclare the variable with another domain(set or sets), it will throw an exception. "
   ]
  },
  {
   "cell_type": "markdown",
   "metadata": {
    "slideshow": {
     "slide_type": "slide"
    }
   },
   "source": [
    "# POST-PROCESSING: \n",
    "Let's pull the solution and see x"
   ]
  },
  {
   "cell_type": "code",
   "execution_count": 5,
   "metadata": {
    "scrolled": true,
    "slideshow": {
     "slide_type": "slide"
    }
   },
   "outputs": [
    {
     "data": {
      "text/html": [
       "<div>\n",
       "<style scoped>\n",
       "    .dataframe tbody tr th:only-of-type {\n",
       "        vertical-align: middle;\n",
       "    }\n",
       "\n",
       "    .dataframe tbody tr th {\n",
       "        vertical-align: top;\n",
       "    }\n",
       "\n",
       "    .dataframe thead th {\n",
       "        text-align: right;\n",
       "    }\n",
       "</style>\n",
       "<table border=\"1\" class=\"dataframe\">\n",
       "  <thead>\n",
       "    <tr style=\"text-align: right;\">\n",
       "      <th></th>\n",
       "      <th>I</th>\n",
       "      <th>level</th>\n",
       "      <th>marginal</th>\n",
       "      <th>lower</th>\n",
       "      <th>upper</th>\n",
       "      <th>scale</th>\n",
       "    </tr>\n",
       "  </thead>\n",
       "  <tbody>\n",
       "    <tr>\n",
       "      <th>0</th>\n",
       "      <td>football</td>\n",
       "      <td>650.0</td>\n",
       "      <td>0.0</td>\n",
       "      <td>0.0</td>\n",
       "      <td>1000.0</td>\n",
       "      <td>1.0</td>\n",
       "    </tr>\n",
       "    <tr>\n",
       "      <th>1</th>\n",
       "      <td>soccer</td>\n",
       "      <td>1100.0</td>\n",
       "      <td>0.0</td>\n",
       "      <td>0.0</td>\n",
       "      <td>1500.0</td>\n",
       "      <td>1.0</td>\n",
       "    </tr>\n",
       "  </tbody>\n",
       "</table>\n",
       "</div>"
      ],
      "text/plain": [
       "          I   level  marginal  lower   upper  scale\n",
       "0  football   650.0       0.0    0.0  1000.0    1.0\n",
       "1    soccer  1100.0       0.0    0.0  1500.0    1.0"
      ]
     },
     "metadata": {},
     "output_type": "display_data"
    }
   ],
   "source": [
    "# x = m.data['x']\n",
    "display(x.records)"
   ]
  },
  {
   "cell_type": "markdown",
   "metadata": {
    "slideshow": {
     "slide_type": "slide"
    }
   },
   "source": [
    "- You may have noticed that we have a new column, representing the set X is declared on, added to table."
   ]
  },
  {
   "cell_type": "markdown",
   "metadata": {
    "slideshow": {
     "slide_type": "slide"
    }
   },
   "source": [
    "### Display Statements and Postprocessing\n",
    "- After the solve statement, one may not want to display the final values of the variables but rather some “processed” form.\n",
    "- Suppose we wanted to know the final percentage of footballs and soccer balls in the final total."
   ]
  },
  {
   "cell_type": "code",
   "execution_count": 6,
   "metadata": {
    "slideshow": {
     "slide_type": "slide"
    }
   },
   "outputs": [],
   "source": [
    "%%gams\n",
    "alias (I,J);\n",
    "parameter pct(I);\n",
    "pct(I) = 100*x.l(I) / sum(J,x.l(J));\n",
    "display pct;"
   ]
  },
  {
   "cell_type": "markdown",
   "metadata": {
    "slideshow": {
     "slide_type": "slide"
    }
   },
   "source": [
    "- Note the use of alias (I,J);—I is already “under control”, so it cannot be used again\n",
    "- Another alternative for postprocessing is Python."
   ]
  },
  {
   "cell_type": "code",
   "execution_count": 7,
   "metadata": {
    "scrolled": true,
    "slideshow": {
     "slide_type": "slide"
    }
   },
   "outputs": [
    {
     "name": "stdout",
     "output_type": "stream",
     "text": [
      "E x e c u t i o n\n",
      "\n",
      "\n",
      "----     66 PARAMETER pct  \n",
      "\n",
      "football 37.143,    soccer   62.857\n",
      "\n",
      "\n",
      "\n"
     ]
    },
    {
     "data": {
      "text/html": [
       "<div>\n",
       "<style scoped>\n",
       "    .dataframe tbody tr th:only-of-type {\n",
       "        vertical-align: middle;\n",
       "    }\n",
       "\n",
       "    .dataframe tbody tr th {\n",
       "        vertical-align: top;\n",
       "    }\n",
       "\n",
       "    .dataframe thead th {\n",
       "        text-align: right;\n",
       "    }\n",
       "</style>\n",
       "<table border=\"1\" class=\"dataframe\">\n",
       "  <thead>\n",
       "    <tr style=\"text-align: right;\">\n",
       "      <th></th>\n",
       "      <th>value</th>\n",
       "    </tr>\n",
       "    <tr>\n",
       "      <th>I</th>\n",
       "      <th></th>\n",
       "    </tr>\n",
       "  </thead>\n",
       "  <tbody>\n",
       "    <tr>\n",
       "      <th>football</th>\n",
       "      <td>37.142857</td>\n",
       "    </tr>\n",
       "    <tr>\n",
       "      <th>soccer</th>\n",
       "      <td>62.857143</td>\n",
       "    </tr>\n",
       "  </tbody>\n",
       "</table>\n",
       "</div>"
      ],
      "text/plain": [
       "              value\n",
       "I                  \n",
       "football  37.142857\n",
       "soccer    62.857143"
      ]
     },
     "metadata": {},
     "output_type": "display_data"
    },
    {
     "data": {
      "text/plain": [
       "array([0.37142857, 0.62857143])"
      ]
     },
     "metadata": {},
     "output_type": "display_data"
    }
   ],
   "source": [
    "gams.gams_lst('-e')\n",
    "display(m.data['pct'].records.set_index('I'))\n",
    "\n",
    "# convert x into a dense numpy.array format\n",
    "xL = m.data['x'].toDense()\n",
    "display(xL/np.sum(xL))\n",
    "# display(m.data['pct'].toDict() ) # or toList() or toDense()"
   ]
  },
  {
   "cell_type": "markdown",
   "metadata": {
    "slideshow": {
     "slide_type": "slide"
    }
   },
   "source": [
    "### GAMS Functions\n",
    "\n",
    "- GAMS has functions. See Section 6.3.3.\n",
    "    - `uniform(x,y)`: Returns uniform number between x and y     \n",
    "    - `round(x)`: Round x to the nearest integer\n",
    "    - ...\n",
    "\n",
    "Try it in gams (bigtopbrass.gms) or in python as follow:"
   ]
  },
  {
   "cell_type": "code",
   "execution_count": 8,
   "metadata": {
    "slideshow": {
     "slide_type": "slide"
    }
   },
   "outputs": [],
   "source": [
    "rng = np.random.default_rng(seed=123)\n",
    "\n",
    "i = m.addSet('I',records=['t'+str(v+1) for v in range(0,1000)])\n",
    "r = m.addSet('R',records=['r'+str(v+1) for v in range(0,500)])\n",
    "c = m.addParameter('c',[i],records=rng.integers(2,20,1000,endpoint=True),description=\"Profit margin\")\n",
    "b = m.addParameter('b',[r],records=rng.integers(5000,25000,500,endpoint=True),description=\"Amt. available\")\n",
    "a = m.addParameter('a',[r,i],records=rng.integers(1,5,(500, 1000),endpoint=True),description=\"Per-Unit resource requirements\")\n",
    "                    \n",
    "profit = m.addVariable('profit','free',description=\"total profit\")\n",
    "x = m.addVariable('x','positive',[i],description=\"number trophies\",records={\"upper\": rng.integers(500,2500,1000,endpoint=True)})"
   ]
  },
  {
   "cell_type": "code",
   "execution_count": 9,
   "metadata": {},
   "outputs": [
    {
     "data": {
      "text/html": [
       "<div>\n",
       "<style scoped>\n",
       "    .dataframe tbody tr th:only-of-type {\n",
       "        vertical-align: middle;\n",
       "    }\n",
       "\n",
       "    .dataframe tbody tr th {\n",
       "        vertical-align: top;\n",
       "    }\n",
       "\n",
       "    .dataframe thead th {\n",
       "        text-align: right;\n",
       "    }\n",
       "</style>\n",
       "<table border=\"1\" class=\"dataframe\">\n",
       "  <thead>\n",
       "    <tr style=\"text-align: right;\">\n",
       "      <th></th>\n",
       "      <th>Solver Status</th>\n",
       "      <th>Model Status</th>\n",
       "      <th>Objective</th>\n",
       "      <th>#equ</th>\n",
       "      <th>#var</th>\n",
       "      <th>Model Type</th>\n",
       "      <th>Solver</th>\n",
       "      <th>Solver Time</th>\n",
       "    </tr>\n",
       "  </thead>\n",
       "  <tbody>\n",
       "    <tr>\n",
       "      <th>0</th>\n",
       "      <td>Normal (1)</td>\n",
       "      <td>Optimal Global (1)</td>\n",
       "      <td>39958.3778</td>\n",
       "      <td>501</td>\n",
       "      <td>1001</td>\n",
       "      <td>LP</td>\n",
       "      <td>CPLEX</td>\n",
       "      <td>0.135</td>\n",
       "    </tr>\n",
       "  </tbody>\n",
       "</table>\n",
       "</div>"
      ],
      "text/plain": [
       "  Solver Status        Model Status   Objective #equ  #var Model Type Solver  \\\n",
       "0    Normal (1)  Optimal Global (1)  39958.3778  501  1001         LP  CPLEX   \n",
       "\n",
       "  Solver Time  \n",
       "0       0.135  "
      ]
     },
     "execution_count": 9,
     "metadata": {},
     "output_type": "execute_result"
    }
   ],
   "source": [
    "gams.gams('solve btb using lp maximizing profit')"
   ]
  },
  {
   "cell_type": "markdown",
   "metadata": {
    "slideshow": {
     "slide_type": "slide"
    }
   },
   "source": [
    "### Handy Debugging Tips\n",
    "- For help debugging the model, don’t set <br> `option limrow = 0, limcol = 0;` <br> GAMS will list the equations for you, up to the value of limrow and limcol. (Default 3) \n",
    "- Equations are rearranged algebraically to put all constant terms on one side of the equality or inequality\n",
    "- Current “.l” values are substituted into the “variable” side and the value of this side is printed along with feasibility/infeasibility.\n",
    "- GAMS usually doesn’t list zeros - replaces them with “.” or ignores them completely"
   ]
  },
  {
   "cell_type": "code",
   "execution_count": 10,
   "metadata": {},
   "outputs": [],
   "source": [
    "# %gams_cleanup --closedown\n",
    "gams.gams_cleanup('--closedown')"
   ]
  },
  {
   "cell_type": "code",
   "execution_count": null,
   "metadata": {},
   "outputs": [],
   "source": []
  }
 ],
 "metadata": {
  "celltoolbar": "Slideshow",
  "kernelspec": {
   "display_name": "Python 3 (ipykernel)",
   "language": "python",
   "name": "python3"
  },
  "language_info": {
   "codemirror_mode": {
    "name": "ipython",
    "version": 3
   },
   "file_extension": ".py",
   "mimetype": "text/x-python",
   "name": "python",
   "nbconvert_exporter": "python",
   "pygments_lexer": "ipython3",
   "version": "3.11.5"
  }
 },
 "nbformat": 4,
 "nbformat_minor": 4
}
