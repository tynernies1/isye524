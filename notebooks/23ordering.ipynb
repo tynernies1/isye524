{
 "cells": [
  {
   "cell_type": "markdown",
   "metadata": {
    "slideshow": {
     "slide_type": "slide"
    }
   },
   "source": [
    "# CS524: Introduction to Optimization Lecture 24\n",
    "\n",
    "# October 30, 2023"
   ]
  },
  {
   "cell_type": "code",
   "execution_count": 1,
   "metadata": {
    "slideshow": {
     "slide_type": "skip"
    }
   },
   "outputs": [],
   "source": [
    "%load_ext gams.magic\n",
    "m = gams.exchange_container\n",
    "# import pandas as pd"
   ]
  },
  {
   "cell_type": "markdown",
   "metadata": {
    "slideshow": {
     "slide_type": "slide"
    }
   },
   "source": [
    "# Ordering and Scheduling\n",
    "\n",
    "Ordering: Refers to the arrangement of events in acertain domain, subject to some constraints.\n",
    "    Example: Ordering of instructions inside a softwarepipelined loop for maximum throughput.\n",
    "-The constraint logic programming constructs are particularly useful inordering problems since they can easily encode the notions of anordering.\n",
    "-We outline below two of the main ideas applicable when a pure MIPapproach is used.\n",
    "\n",
    "Scheduling: Typically not well solved by MIP formulations. The MIP formulations are limited in size of problems that can be solved in reasonable time frames.\n",
    "    Example: Which jobs run on what machine in what order\n",
    "-Most research is currently underway to improve the size of problems that are practically tractable."
   ]
  },
  {
   "cell_type": "markdown",
   "metadata": {
    "slideshow": {
     "slide_type": "slide"
    }
   },
   "source": [
    "# Notations and Data\n",
    "\n",
    "Key information/defintions needed to solve ordering and scheduling problems:\n",
    "\n",
    "Due date:  This is a target time, typically used in an objective function. Try to get close to due date.  Compare this with the notion of adeadline, which is typically a hard constraint.\n",
    "\n",
    "Release date: The time that a job is released (from other priorprocessing, for example) and becomes available for processing.\n",
    "\n",
    "Duration: How long this task actually takes.\n",
    "\n",
    "Completion time:  = maxstartj + durj = The time the job actually starts + the duration of the job\n",
    "Makespan: Maximum completetion time \n",
    "\n",
    "Flow time: = maxjstartj + durj − releasej = time in process. \n",
    "\n",
    "Lateness: = maxjstartj+ durj − duej = How late the job is. \n",
    "*Note that the job can be early, in which case lateness is negative.  \n",
    "\n",
    "Tardiness: = maxjmax{0,startj+ durj−duej} = How tardy the job is completed. \n",
    "\n",
    "Example OPTIONS for objective:\n",
    "Minimize makespan or mean completion time\n",
    "Minimize max on mean flow time\n",
    "Minimize max or mean lateness\n",
    "Minimize max or mean tardiness"
   ]
  },
  {
   "cell_type": "markdown",
   "metadata": {
    "slideshow": {
     "slide_type": "slide"
    }
   },
   "source": [
    "# Second Formulation Option\n",
    "\n",
    "Another formulation involves ordering.\n",
    "\n",
    "\n",
    "The model implements thecondition that either item j finishes before item i starts or the converse. Such either-or constraints are termed disjunctions.  To represent the startand stop times of a particular task, we use the variables start_i and end_i.We introduce additional “violation” variables that measure how much the pair (i,j) violates the condition that j finishes before i starts (and the converse):\n",
    "\n",
    "                           end_i≤ start_j+ violation_ij and end_j ≤ start_i+ violation_ji\n",
    "\n",
    "We then add a condition that only one of these two variables violation_ij and violation_ji can be positive.\n",
    "-Force each such pair of variables to be in an SOS1 set of size 2 of the form {violationij,violationji}.  \n",
    "-Somesolvers (e.g.  CPLEX) implement the notion of indicator constraints whichprovide an alternative way to formulate disjunctions."
   ]
  },
  {
   "cell_type": "markdown",
   "metadata": {
    "slideshow": {
     "slide_type": "slide"
    }
   },
   "source": [
    "<h2>In-Class Example 1 : sequence2.gms</h2>\n",
    "<br>\n",
    "- A set of tasks is to be processed on a single machine.<br>\n",
    "- The execution of the tasks is non-preemptive (ie cannot be interrupted).<br>\n",
    "- For every task i its release date, duration and due date are given.<br>\n",
    "<br>\n",
    "Objective: What is the sequence that minimizes the maximum tardiness?  (Tips: Minimax) <br>\n",
    "<br>\n",
    "This formulation uses <font color=red>order vars</font> and bigM"
   ]
  },
  {
   "cell_type": "code",
   "execution_count": 2,
   "metadata": {
    "slideshow": {
     "slide_type": "slide"
    }
   },
   "outputs": [
    {
     "data": {
      "text/html": [
       "<div>\n",
       "<style scoped>\n",
       "    .dataframe tbody tr th:only-of-type {\n",
       "        vertical-align: middle;\n",
       "    }\n",
       "\n",
       "    .dataframe tbody tr th {\n",
       "        vertical-align: top;\n",
       "    }\n",
       "\n",
       "    .dataframe thead th {\n",
       "        text-align: right;\n",
       "    }\n",
       "</style>\n",
       "<table border=\"1\" class=\"dataframe\">\n",
       "  <thead>\n",
       "    <tr style=\"text-align: right;\">\n",
       "      <th></th>\n",
       "      <th>Solver Status</th>\n",
       "      <th>Model Status</th>\n",
       "      <th>Objective</th>\n",
       "      <th>#equ</th>\n",
       "      <th>#var</th>\n",
       "      <th>Model Type</th>\n",
       "      <th>Solver</th>\n",
       "      <th>Solver Time</th>\n",
       "    </tr>\n",
       "  </thead>\n",
       "  <tbody>\n",
       "    <tr>\n",
       "      <th>0</th>\n",
       "      <td>Normal (1)</td>\n",
       "      <td>Optimal Global (1)</td>\n",
       "      <td>9.0</td>\n",
       "      <td>63</td>\n",
       "      <td>43</td>\n",
       "      <td>MIP</td>\n",
       "      <td>CPLEX</td>\n",
       "      <td>0.012</td>\n",
       "    </tr>\n",
       "  </tbody>\n",
       "</table>\n",
       "</div>"
      ],
      "text/plain": [
       "  Solver Status        Model Status  Objective #equ #var Model Type Solver  \\\n",
       "0    Normal (1)  Optimal Global (1)        9.0   63   43        MIP  CPLEX   \n",
       "\n",
       "  Solver Time  \n",
       "0       0.012  "
      ]
     },
     "execution_count": 2,
     "metadata": {},
     "output_type": "execute_result"
    }
   ],
   "source": [
    "%%gams\n",
    "set job / 1*7 /;\n",
    "set times /release,duration,due/;\n",
    "\n",
    "table data(times,job)\n",
    "          1   2   3   4   5   6   7\n",
    "release   2   5   4           8   9\n",
    "duration  5   6   8   4   2   4   2\n",
    "due      10  21  15  10   5  15  22 ;\n",
    "\n",
    "*Setting up the big M as all the job's release time and duration\n",
    "scalar M; M = sum(job, data('release',job) + data('duration',job)); \n",
    "\n",
    "alias (job,i,j);\n",
    "\n",
    "binary variables order(i,j) \"i must be ordered before j\";\n",
    "positive variables start(j) \"start time of job j\";\n",
    "positive variables comp(j) \"completion time of job j\";\n",
    "variables late(j) \"lateness of job j\";\n",
    "variable tardiness \"tardiness of the entire system\";\n",
    "\n",
    "equations defcomp(j), disjoint1(i,j), disjoint2(i,j), deflate(j), deftard(j);\n",
    "\n",
    "defcomp(j).. comp(j) =e= start(j) + data('duration',j);\n",
    "\n",
    "* The following are either-or constraints, do paper i or paper j (Either-Or Constraints, from Lecture 20)\n",
    "disjoint1(i,j)$(ord(i) lt ord(j)).. comp(i) =l= start(j) + M*(1-order(i,j));\n",
    "\n",
    "disjoint2(i,j)$(ord(i) lt ord(j)).. comp(j) =l= start(i) + M*order(i,j);\n",
    "\n",
    "deflate(j)..\n",
    "  late(j) =e= comp(j) - data('due',j);\n",
    "\n",
    "* This is really max(0, comp(j) - data('due',j))\n",
    "deftard(j)..\n",
    "  tardiness =g= late(j);\n",
    "\n",
    "model sequence /all/;\n",
    "sequence.optcr = 0;\n",
    "sequence.threads = 3;\n",
    "sequence.reslim = 120;\n",
    "\n",
    "start.lo(j) = max(0, data('release',j));\n",
    "tardiness.lo = 0;\n",
    "\n",
    "solve sequence using mip minimizing tardiness;"
   ]
  },
  {
   "cell_type": "code",
   "execution_count": 3,
   "metadata": {
    "slideshow": {
     "slide_type": "slide"
    }
   },
   "outputs": [
    {
     "name": "stdout",
     "output_type": "stream",
     "text": [
      "Start time for each job:\n",
      "   j  level\n",
      "0  1    2.0\n",
      "1  2   23.0\n",
      "2  3   11.0\n",
      "3  4    7.0\n",
      "4  5    0.0\n",
      "5  6   19.0\n",
      "6  7   29.0\n",
      "\n",
      "Completion time for each job:\n",
      "   j  level\n",
      "0  1    7.0\n",
      "1  2   29.0\n",
      "2  3   19.0\n",
      "3  4   11.0\n",
      "4  5    2.0\n",
      "5  6   23.0\n",
      "6  7   31.0\n",
      "\n",
      "Lateness for each job:\n",
      "   j  level\n",
      "0  1   -3.0\n",
      "1  2    8.0\n",
      "2  3    4.0\n",
      "3  4    1.0\n",
      "4  5   -3.0\n",
      "5  6    8.0\n",
      "6  7    9.0\n",
      "\n",
      "Total system Tardiness:\n",
      "9.0\n"
     ]
    }
   ],
   "source": [
    "start = m['start'].records.drop(columns=['marginal','lower','upper','scale'])\n",
    "print(\"Start time for each job:\")\n",
    "print(start)\n",
    "print(\"\")\n",
    "comp = m['comp'].records.drop(columns=['marginal','lower','upper','scale'])\n",
    "print(\"Completion time for each job:\")\n",
    "print(comp)\n",
    "print(\"\")\n",
    "late = m['late'].records.drop(columns=['marginal','lower','upper','scale'])\n",
    "print(\"Lateness for each job:\")\n",
    "print(late)\n",
    "print(\"\")\n",
    "tardiness = m['tardiness']\n",
    "print(\"Total system Tardiness:\")\n",
    "print(tardiness.toValue())"
   ]
  },
  {
   "cell_type": "markdown",
   "metadata": {
    "slideshow": {
     "slide_type": "slide"
    }
   },
   "source": [
    "# First Formulation Option\n",
    "\n",
    "One formulation uses binary variables rank with the definition:\n",
    "                   rankik = 1 if item i has position k.\n",
    "                   \n",
    "The model then includes assignment type constraints that indicate each position k contains one item, and each item i has exactly one rank: sum over i -> ∑rankik = 1,∀k and sum over k -> ∑rankik= 1,∀i.\n",
    "\n",
    "It is then fairly straight forward to generate expressions for entities such asthe start time of the item in position k, for example, and thereby generate expressions for waiting time and other objectives."
   ]
  },
  {
   "cell_type": "code",
   "execution_count": 4,
   "metadata": {
    "slideshow": {
     "slide_type": "skip"
    }
   },
   "outputs": [],
   "source": [
    "gams.reset()\n",
    "m = gams.exchange_container"
   ]
  },
  {
   "cell_type": "markdown",
   "metadata": {
    "slideshow": {
     "slide_type": "slide"
    }
   },
   "source": [
    "<h2>In-Class Example 2 : sequence1.gms</h2>\n",
    "<br>\n",
    "- A set of tasks is to be processed on a single machine.<br>\n",
    "- The execution of the tasks is non-preemptive (ie cannot be interrupted).<br>\n",
    "- For every task i its release date, duration and due date are given.<br>\n",
    "<br>\n",
    "Objective: What is the sequence that minimizes the maximum tardiness?  (Tips: Minimax) <br>\n",
    "<br>\n",
    "##This formulation uses <font color=red>rank</font> and binary variables"
   ]
  },
  {
   "cell_type": "code",
   "execution_count": 5,
   "metadata": {
    "slideshow": {
     "slide_type": "slide"
    }
   },
   "outputs": [
    {
     "data": {
      "text/html": [
       "<div>\n",
       "<style scoped>\n",
       "    .dataframe tbody tr th:only-of-type {\n",
       "        vertical-align: middle;\n",
       "    }\n",
       "\n",
       "    .dataframe tbody tr th {\n",
       "        vertical-align: top;\n",
       "    }\n",
       "\n",
       "    .dataframe thead th {\n",
       "        text-align: right;\n",
       "    }\n",
       "</style>\n",
       "<table border=\"1\" class=\"dataframe\">\n",
       "  <thead>\n",
       "    <tr style=\"text-align: right;\">\n",
       "      <th></th>\n",
       "      <th>Solver Status</th>\n",
       "      <th>Model Status</th>\n",
       "      <th>Objective</th>\n",
       "      <th>#equ</th>\n",
       "      <th>#var</th>\n",
       "      <th>Model Type</th>\n",
       "      <th>Solver</th>\n",
       "      <th>Solver Time</th>\n",
       "    </tr>\n",
       "  </thead>\n",
       "  <tbody>\n",
       "    <tr>\n",
       "      <th>0</th>\n",
       "      <td>Normal (1)</td>\n",
       "      <td>Optimal Global (1)</td>\n",
       "      <td>9.0</td>\n",
       "      <td>35</td>\n",
       "      <td>57</td>\n",
       "      <td>MIP</td>\n",
       "      <td>CPLEX</td>\n",
       "      <td>0.009</td>\n",
       "    </tr>\n",
       "  </tbody>\n",
       "</table>\n",
       "</div>"
      ],
      "text/plain": [
       "  Solver Status        Model Status  Objective #equ #var Model Type Solver  \\\n",
       "0    Normal (1)  Optimal Global (1)        9.0   35   57        MIP  CPLEX   \n",
       "\n",
       "  Solver Time  \n",
       "0       0.009  "
      ]
     },
     "execution_count": 5,
     "metadata": {},
     "output_type": "execute_result"
    }
   ],
   "source": [
    "%%gams\n",
    "set job / 1*7 /;\n",
    "set times /release,duration,due/;\n",
    "\n",
    "table data(times,job)\n",
    "            1   2   3   4   5   6   7\n",
    "release     2   5   4           8   9\n",
    "duration    5   6   8   4   2   4   2\n",
    "due        10  21  15  10   5  15  22 ;\n",
    "\n",
    "set k 'position' / p1*p7 /;\n",
    "alias (job,j);\n",
    "\n",
    "binary variable rank(j,k) \"job j has position k\";\n",
    "positive variables comp(k) \"completion time of job in position k\";\n",
    "variable tardiness;\n",
    "* variable lateness; We can also calculate the lateness, just change the tardiness equations\n",
    "\n",
    "equations oneInPosition(k), oneRankPer(j), defrelease(k), defcomp(k), deftardiness(k);\n",
    "\n",
    "*Set the job position matrix to every column and row equal to 1, a job to a position\n",
    "oneInPosition(k).. sum(j,rank(j,k)) =e= 1;\n",
    "\n",
    "oneRankPer(j).. sum(k,rank(j,k)) =e= 1;\n",
    "\n",
    "*Where the trick is: how we transfer position to the job\n",
    "defrelease(k).. comp(k) =g= sum(j,(data('duration',j)+data('release',j))*rank(j,k));\n",
    "\n",
    "*This is really max(0, comp(k) - sum(j,...)) (Minimax technique, from Lecture 14)\n",
    "defcomp(k).. comp(k) =g= comp(k-1) + sum(j,data('duration',j)*rank(j,k));\n",
    "\n",
    "deftardiness(k).. tardiness =g= comp(k) - sum(j,data('due',j)*rank(j,k));\n",
    "\n",
    "tardiness.lo = 0;\n",
    "\n",
    "model sequence /all/;\n",
    "sequence.optcr = 0;\n",
    "sequence.threads = 3;\n",
    "sequence.reslim = 120;\n",
    "\n",
    "solve sequence using mip min tardiness;"
   ]
  },
  {
   "cell_type": "code",
   "execution_count": 6,
   "metadata": {
    "slideshow": {
     "slide_type": "slide"
    }
   },
   "outputs": [],
   "source": [
    "%%gams\n",
    "set jobp(j,k);\n",
    "jobp(j,k)$(rank.l(j,k) > 0.01) = yes ;\n",
    "parameter startt(j), compt(j),latnesst(j);\n",
    "compt(j) = sum(k$rank.l(j,k), comp.l(k));\n",
    "latnesst(j) = max(0,compt(j) - data('due',j));\n",
    "startt(j) = compt(j) - data('duration',j);"
   ]
  },
  {
   "cell_type": "code",
   "execution_count": 7,
   "metadata": {
    "slideshow": {
     "slide_type": "slide"
    }
   },
   "outputs": [
    {
     "name": "stdout",
     "output_type": "stream",
     "text": [
      "Job and Position convert table:\n",
      "  job Position\n",
      "0   1       p2\n",
      "1   2       p6\n",
      "2   3       p4\n",
      "3   4       p1\n",
      "4   5       p3\n",
      "5   6       p5\n",
      "6   7       p7\n",
      "\n"
     ]
    },
    {
     "data": {
      "text/html": [
       "<div>\n",
       "<style scoped>\n",
       "    .dataframe tbody tr th:only-of-type {\n",
       "        vertical-align: middle;\n",
       "    }\n",
       "\n",
       "    .dataframe tbody tr th {\n",
       "        vertical-align: top;\n",
       "    }\n",
       "\n",
       "    .dataframe thead th {\n",
       "        text-align: right;\n",
       "    }\n",
       "</style>\n",
       "<table border=\"1\" class=\"dataframe\">\n",
       "  <thead>\n",
       "    <tr style=\"text-align: right;\">\n",
       "      <th></th>\n",
       "      <th>job</th>\n",
       "      <th>Start time</th>\n",
       "    </tr>\n",
       "  </thead>\n",
       "  <tbody>\n",
       "    <tr>\n",
       "      <th>0</th>\n",
       "      <td>1</td>\n",
       "      <td>4.0</td>\n",
       "    </tr>\n",
       "    <tr>\n",
       "      <th>1</th>\n",
       "      <td>2</td>\n",
       "      <td>23.0</td>\n",
       "    </tr>\n",
       "    <tr>\n",
       "      <th>2</th>\n",
       "      <td>3</td>\n",
       "      <td>11.0</td>\n",
       "    </tr>\n",
       "    <tr>\n",
       "      <th>3</th>\n",
       "      <td>5</td>\n",
       "      <td>9.0</td>\n",
       "    </tr>\n",
       "    <tr>\n",
       "      <th>4</th>\n",
       "      <td>6</td>\n",
       "      <td>19.0</td>\n",
       "    </tr>\n",
       "    <tr>\n",
       "      <th>5</th>\n",
       "      <td>7</td>\n",
       "      <td>29.0</td>\n",
       "    </tr>\n",
       "  </tbody>\n",
       "</table>\n",
       "</div>"
      ],
      "text/plain": [
       "  job  Start time\n",
       "0   1         4.0\n",
       "1   2        23.0\n",
       "2   3        11.0\n",
       "3   5         9.0\n",
       "4   6        19.0\n",
       "5   7        29.0"
      ]
     },
     "metadata": {},
     "output_type": "display_data"
    },
    {
     "name": "stdout",
     "output_type": "stream",
     "text": [
      "Start time for each job:\n",
      "  job  Start time\n",
      "0   1         4.0\n",
      "1   2        23.0\n",
      "2   3        11.0\n",
      "3   5         9.0\n",
      "4   6        19.0\n",
      "5   7        29.0\n",
      "\n",
      "Completion time for each job:\n",
      "  job  Complete time\n",
      "0   1            9.0\n",
      "1   2           29.0\n",
      "2   3           19.0\n",
      "3   4            4.0\n",
      "4   5           11.0\n",
      "5   6           23.0\n",
      "6   7           31.0\n",
      "\n",
      "Lateness for each job:\n",
      "  job  Lateness\n",
      "0   2       8.0\n",
      "1   3       4.0\n",
      "2   5       6.0\n",
      "3   6       8.0\n",
      "4   7       9.0\n",
      "\n",
      "Total system Tardiness:\n",
      "9.0\n"
     ]
    }
   ],
   "source": [
    "jobp = m['jobp'].records.drop(columns=['element_text'])\n",
    "jobp.columns = ['job','Position']\n",
    "print(\"Job and Position convert table:\")\n",
    "print(jobp)\n",
    "print(\"\")\n",
    "\n",
    "startt = m['startt'].records\n",
    "startt.columns = ['job','Start time']\n",
    "display(startt)\n",
    "print(\"Start time for each job:\")\n",
    "print(startt)\n",
    "print(\"\")\n",
    "\n",
    "compt = m['compt'].records\n",
    "compt.columns = ['job','Complete time']\n",
    "print(\"Completion time for each job:\")\n",
    "print(compt)\n",
    "print(\"\")\n",
    "\n",
    "latnesst = m['latnesst'].records\n",
    "latnesst.columns = ['job','Lateness']\n",
    "print(\"Lateness for each job:\")\n",
    "print(latnesst)\n",
    "print(\"\")\n",
    "\n",
    "tardiness = m['tardiness']\n",
    "print(\"Total system Tardiness:\")\n",
    "print(tardiness.toValue())"
   ]
  },
  {
   "cell_type": "code",
   "execution_count": 8,
   "metadata": {},
   "outputs": [],
   "source": [
    "%gams_cleanup --closedown"
   ]
  },
  {
   "cell_type": "code",
   "execution_count": null,
   "metadata": {},
   "outputs": [],
   "source": []
  }
 ],
 "metadata": {
  "celltoolbar": "Slideshow",
  "kernelspec": {
   "display_name": "Python 3 (ipykernel)",
   "language": "python",
   "name": "python3"
  },
  "language_info": {
   "codemirror_mode": {
    "name": "ipython",
    "version": 3
   },
   "file_extension": ".py",
   "mimetype": "text/x-python",
   "name": "python",
   "nbconvert_exporter": "python",
   "pygments_lexer": "ipython3",
   "version": "3.10.12"
  }
 },
 "nbformat": 4,
 "nbformat_minor": 4
}
