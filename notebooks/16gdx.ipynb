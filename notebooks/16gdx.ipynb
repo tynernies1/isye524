{
 "cells": [
  {
   "cell_type": "markdown",
   "metadata": {
    "slideshow": {
     "slide_type": "slide"
    }
   },
   "source": [
    "CS524: Introduction to Optimization Lecture 16\n",
    "======================================\n",
    "\n",
    "## Michael Ferris<br> Computer Sciences Department <br> University of Wisconsin-Madison\n",
    "\n",
    "## October 11, 2023\n",
    "--------------"
   ]
  },
  {
   "cell_type": "markdown",
   "metadata": {
    "jp-MarkdownHeadingCollapsed": true,
    "slideshow": {
     "slide_type": "slide"
    }
   },
   "source": [
    "## GDX\n",
    "\n",
    "- Stand for GAMS Data Exchange\n",
    "- GDX files are binary files that store data for use in gams models\n",
    "- There exist several utilities to generate, include and look at these files, including API's in all popular languages\n",
    "- Use the gdx viewer within Studio to see what is in a file or at command prompt use [GDXDUMP](https://www.gams.com/latest/docs/T_GDXDUMP.html)\n",
    "- [\"GAMS Data eXchange\" GDX](https://www.gams.com/latest/docs/UG_GDX.html)\n",
    "  \n",
    "### Using GDX depends on phase in which it is employed\n",
    "   1. if in Compilation phase: use $ control options\n",
    "      - reading during compilation allows us to define the elements of a set, and use this set as a domain\n",
    "    \n",
    "   2. if in Execution phase: use command `execute_`"
   ]
  },
  {
   "cell_type": "markdown",
   "metadata": {
    "slideshow": {
     "slide_type": "slide"
    }
   },
   "source": [
    "## Reading GDX Files into GAMS\n",
    "\n",
    "The basic structure of reading the GDX file is as follows:\n",
    "\n",
    "    $GDXIN filename\n",
    "$LOAD foo\n",
    "    $LOAD id=gdxid\n",
    "$GDXIN"
   ]
  },
  {
   "cell_type": "markdown",
   "metadata": {
    "slideshow": {
     "slide_type": "slide"
    }
   },
   "source": [
    "<i>Here</i>\n",
    "\n",
    "- `$` means you are directed towards the compiler\n",
    "- `filename` is the file that you want to read\n",
    "- `foo` is a read-in data\n",
    "    *(a GAMS symbol: could represent a set, parameter, variable or equation)*\n",
    "- `id` is a GAMS symbol, 'gdxid' is a name in the gdx file\n"
   ]
  },
  {
   "cell_type": "code",
   "execution_count": 1,
   "metadata": {
    "slideshow": {
     "slide_type": "slide"
    }
   },
   "outputs": [],
   "source": [
    "%load_ext gams.magic\n",
    "m = gams.exchange_container"
   ]
  },
  {
   "cell_type": "code",
   "execution_count": 2,
   "metadata": {
    "slideshow": {
     "slide_type": "slide"
    }
   },
   "outputs": [],
   "source": [
    "%%gams\n",
    "\n",
    "$gdxin trnsport_output.gdx\n",
    "Set m(*) markets\n",
    "$load m=j\n",
    "Parameter demand(m) demand at market m;\n",
    "$load demand=b\n",
    "$gdxin"
   ]
  },
  {
   "cell_type": "markdown",
   "metadata": {
    "slideshow": {
     "slide_type": "slide"
    }
   },
   "source": [
    "<i>In example above:</i>\n",
    "\n",
    "- `LOAD demand=b`: load in data as if it's static\n",
    "- if you want to unload at compile time (typically you wouldn't), then you can use `$GDXOUT` and `$UNLOAD`\n"
   ]
  },
  {
   "cell_type": "code",
   "execution_count": 3,
   "metadata": {
    "slideshow": {
     "slide_type": "slide"
    }
   },
   "outputs": [
    {
     "data": {
      "text/html": [
       "<div>\n",
       "<style scoped>\n",
       "    .dataframe tbody tr th:only-of-type {\n",
       "        vertical-align: middle;\n",
       "    }\n",
       "\n",
       "    .dataframe tbody tr th {\n",
       "        vertical-align: top;\n",
       "    }\n",
       "\n",
       "    .dataframe thead th {\n",
       "        text-align: right;\n",
       "    }\n",
       "</style>\n",
       "<table border=\"1\" class=\"dataframe\">\n",
       "  <thead>\n",
       "    <tr style=\"text-align: right;\">\n",
       "      <th></th>\n",
       "      <th>m</th>\n",
       "      <th>value</th>\n",
       "    </tr>\n",
       "  </thead>\n",
       "  <tbody>\n",
       "    <tr>\n",
       "      <th>0</th>\n",
       "      <td>new-york</td>\n",
       "      <td>325.0</td>\n",
       "    </tr>\n",
       "    <tr>\n",
       "      <th>1</th>\n",
       "      <td>chicago</td>\n",
       "      <td>300.0</td>\n",
       "    </tr>\n",
       "    <tr>\n",
       "      <th>2</th>\n",
       "      <td>topeka</td>\n",
       "      <td>275.0</td>\n",
       "    </tr>\n",
       "  </tbody>\n",
       "</table>\n",
       "</div>"
      ],
      "text/plain": [
       "          m  value\n",
       "0  new-york  325.0\n",
       "1   chicago  300.0\n",
       "2    topeka  275.0"
      ]
     },
     "metadata": {},
     "output_type": "display_data"
    }
   ],
   "source": [
    "b=m.data['demand'].records\n",
    "display(b);"
   ]
  },
  {
   "cell_type": "markdown",
   "metadata": {
    "slideshow": {
     "slide_type": "slide"
    }
   },
   "source": [
    "## If you are not using Studio: GDXDUMP\n",
    "- GDXDUMP writes the contents of a GDX file as a GAMS formatted text file\n",
    "- This will produce a listing of all the symbols in a gdx file\n",
    "- Code below shows how to read data with GDXDUMP\n",
    "- `$onEmpty` allows empty data statements for list or table formats. Note that by default, empty data statements will cause a compilation error.\n",
    "- You can view the content using the command: `gdxdump trnsport.gdx`\n",
    "- See use of this command in topbrass example, `topbrass6.gms`"
   ]
  },
  {
   "cell_type": "markdown",
   "metadata": {
    "slideshow": {
     "slide_type": "slide"
    }
   },
   "source": [
    "## Execution Time Handling\n",
    "\n",
    "- `execute_load` will read data from a GDX file during execution phase. <br />\n",
    "- acts like an assignment statement, except that it does not merge the data read with the current data.\n",
    "- It is a full replacement.<br />\n",
    "For example: `execute_load ’filename’, id1, id2, ...`<br /><br />\n",
    "- Following does a merge.<br />\n",
    "For example: `execute_loadpoint ’filename’, id1, id2, ...`<br /><br />\n",
    "- `execute_unload` will write data from a GDX file during execution phase. <br />\n",
    "- replaces an existing file with that name. <br />\n",
    "For example: `execute_unload ’filename’, id1, id2, ...`"
   ]
  },
  {
   "cell_type": "markdown",
   "metadata": {
    "slideshow": {
     "slide_type": "slide"
    }
   },
   "source": [
    "<i>Example:</i><br />\n",
    "This write the level and marginals of the x variables into a gdx file\n",
    "\n",
    "    *=== Unload to GDX file\n",
    "    execute_unload \"tresults.gdx\" x.L x.M"
   ]
  },
  {
   "cell_type": "markdown",
   "metadata": {
    "slideshow": {
     "slide_type": "slide"
    }
   },
   "source": [
    "<i>Notes:</i>\n",
    "- Can open the GDX file in Studio\n",
    "- Adding <font color=blue>gdx=filename</font> unloads all symbols at the end of the run"
   ]
  },
  {
   "cell_type": "code",
   "execution_count": 4,
   "metadata": {},
   "outputs": [],
   "source": [
    "%%gams\n",
    "set J(*) 'barrier site'; \n",
    "alias (J,K);\n",
    "set D(J,K) 'downstream barriers from j (not including j)', \n",
    "    ROOT(J) 'root nodes of forest';\n",
    "parameter \n",
    "    pi(J) 'increase in probability of passage', \n",
    "    v(J) 'net habitat between J and its upstream neighbors', \n",
    "    c(J) 'cost of project at J', \n",
    "    b 'available budget', \n",
    "    pbar(J) 'current probability of passage at J';\n",
    "$gdxin data-small.gdx\n",
    "$load J,D,ROOT\n",
    "$load pi,v,c,b,pbar\n",
    "$gdxin"
   ]
  },
  {
   "cell_type": "code",
   "execution_count": 5,
   "metadata": {},
   "outputs": [
    {
     "data": {
      "text/html": [
       "<div>\n",
       "<style scoped>\n",
       "    .dataframe tbody tr th:only-of-type {\n",
       "        vertical-align: middle;\n",
       "    }\n",
       "\n",
       "    .dataframe tbody tr th {\n",
       "        vertical-align: top;\n",
       "    }\n",
       "\n",
       "    .dataframe thead th {\n",
       "        text-align: right;\n",
       "    }\n",
       "</style>\n",
       "<table border=\"1\" class=\"dataframe\">\n",
       "  <thead>\n",
       "    <tr style=\"text-align: right;\">\n",
       "      <th></th>\n",
       "      <th>uni</th>\n",
       "      <th>element_text</th>\n",
       "    </tr>\n",
       "  </thead>\n",
       "  <tbody>\n",
       "    <tr>\n",
       "      <th>0</th>\n",
       "      <td>101518</td>\n",
       "      <td></td>\n",
       "    </tr>\n",
       "    <tr>\n",
       "      <th>1</th>\n",
       "      <td>101519</td>\n",
       "      <td></td>\n",
       "    </tr>\n",
       "    <tr>\n",
       "      <th>2</th>\n",
       "      <td>101520</td>\n",
       "      <td></td>\n",
       "    </tr>\n",
       "    <tr>\n",
       "      <th>3</th>\n",
       "      <td>101521</td>\n",
       "      <td></td>\n",
       "    </tr>\n",
       "    <tr>\n",
       "      <th>4</th>\n",
       "      <td>101522</td>\n",
       "      <td></td>\n",
       "    </tr>\n",
       "    <tr>\n",
       "      <th>...</th>\n",
       "      <td>...</td>\n",
       "      <td>...</td>\n",
       "    </tr>\n",
       "    <tr>\n",
       "      <th>12536</th>\n",
       "      <td>155700</td>\n",
       "      <td></td>\n",
       "    </tr>\n",
       "    <tr>\n",
       "      <th>12537</th>\n",
       "      <td>155701</td>\n",
       "      <td></td>\n",
       "    </tr>\n",
       "    <tr>\n",
       "      <th>12538</th>\n",
       "      <td>155705</td>\n",
       "      <td></td>\n",
       "    </tr>\n",
       "    <tr>\n",
       "      <th>12539</th>\n",
       "      <td>155706</td>\n",
       "      <td></td>\n",
       "    </tr>\n",
       "    <tr>\n",
       "      <th>12540</th>\n",
       "      <td>155708</td>\n",
       "      <td></td>\n",
       "    </tr>\n",
       "  </tbody>\n",
       "</table>\n",
       "<p>12541 rows × 2 columns</p>\n",
       "</div>"
      ],
      "text/plain": [
       "          uni element_text\n",
       "0      101518             \n",
       "1      101519             \n",
       "2      101520             \n",
       "3      101521             \n",
       "4      101522             \n",
       "...       ...          ...\n",
       "12536  155700             \n",
       "12537  155701             \n",
       "12538  155705             \n",
       "12539  155706             \n",
       "12540  155708             \n",
       "\n",
       "[12541 rows x 2 columns]"
      ]
     },
     "metadata": {},
     "output_type": "display_data"
    }
   ],
   "source": [
    "J=m.data['J'].records\n",
    "display(J)"
   ]
  },
  {
   "cell_type": "markdown",
   "metadata": {
    "slideshow": {
     "slide_type": "slide"
    }
   },
   "source": [
    "To do gams->gdx just use `execute_unload`\n",
    "\n",
    "To do gdx->gams just use `$GDXIN` or `execute_load`"
   ]
  },
  {
   "cell_type": "code",
   "execution_count": 6,
   "metadata": {},
   "outputs": [],
   "source": [
    "gams.reset()"
   ]
  },
  {
   "cell_type": "markdown",
   "metadata": {},
   "source": [
    "### GDX reading and writing from python\n",
    "\n",
    "First create the gdx file using gams with execute_unload"
   ]
  },
  {
   "cell_type": "code",
   "execution_count": 7,
   "metadata": {
    "slideshow": {
     "slide_type": "slide"
    }
   },
   "outputs": [
    {
     "data": {
      "text/html": [
       "<div>\n",
       "<style scoped>\n",
       "    .dataframe tbody tr th:only-of-type {\n",
       "        vertical-align: middle;\n",
       "    }\n",
       "\n",
       "    .dataframe tbody tr th {\n",
       "        vertical-align: top;\n",
       "    }\n",
       "\n",
       "    .dataframe thead th {\n",
       "        text-align: right;\n",
       "    }\n",
       "</style>\n",
       "<table border=\"1\" class=\"dataframe\">\n",
       "  <thead>\n",
       "    <tr style=\"text-align: right;\">\n",
       "      <th></th>\n",
       "      <th>Solver Status</th>\n",
       "      <th>Model Status</th>\n",
       "      <th>Objective</th>\n",
       "      <th>#equ</th>\n",
       "      <th>#var</th>\n",
       "      <th>Model Type</th>\n",
       "      <th>Solver</th>\n",
       "      <th>Solver Time</th>\n",
       "    </tr>\n",
       "  </thead>\n",
       "  <tbody>\n",
       "    <tr>\n",
       "      <th>0</th>\n",
       "      <td>Normal (1)</td>\n",
       "      <td>Optimal Global (1)</td>\n",
       "      <td>153.675</td>\n",
       "      <td>6</td>\n",
       "      <td>7</td>\n",
       "      <td>LP</td>\n",
       "      <td>CPLEX</td>\n",
       "      <td>0.002</td>\n",
       "    </tr>\n",
       "  </tbody>\n",
       "</table>\n",
       "</div>"
      ],
      "text/plain": [
       "  Solver Status        Model Status  Objective #equ #var Model Type Solver  \\\n",
       "0    Normal (1)  Optimal Global (1)    153.675    6    7         LP  CPLEX   \n",
       "\n",
       "  Solver Time  \n",
       "0       0.002  "
      ]
     },
     "execution_count": 7,
     "metadata": {},
     "output_type": "execute_result"
    }
   ],
   "source": [
    "%%gams\n",
    "$Title  A Transportation Problem (TRNSPORT,SEQ=1)\n",
    "$Ontext\n",
    "\n",
    "This problem finds a least cost shipping schedule that meets\n",
    "requirements at markets and supplies at factories.\n",
    "\n",
    "\n",
    "Dantzig, G B, Chapter 3.3. In Linear Programming and Extensions. \n",
    "Princeton University Press, Princeton, New Jersey, 1963.\n",
    "\n",
    "This formulation is described in detail in:\n",
    "Rosenthal, R E, Chapter 2: A GAMS Tutorial. In GAMS: A User's Guide. \n",
    "The Scientific Press, Redwood City, California, 1988.\n",
    "\n",
    "The line numbers will not match those in the book because of these \n",
    "comments.\n",
    "\n",
    "$Offtext\n",
    "\n",
    "\n",
    "  Sets\n",
    "       i   canning plants   / seattle, san-diego /\n",
    "       j   markets          / new-york, chicago, topeka / ;\n",
    "\n",
    "  Parameters\n",
    "\n",
    "       a(i)  capacity of plant i in cases\n",
    "         /    seattle     350\n",
    "              san-diego   600  /\n",
    "\n",
    "       b(j)  demand at market j in cases\n",
    "         /    new-york    325\n",
    "              chicago     300\n",
    "              topeka      275  / ;\n",
    "\n",
    "  Table d(i,j)  distance in thousands of miles\n",
    "                    new-york       chicago      topeka\n",
    "      seattle          2.5           1.7          1.8\n",
    "      san-diego        2.5           1.8          1.4  ;\n",
    "\n",
    "  Scalar f  freight in dollars per case per thousand miles  /90/ ;\n",
    "\n",
    "  Parameter c(i,j)  transport cost in thousands of dollars per case ;\n",
    "\n",
    "            c(i,j) = f * d(i,j) / 1000 ;\n",
    "\n",
    "  Variables\n",
    "       x(i,j)  shipment quantities in cases\n",
    "       z       total transportation costs in thousands of dollars ;\n",
    "\n",
    "  Positive Variable x ;\n",
    "\n",
    "  Equations\n",
    "       cost        define objective function\n",
    "       supply(i)   observe supply limit at plant i\n",
    "       demand(j)   satisfy demand at market j ;\n",
    "\n",
    "  cost ..        z  =e=  sum((i,j), c(i,j)*x(i,j)) ;\n",
    "\n",
    "  supply(i) ..   sum(j, x(i,j))  =l=  a(i) ;\n",
    "\n",
    "  demand(j) ..   sum(i, x(i,j))  =g=  b(j) ;\n",
    "\n",
    "  Model transport /all/ ;\n",
    "\n",
    "Solve transport using lp minimizing z ;\n",
    "\n",
    "execute_unload \"trnsport_output\", i,j,a,b,c,d,f,x,z,cost,supply,demand;"
   ]
  },
  {
   "cell_type": "markdown",
   "metadata": {},
   "source": [
    "# Read named gdx into python (use gams.transfer)\n",
    "(could read/write to Jupyter using exchange_container as below)"
   ]
  },
  {
   "cell_type": "code",
   "execution_count": 8,
   "metadata": {},
   "outputs": [
    {
     "data": {
      "text/html": [
       "<div>\n",
       "<style scoped>\n",
       "    .dataframe tbody tr th:only-of-type {\n",
       "        vertical-align: middle;\n",
       "    }\n",
       "\n",
       "    .dataframe tbody tr th {\n",
       "        vertical-align: top;\n",
       "    }\n",
       "\n",
       "    .dataframe thead th {\n",
       "        text-align: right;\n",
       "    }\n",
       "</style>\n",
       "<table border=\"1\" class=\"dataframe\">\n",
       "  <thead>\n",
       "    <tr style=\"text-align: right;\">\n",
       "      <th></th>\n",
       "      <th>i</th>\n",
       "      <th>j</th>\n",
       "      <th>level</th>\n",
       "      <th>marginal</th>\n",
       "      <th>lower</th>\n",
       "      <th>upper</th>\n",
       "      <th>scale</th>\n",
       "    </tr>\n",
       "  </thead>\n",
       "  <tbody>\n",
       "    <tr>\n",
       "      <th>0</th>\n",
       "      <td>seattle</td>\n",
       "      <td>new-york</td>\n",
       "      <td>50.0</td>\n",
       "      <td>0.000</td>\n",
       "      <td>0.0</td>\n",
       "      <td>inf</td>\n",
       "      <td>1.0</td>\n",
       "    </tr>\n",
       "    <tr>\n",
       "      <th>1</th>\n",
       "      <td>seattle</td>\n",
       "      <td>chicago</td>\n",
       "      <td>300.0</td>\n",
       "      <td>0.000</td>\n",
       "      <td>0.0</td>\n",
       "      <td>inf</td>\n",
       "      <td>1.0</td>\n",
       "    </tr>\n",
       "    <tr>\n",
       "      <th>2</th>\n",
       "      <td>seattle</td>\n",
       "      <td>topeka</td>\n",
       "      <td>0.0</td>\n",
       "      <td>0.036</td>\n",
       "      <td>0.0</td>\n",
       "      <td>inf</td>\n",
       "      <td>1.0</td>\n",
       "    </tr>\n",
       "    <tr>\n",
       "      <th>3</th>\n",
       "      <td>san-diego</td>\n",
       "      <td>new-york</td>\n",
       "      <td>275.0</td>\n",
       "      <td>0.000</td>\n",
       "      <td>0.0</td>\n",
       "      <td>inf</td>\n",
       "      <td>1.0</td>\n",
       "    </tr>\n",
       "    <tr>\n",
       "      <th>4</th>\n",
       "      <td>san-diego</td>\n",
       "      <td>chicago</td>\n",
       "      <td>0.0</td>\n",
       "      <td>0.009</td>\n",
       "      <td>0.0</td>\n",
       "      <td>inf</td>\n",
       "      <td>1.0</td>\n",
       "    </tr>\n",
       "    <tr>\n",
       "      <th>5</th>\n",
       "      <td>san-diego</td>\n",
       "      <td>topeka</td>\n",
       "      <td>275.0</td>\n",
       "      <td>0.000</td>\n",
       "      <td>0.0</td>\n",
       "      <td>inf</td>\n",
       "      <td>1.0</td>\n",
       "    </tr>\n",
       "  </tbody>\n",
       "</table>\n",
       "</div>"
      ],
      "text/plain": [
       "           i         j  level  marginal  lower  upper  scale\n",
       "0    seattle  new-york   50.0     0.000    0.0    inf    1.0\n",
       "1    seattle   chicago  300.0     0.000    0.0    inf    1.0\n",
       "2    seattle    topeka    0.0     0.036    0.0    inf    1.0\n",
       "3  san-diego  new-york  275.0     0.000    0.0    inf    1.0\n",
       "4  san-diego   chicago    0.0     0.009    0.0    inf    1.0\n",
       "5  san-diego    topeka  275.0     0.000    0.0    inf    1.0"
      ]
     },
     "metadata": {},
     "output_type": "display_data"
    },
    {
     "data": {
      "text/plain": [
       "153.675"
      ]
     },
     "metadata": {},
     "output_type": "display_data"
    },
    {
     "data": {
      "text/html": [
       "<div>\n",
       "<style scoped>\n",
       "    .dataframe tbody tr th:only-of-type {\n",
       "        vertical-align: middle;\n",
       "    }\n",
       "\n",
       "    .dataframe tbody tr th {\n",
       "        vertical-align: top;\n",
       "    }\n",
       "\n",
       "    .dataframe thead th {\n",
       "        text-align: right;\n",
       "    }\n",
       "</style>\n",
       "<table border=\"1\" class=\"dataframe\">\n",
       "  <thead>\n",
       "    <tr style=\"text-align: right;\">\n",
       "      <th></th>\n",
       "      <th>new-york</th>\n",
       "      <th>chicago</th>\n",
       "      <th>topeka</th>\n",
       "    </tr>\n",
       "  </thead>\n",
       "  <tbody>\n",
       "    <tr>\n",
       "      <th>seattle</th>\n",
       "      <td>50.0</td>\n",
       "      <td>300.0</td>\n",
       "      <td>0.0</td>\n",
       "    </tr>\n",
       "    <tr>\n",
       "      <th>san-diego</th>\n",
       "      <td>275.0</td>\n",
       "      <td>0.0</td>\n",
       "      <td>275.0</td>\n",
       "    </tr>\n",
       "  </tbody>\n",
       "</table>\n",
       "</div>"
      ],
      "text/plain": [
       "           new-york  chicago  topeka\n",
       "seattle        50.0    300.0     0.0\n",
       "san-diego     275.0      0.0   275.0"
      ]
     },
     "metadata": {},
     "output_type": "display_data"
    },
    {
     "data": {
      "text/html": [
       "<div>\n",
       "<style scoped>\n",
       "    .dataframe tbody tr th:only-of-type {\n",
       "        vertical-align: middle;\n",
       "    }\n",
       "\n",
       "    .dataframe tbody tr th {\n",
       "        vertical-align: top;\n",
       "    }\n",
       "\n",
       "    .dataframe thead th {\n",
       "        text-align: right;\n",
       "    }\n",
       "</style>\n",
       "<table border=\"1\" class=\"dataframe\">\n",
       "  <thead>\n",
       "    <tr style=\"text-align: right;\">\n",
       "      <th></th>\n",
       "      <th>new-york</th>\n",
       "      <th>chicago</th>\n",
       "      <th>topeka</th>\n",
       "    </tr>\n",
       "  </thead>\n",
       "  <tbody>\n",
       "    <tr>\n",
       "      <th>seattle</th>\n",
       "      <td>0.0</td>\n",
       "      <td>0.000</td>\n",
       "      <td>0.036</td>\n",
       "    </tr>\n",
       "    <tr>\n",
       "      <th>san-diego</th>\n",
       "      <td>0.0</td>\n",
       "      <td>0.009</td>\n",
       "      <td>0.000</td>\n",
       "    </tr>\n",
       "  </tbody>\n",
       "</table>\n",
       "</div>"
      ],
      "text/plain": [
       "           new-york  chicago  topeka\n",
       "seattle         0.0    0.000   0.036\n",
       "san-diego       0.0    0.009   0.000"
      ]
     },
     "metadata": {},
     "output_type": "display_data"
    }
   ],
   "source": [
    "import gams.transfer as gt\n",
    "\n",
    "# create instance of gams gdx data\n",
    "gdx = gt.Container() #system_directory='/Library/Frameworks/GAMS.framework/Resources'\n",
    "# read in single items\n",
    "gdx.read('trnsport_output.gdx',['i','j','x','z'])\n",
    "\n",
    "x=gdx.data['x']\n",
    "cost = gdx.data['z'].toValue()\n",
    "# display variable x data as a dataframe\n",
    "display(x.records,cost)\n",
    "display(x.pivot(),x.pivot(value='marginal'))"
   ]
  },
  {
   "cell_type": "markdown",
   "metadata": {},
   "source": [
    "# Write from python (tuples) into gdx (use gams.transfer)"
   ]
  },
  {
   "cell_type": "code",
   "execution_count": 9,
   "metadata": {},
   "outputs": [],
   "source": [
    "gdx = gt.Container()\n",
    "\n",
    "i = gdx.addSet('i', ['*'], records=['seattle', 'san-diego'], description='canning plants')\n",
    "j = gdx.addSet('j', ['*'], description='markets', records=['new-york', 'chicago', 'topeka'])\n",
    "c = gdx.addParameter('c', domain=['i', 'j'],\n",
    "  records = [('seattle', 'new-york', 0.225),\n",
    "   ('seattle', 'chicago', 0.153),\n",
    "   ('seattle', 'topeka', 0.162),\n",
    "   ('san-diego', 'new-york', 0.225),\n",
    "   ('san-diego', 'chicago', 0.162),\n",
    "   ('san-diego', 'topeka', 0.126)],\n",
    "   description='transport cost in thousands of dollars per case');\n",
    "\n",
    "gdx.write('trnsport_output_alt.gdx', compress=False)"
   ]
  },
  {
   "cell_type": "markdown",
   "metadata": {},
   "source": [
    "# Write from python (dataframe) into gdx (use gams.transfer)"
   ]
  },
  {
   "cell_type": "code",
   "execution_count": 10,
   "metadata": {},
   "outputs": [],
   "source": [
    "import pandas as pd\n",
    "\n",
    "dist = pd.DataFrame(\n",
    "    [\n",
    "        (\"seattle\", \"new-york\", 2.5),\n",
    "        (\"seattle\", \"chicago\", 1.7),\n",
    "        (\"seattle\", \"topeka\", 1.8),\n",
    "        (\"san-diego\", \"new-york\", 2.5),\n",
    "        (\"san-diego\", \"chicago\", 1.8),\n",
    "        (\"san-diego\", \"topeka\", 1.4),\n",
    "    ],\n",
    "    columns=[\"from\", \"to\", \"thousand_miles\"],\n",
    ")\n",
    "d = gdx.addParameter('d', domain=['i', 'j'], records = dist,\n",
    "    description='transport in thousands of miles');\n",
    "\n",
    "# c.setRecords(dist)\n",
    "\n",
    "gdx.write('trnsport_output_df.gdx', compress=False)"
   ]
  },
  {
   "cell_type": "markdown",
   "metadata": {},
   "source": [
    "# Read from GAMS via exchange container (without gdx file)"
   ]
  },
  {
   "cell_type": "code",
   "execution_count": 11,
   "metadata": {
    "scrolled": true
   },
   "outputs": [
    {
     "data": {
      "text/html": [
       "<div>\n",
       "<style scoped>\n",
       "    .dataframe tbody tr th:only-of-type {\n",
       "        vertical-align: middle;\n",
       "    }\n",
       "\n",
       "    .dataframe tbody tr th {\n",
       "        vertical-align: top;\n",
       "    }\n",
       "\n",
       "    .dataframe thead th {\n",
       "        text-align: right;\n",
       "    }\n",
       "</style>\n",
       "<table border=\"1\" class=\"dataframe\">\n",
       "  <thead>\n",
       "    <tr style=\"text-align: right;\">\n",
       "      <th></th>\n",
       "      <th>i</th>\n",
       "      <th>j</th>\n",
       "      <th>level</th>\n",
       "      <th>marginal</th>\n",
       "      <th>lower</th>\n",
       "      <th>upper</th>\n",
       "      <th>scale</th>\n",
       "    </tr>\n",
       "  </thead>\n",
       "  <tbody>\n",
       "    <tr>\n",
       "      <th>0</th>\n",
       "      <td>seattle</td>\n",
       "      <td>new-york</td>\n",
       "      <td>50.0</td>\n",
       "      <td>0.000</td>\n",
       "      <td>0.0</td>\n",
       "      <td>inf</td>\n",
       "      <td>1.0</td>\n",
       "    </tr>\n",
       "    <tr>\n",
       "      <th>1</th>\n",
       "      <td>seattle</td>\n",
       "      <td>chicago</td>\n",
       "      <td>300.0</td>\n",
       "      <td>0.000</td>\n",
       "      <td>0.0</td>\n",
       "      <td>inf</td>\n",
       "      <td>1.0</td>\n",
       "    </tr>\n",
       "    <tr>\n",
       "      <th>2</th>\n",
       "      <td>seattle</td>\n",
       "      <td>topeka</td>\n",
       "      <td>0.0</td>\n",
       "      <td>0.036</td>\n",
       "      <td>0.0</td>\n",
       "      <td>inf</td>\n",
       "      <td>1.0</td>\n",
       "    </tr>\n",
       "    <tr>\n",
       "      <th>3</th>\n",
       "      <td>san-diego</td>\n",
       "      <td>new-york</td>\n",
       "      <td>275.0</td>\n",
       "      <td>0.000</td>\n",
       "      <td>0.0</td>\n",
       "      <td>inf</td>\n",
       "      <td>1.0</td>\n",
       "    </tr>\n",
       "    <tr>\n",
       "      <th>4</th>\n",
       "      <td>san-diego</td>\n",
       "      <td>chicago</td>\n",
       "      <td>0.0</td>\n",
       "      <td>0.009</td>\n",
       "      <td>0.0</td>\n",
       "      <td>inf</td>\n",
       "      <td>1.0</td>\n",
       "    </tr>\n",
       "    <tr>\n",
       "      <th>5</th>\n",
       "      <td>san-diego</td>\n",
       "      <td>topeka</td>\n",
       "      <td>275.0</td>\n",
       "      <td>0.000</td>\n",
       "      <td>0.0</td>\n",
       "      <td>inf</td>\n",
       "      <td>1.0</td>\n",
       "    </tr>\n",
       "  </tbody>\n",
       "</table>\n",
       "</div>"
      ],
      "text/plain": [
       "           i         j  level  marginal  lower  upper  scale\n",
       "0    seattle  new-york   50.0     0.000    0.0    inf    1.0\n",
       "1    seattle   chicago  300.0     0.000    0.0    inf    1.0\n",
       "2    seattle    topeka    0.0     0.036    0.0    inf    1.0\n",
       "3  san-diego  new-york  275.0     0.000    0.0    inf    1.0\n",
       "4  san-diego   chicago    0.0     0.009    0.0    inf    1.0\n",
       "5  san-diego    topeka  275.0     0.000    0.0    inf    1.0"
      ]
     },
     "metadata": {},
     "output_type": "display_data"
    },
    {
     "data": {
      "text/plain": [
       "153.675"
      ]
     },
     "metadata": {},
     "output_type": "display_data"
    },
    {
     "data": {
      "text/html": [
       "<div>\n",
       "<style scoped>\n",
       "    .dataframe tbody tr th:only-of-type {\n",
       "        vertical-align: middle;\n",
       "    }\n",
       "\n",
       "    .dataframe tbody tr th {\n",
       "        vertical-align: top;\n",
       "    }\n",
       "\n",
       "    .dataframe thead th {\n",
       "        text-align: right;\n",
       "    }\n",
       "</style>\n",
       "<table border=\"1\" class=\"dataframe\">\n",
       "  <thead>\n",
       "    <tr style=\"text-align: right;\">\n",
       "      <th></th>\n",
       "      <th>new-york</th>\n",
       "      <th>chicago</th>\n",
       "      <th>topeka</th>\n",
       "    </tr>\n",
       "  </thead>\n",
       "  <tbody>\n",
       "    <tr>\n",
       "      <th>seattle</th>\n",
       "      <td>50.0</td>\n",
       "      <td>300.0</td>\n",
       "      <td>0.0</td>\n",
       "    </tr>\n",
       "    <tr>\n",
       "      <th>san-diego</th>\n",
       "      <td>275.0</td>\n",
       "      <td>0.0</td>\n",
       "      <td>275.0</td>\n",
       "    </tr>\n",
       "  </tbody>\n",
       "</table>\n",
       "</div>"
      ],
      "text/plain": [
       "           new-york  chicago  topeka\n",
       "seattle        50.0    300.0     0.0\n",
       "san-diego     275.0      0.0   275.0"
      ]
     },
     "metadata": {},
     "output_type": "display_data"
    },
    {
     "data": {
      "text/html": [
       "<div>\n",
       "<style scoped>\n",
       "    .dataframe tbody tr th:only-of-type {\n",
       "        vertical-align: middle;\n",
       "    }\n",
       "\n",
       "    .dataframe tbody tr th {\n",
       "        vertical-align: top;\n",
       "    }\n",
       "\n",
       "    .dataframe thead th {\n",
       "        text-align: right;\n",
       "    }\n",
       "</style>\n",
       "<table border=\"1\" class=\"dataframe\">\n",
       "  <thead>\n",
       "    <tr style=\"text-align: right;\">\n",
       "      <th></th>\n",
       "      <th>new-york</th>\n",
       "      <th>chicago</th>\n",
       "      <th>topeka</th>\n",
       "    </tr>\n",
       "  </thead>\n",
       "  <tbody>\n",
       "    <tr>\n",
       "      <th>seattle</th>\n",
       "      <td>0.0</td>\n",
       "      <td>0.000</td>\n",
       "      <td>0.036</td>\n",
       "    </tr>\n",
       "    <tr>\n",
       "      <th>san-diego</th>\n",
       "      <td>0.0</td>\n",
       "      <td>0.009</td>\n",
       "      <td>0.000</td>\n",
       "    </tr>\n",
       "  </tbody>\n",
       "</table>\n",
       "</div>"
      ],
      "text/plain": [
       "           new-york  chicago  topeka\n",
       "seattle         0.0    0.000   0.036\n",
       "san-diego       0.0    0.009   0.000"
      ]
     },
     "metadata": {},
     "output_type": "display_data"
    }
   ],
   "source": [
    "m = gams.exchange_container\n",
    "x = m.data['x']\n",
    "cost = m.data['z'].toValue()\n",
    "display(x.records,cost)\n",
    "display(x.pivot(),x.pivot(value='marginal'))"
   ]
  },
  {
   "cell_type": "code",
   "execution_count": 12,
   "metadata": {},
   "outputs": [],
   "source": [
    "gams.gams_cleanup('--closedown')"
   ]
  },
  {
   "cell_type": "code",
   "execution_count": null,
   "metadata": {},
   "outputs": [],
   "source": []
  }
 ],
 "metadata": {
  "kernelspec": {
   "display_name": "Python 3 (ipykernel)",
   "language": "python",
   "name": "python3"
  },
  "language_info": {
   "codemirror_mode": {
    "name": "ipython",
    "version": 3
   },
   "file_extension": ".py",
   "mimetype": "text/x-python",
   "name": "python",
   "nbconvert_exporter": "python",
   "pygments_lexer": "ipython3",
   "version": "3.10.12"
  }
 },
 "nbformat": 4,
 "nbformat_minor": 4
}
