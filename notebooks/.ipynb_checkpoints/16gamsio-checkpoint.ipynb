{
 "cells": [
  {
   "cell_type": "markdown",
   "metadata": {
    "slideshow": {
     "slide_type": "slide"
    }
   },
   "source": [
    "CS524: Introduction to Optimization <br>Lecture 16: n-dimensional io\n",
    "======================================\n",
    "## by Michael C. Ferris<br> Computer Sciences Department <br> University of Wisconsin-Madison\n",
    "## October 11, 2023\n"
   ]
  },
  {
   "cell_type": "markdown",
   "metadata": {
    "slideshow": {
     "slide_type": "slide"
    }
   },
   "source": [
    "# Introduction\n",
    "- The data does not always in the .gams file. Sometimes it is stored in other format, such as text file, Excel file, and GDX file\n",
    "- In this lecture we will cover ways that GAMS reads and writes diifferent types of data. "
   ]
  },
  {
   "cell_type": "markdown",
   "metadata": {},
   "source": [
    "## `Put` statement\n",
    "The `put` statement is at the core of the put writing facility.\n",
    "It has two different functions:\n",
    "- it specifies which of the previously defined put files is the current file\n",
    "- it writes output to that file. \n",
    "\n",
    "The basic structure of the put writing facility in its simplest form is as follows:\n",
    "    \n",
    "    File file_name {,file_name};\n",
    "    put file_name;\n",
    "    put item {,item};\n",
    "\n",
    "- [The Put Writing Facility](https://www.gams.com/latest/docs/UG_Put.html)  \n",
    "- `put` statement allows execution time writing of file.\n",
    "\n",
    "    _For example:_  \n",
    "        file optfile /cplex.opt/;  \n",
    "        put optfile;  \n",
    "        put 'lpmethod 3'/;  \n",
    "        put 'names no'/;  \n",
    "        putclose;  "
   ]
  },
  {
   "cell_type": "markdown",
   "metadata": {
    "slideshow": {
     "slide_type": "slide"
    }
   },
   "source": [
    "Here is another example of the `put` statement:\n",
    "\n",
    "    file factors /factors.dat/, results /results.dat/ ;\n",
    "    put factors ;\n",
    "    put ’Transportation Model Factors’///\n",
    "    ’Freight cost ’, f,\n",
    "    @1#6, ’Plant capacity’/;\n",
    "    loop(i, put @3, i.tl, @15, a(i)/);\n",
    "    put /’Market demand’/;\n",
    "    loop(j, put @3, j.tl, @15, b(j)/);\n",
    "    put results;put ’Transportation Model Results’// ;\n",
    "    loop((i,j), put i.tl, @12, j.tl, @24, x.l(i,j):8:4 /);    "
   ]
  },
  {
   "cell_type": "markdown",
   "metadata": {},
   "source": [
    "After execution, the put file __factors.dat__ will look as follows:\n",
    "\n",
    "Transportation Model　Factors\n",
    "\n",
    "Freight cost　　　　　　90.00\n",
    "\n",
    "Plant capacity<br>\n",
    "　　Seattle　　　　　　　350.00<br>\n",
    "　　San-Diego　　　　　 600.00<br>\n",
    "\n",
    "Market demand<br>\n",
    "　　New-York　　　　　　325.00<br>\n",
    "　　Chicago　　　　　　 300.00<br>\n",
    "　　Topeka　　　　　　　275.00<br>"
   ]
  },
  {
   "cell_type": "markdown",
   "metadata": {
    "slideshow": {
     "slide_type": "slide"
    }
   },
   "source": [
    "<i>Notes:<i/>\n",
    "- `/` is for carriage return\n",
    "- `@` Move to column\n",
    "- `#` Move to row\n",
    "- `.tl` gives 'title' (string form) of index\n",
    "- remember display?\n",
    "    - x.l(i,j):8:4 will return level of x vars using field width 8,4 decimals"
   ]
  },
  {
   "cell_type": "markdown",
   "metadata": {
    "slideshow": {
     "slide_type": "slide"
    }
   },
   "source": [
    "# `$onecho`, `$offecho\n",
    "\n",
    "- [$ control options](https://www.gams.com/latest/docs/UG_DollarControlOptions.html)  \n",
    "- `$onecho` and `$offecho` happen at compile time, so cannot update after a solve\n",
    "\n",
    "    _For example:_  \n",
    "    `$onecho` > cplex.opt  \n",
    "    lpmethod 3  \n",
    "    names no  \n",
    "    `$offecho`  "
   ]
  },
  {
   "cell_type": "markdown",
   "metadata": {
    "slideshow": {
     "slide_type": "slide"
    }
   },
   "source": [
    "## File input for GAMS\n",
    "\n",
    "- [Data Exchange with Text Files](https://www.gams.com/latest/docs/UG_DataExchange_ASCII.html)\n",
    "- The `include` compile-time command is used to instruct the GAMS compiler to include the context of a different file at the current position of the input stream.\n",
    "- It works like a macro, just insert the contents of file at location\n",
    "- Note that The include file (must) normally be in the current 'include directory' of GAMS\n",
    "- Data files can easily be dumped from Excel\n"
   ]
  },
  {
   "cell_type": "markdown",
   "metadata": {
    "slideshow": {
     "slide_type": "slide"
    }
   },
   "source": [
    "For example, if we want to create a table d in gams:\n",
    "\n",
    "|           | new-york | chicago | topeka |\n",
    "|-----------|----------|---------|--------|\n",
    "| seattle   | 2.5      | 1.7     | 1.8    |\n",
    "| san-diego | 2.5      | 1.8     | 1.4    |\n",
    "\n",
    "We can use the `$include` statement followed by the filename to incorporate the data, instead of using the `set` statement."
   ]
  },
  {
   "cell_type": "markdown",
   "metadata": {
    "slideshow": {
     "slide_type": "slide"
    }
   },
   "source": [
    "Here the __data.inc__ should contain following content:\n",
    "\n",
    "    d(\"seattle\",\"new-york\") = 2.5;\n",
    "    d(\"san-diego\",\"new-york\") = 2.5;\n",
    "    d(\"seattle\",\"chicago\") = 1.7;\n",
    "    d(\"san-diego\",\"chicago\") = 1.8;\n",
    "    d(\"seattle\",\"topeka\") = 1.8;\n",
    "    d(\"san-diego\",\"topeka\") = 1.4;"
   ]
  },
  {
   "cell_type": "code",
   "execution_count": 1,
   "metadata": {
    "slideshow": {
     "slide_type": "slide"
    }
   },
   "outputs": [],
   "source": [
    "%load_ext gams.magic\n",
    "m = gams.exchange_container"
   ]
  },
  {
   "cell_type": "code",
   "execution_count": 2,
   "metadata": {
    "slideshow": {
     "slide_type": "slide"
    }
   },
   "outputs": [],
   "source": [
    "%%gams\n",
    "set i /seattle, san-diego/;\n",
    "set j /new-york, chicago, topeka/;\n",
    "Parameter d(i,j) 'distance in thousands of miles';\n",
    "$include data.inc"
   ]
  },
  {
   "cell_type": "code",
   "execution_count": 3,
   "metadata": {
    "slideshow": {
     "slide_type": "slide"
    }
   },
   "outputs": [
    {
     "data": {
      "text/html": [
       "<div>\n",
       "<style scoped>\n",
       "    .dataframe tbody tr th:only-of-type {\n",
       "        vertical-align: middle;\n",
       "    }\n",
       "\n",
       "    .dataframe tbody tr th {\n",
       "        vertical-align: top;\n",
       "    }\n",
       "\n",
       "    .dataframe thead th {\n",
       "        text-align: right;\n",
       "    }\n",
       "</style>\n",
       "<table border=\"1\" class=\"dataframe\">\n",
       "  <thead>\n",
       "    <tr style=\"text-align: right;\">\n",
       "      <th></th>\n",
       "      <th>i</th>\n",
       "      <th>j</th>\n",
       "      <th>value</th>\n",
       "    </tr>\n",
       "  </thead>\n",
       "  <tbody>\n",
       "    <tr>\n",
       "      <th>0</th>\n",
       "      <td>seattle</td>\n",
       "      <td>new-york</td>\n",
       "      <td>2.5</td>\n",
       "    </tr>\n",
       "    <tr>\n",
       "      <th>1</th>\n",
       "      <td>seattle</td>\n",
       "      <td>chicago</td>\n",
       "      <td>1.7</td>\n",
       "    </tr>\n",
       "    <tr>\n",
       "      <th>2</th>\n",
       "      <td>seattle</td>\n",
       "      <td>topeka</td>\n",
       "      <td>1.8</td>\n",
       "    </tr>\n",
       "    <tr>\n",
       "      <th>3</th>\n",
       "      <td>san-diego</td>\n",
       "      <td>new-york</td>\n",
       "      <td>2.5</td>\n",
       "    </tr>\n",
       "    <tr>\n",
       "      <th>4</th>\n",
       "      <td>san-diego</td>\n",
       "      <td>chicago</td>\n",
       "      <td>1.8</td>\n",
       "    </tr>\n",
       "    <tr>\n",
       "      <th>5</th>\n",
       "      <td>san-diego</td>\n",
       "      <td>topeka</td>\n",
       "      <td>1.4</td>\n",
       "    </tr>\n",
       "  </tbody>\n",
       "</table>\n",
       "</div>"
      ],
      "text/plain": [
       "           i         j  value\n",
       "0    seattle  new-york    2.5\n",
       "1    seattle   chicago    1.7\n",
       "2    seattle    topeka    1.8\n",
       "3  san-diego  new-york    2.5\n",
       "4  san-diego   chicago    1.8\n",
       "5  san-diego    topeka    1.4"
      ]
     },
     "metadata": {},
     "output_type": "display_data"
    },
    {
     "data": {
      "text/html": [
       "<div>\n",
       "<style scoped>\n",
       "    .dataframe tbody tr th:only-of-type {\n",
       "        vertical-align: middle;\n",
       "    }\n",
       "\n",
       "    .dataframe tbody tr th {\n",
       "        vertical-align: top;\n",
       "    }\n",
       "\n",
       "    .dataframe thead th {\n",
       "        text-align: right;\n",
       "    }\n",
       "</style>\n",
       "<table border=\"1\" class=\"dataframe\">\n",
       "  <thead>\n",
       "    <tr style=\"text-align: right;\">\n",
       "      <th></th>\n",
       "      <th>new-york</th>\n",
       "      <th>chicago</th>\n",
       "      <th>topeka</th>\n",
       "    </tr>\n",
       "  </thead>\n",
       "  <tbody>\n",
       "    <tr>\n",
       "      <th>seattle</th>\n",
       "      <td>2.5</td>\n",
       "      <td>1.7</td>\n",
       "      <td>1.8</td>\n",
       "    </tr>\n",
       "    <tr>\n",
       "      <th>san-diego</th>\n",
       "      <td>2.5</td>\n",
       "      <td>1.8</td>\n",
       "      <td>1.4</td>\n",
       "    </tr>\n",
       "  </tbody>\n",
       "</table>\n",
       "</div>"
      ],
      "text/plain": [
       "           new-york  chicago  topeka\n",
       "seattle         2.5      1.7     1.8\n",
       "san-diego       2.5      1.8     1.4"
      ]
     },
     "metadata": {},
     "output_type": "display_data"
    }
   ],
   "source": [
    "# extract data back into python\n",
    "d = m.data['d']\n",
    "display(d.records,d.pivot())"
   ]
  },
  {
   "cell_type": "code",
   "execution_count": 4,
   "metadata": {},
   "outputs": [],
   "source": [
    "%gams_cleanup --closedown"
   ]
  },
  {
   "cell_type": "markdown",
   "metadata": {
    "slideshow": {
     "slide_type": "slide"
    }
   },
   "source": [
    "## GAMS include CSV \n",
    "\n",
    "- See notebooks:   \n",
    "- [GAMS read csv file](./16gamsreadcsv.ipynb)  \n",
    "- [GAMS write csv file](./16gamswritecsv.ipynb)  "
   ]
  },
  {
   "cell_type": "markdown",
   "metadata": {
    "slideshow": {
     "slide_type": "slide"
    }
   },
   "source": [
    "## GAMS and GDX \n",
    "\n",
    "- [Reading and writing GDX files](https://www.gams.com/latest/docs/UG_GDX.html)\n",
    "- See notebook:  \n",
    "- [GDX read and write](./16gdx.ipynb)  "
   ]
  },
  {
   "cell_type": "code",
   "execution_count": null,
   "metadata": {},
   "outputs": [],
   "source": []
  }
 ],
 "metadata": {
  "celltoolbar": "Slideshow",
  "kernelspec": {
   "display_name": "Python 3 (ipykernel)",
   "language": "python",
   "name": "python3"
  },
  "language_info": {
   "codemirror_mode": {
    "name": "ipython",
    "version": 3
   },
   "file_extension": ".py",
   "mimetype": "text/x-python",
   "name": "python",
   "nbconvert_exporter": "python",
   "pygments_lexer": "ipython3",
   "version": "3.10.12"
  }
 },
 "nbformat": 4,
 "nbformat_minor": 4
}
