{
 "cells": [
  {
   "cell_type": "markdown",
   "metadata": {
    "slideshow": {
     "slide_type": "slide"
    }
   },
   "source": [
    "CS524: Introduction to Optimization Lecture 14\n",
    "======================================\n",
    "\n",
    "## Michael Ferris<br> Computer Sciences Department <br> University of Wisconsin-Madison\n",
    "\n",
    "## October 9, 2023\n",
    "--------------"
   ]
  },
  {
   "cell_type": "code",
   "execution_count": 1,
   "metadata": {
    "slideshow": {
     "slide_type": "slide"
    }
   },
   "outputs": [],
   "source": [
    "%load_ext gams.magic"
   ]
  },
  {
   "cell_type": "markdown",
   "metadata": {},
   "source": [
    "#  Widgetco\n",
    "\n",
    "Widgetco is about to introduce a new product.  One unit of this product is produced by assembling subassembly 1 and subassembly 2. Before production begins on either subassembly, raw materials must be purchased and workers must be trained. Before the subassemblies can be assembled into the final product, the finished subassembly 2 must be inspected.  The GAMS code that sets up this data is given below."
   ]
  },
  {
   "cell_type": "code",
   "execution_count": 2,
   "metadata": {
    "slideshow": {
     "slide_type": "slide"
    }
   },
   "outputs": [],
   "source": [
    "%%gams\n",
    "set activity /\n",
    "    A \"Train Workers\",\n",
    "    B \"Purchase Raw Materials\",\n",
    "    C \"Make Subassembly 1\",\n",
    "    D \"Make Subassembly 2\",\n",
    "    E \"Inspect Subassembly 2\",\n",
    "    F \"Assemble Subassemblies\" /;\n",
    "\n",
    "alias (activity, I,J);\n",
    "\n",
    "set pred(I,J) \"I preceeds J\" /\n",
    "    (A,B) . C,\n",
    "    (A,B) . D,\n",
    "    D . E,\n",
    "    (C,E) . F /;\n",
    "\n",
    "parameter duration(I) /\n",
    "    A   6\n",
    "    B   9\n",
    "    C   8\n",
    "    D   7\n",
    "    E   10\n",
    "    F   12 /;"
   ]
  },
  {
   "cell_type": "code",
   "execution_count": 3,
   "metadata": {},
   "outputs": [],
   "source": [
    "import numpy as np\n",
    "\n",
    "m = gams.exchange_container\n",
    "activity = m.addSet('activity',records=[('A',\"Train Workers\"),('B',\"Purchase Raw Materials\"),\n",
    "    ('C',\"Make Subassembly 1\"),('D',\"Make Subassembly 2\"),\n",
    "    ('E',\"Inspect Subassembly 2\"),('F',\"Assemble Subassemblies\")])\n",
    "I = m.addAlias('I',activity)\n",
    "J = m.addAlias('J',activity)\n",
    "pred = m.addSet('pred',[I,J],description=\"I preceeds J\", records=[('A','C'), ('B','C'), \n",
    "    ('A','D'), ('B','D'), ('D','E'), ('C','F'), ('E','F')])\n",
    "duration = m.addParameter('duration',[I],records=np.array([6, 9, 8, 7, 10, 12]))"
   ]
  },
  {
   "cell_type": "code",
   "execution_count": 4,
   "metadata": {},
   "outputs": [
    {
     "data": {
      "text/html": [
       "<div>\n",
       "<style scoped>\n",
       "    .dataframe tbody tr th:only-of-type {\n",
       "        vertical-align: middle;\n",
       "    }\n",
       "\n",
       "    .dataframe tbody tr th {\n",
       "        vertical-align: top;\n",
       "    }\n",
       "\n",
       "    .dataframe thead th {\n",
       "        text-align: right;\n",
       "    }\n",
       "</style>\n",
       "<table border=\"1\" class=\"dataframe\">\n",
       "  <thead>\n",
       "    <tr style=\"text-align: right;\">\n",
       "      <th></th>\n",
       "      <th>uni</th>\n",
       "      <th>element_text</th>\n",
       "    </tr>\n",
       "  </thead>\n",
       "  <tbody>\n",
       "    <tr>\n",
       "      <th>0</th>\n",
       "      <td>A</td>\n",
       "      <td>Train Workers</td>\n",
       "    </tr>\n",
       "    <tr>\n",
       "      <th>1</th>\n",
       "      <td>B</td>\n",
       "      <td>Purchase Raw Materials</td>\n",
       "    </tr>\n",
       "    <tr>\n",
       "      <th>2</th>\n",
       "      <td>C</td>\n",
       "      <td>Make Subassembly 1</td>\n",
       "    </tr>\n",
       "    <tr>\n",
       "      <th>3</th>\n",
       "      <td>D</td>\n",
       "      <td>Make Subassembly 2</td>\n",
       "    </tr>\n",
       "    <tr>\n",
       "      <th>4</th>\n",
       "      <td>E</td>\n",
       "      <td>Inspect Subassembly 2</td>\n",
       "    </tr>\n",
       "    <tr>\n",
       "      <th>5</th>\n",
       "      <td>F</td>\n",
       "      <td>Assemble Subassemblies</td>\n",
       "    </tr>\n",
       "  </tbody>\n",
       "</table>\n",
       "</div>"
      ],
      "text/plain": [
       "  uni            element_text\n",
       "0   A           Train Workers\n",
       "1   B  Purchase Raw Materials\n",
       "2   C      Make Subassembly 1\n",
       "3   D      Make Subassembly 2\n",
       "4   E   Inspect Subassembly 2\n",
       "5   F  Assemble Subassemblies"
      ]
     },
     "metadata": {},
     "output_type": "display_data"
    },
    {
     "data": {
      "text/plain": [
       "[('A', 'C'),\n",
       " ('B', 'C'),\n",
       " ('A', 'D'),\n",
       " ('B', 'D'),\n",
       " ('D', 'E'),\n",
       " ('C', 'F'),\n",
       " ('E', 'F')]"
      ]
     },
     "metadata": {},
     "output_type": "display_data"
    },
    {
     "data": {
      "text/html": [
       "<div>\n",
       "<style scoped>\n",
       "    .dataframe tbody tr th:only-of-type {\n",
       "        vertical-align: middle;\n",
       "    }\n",
       "\n",
       "    .dataframe tbody tr th {\n",
       "        vertical-align: top;\n",
       "    }\n",
       "\n",
       "    .dataframe thead th {\n",
       "        text-align: right;\n",
       "    }\n",
       "</style>\n",
       "<table border=\"1\" class=\"dataframe\">\n",
       "  <thead>\n",
       "    <tr style=\"text-align: right;\">\n",
       "      <th></th>\n",
       "      <th>I</th>\n",
       "      <th>value</th>\n",
       "    </tr>\n",
       "  </thead>\n",
       "  <tbody>\n",
       "    <tr>\n",
       "      <th>0</th>\n",
       "      <td>A</td>\n",
       "      <td>6.0</td>\n",
       "    </tr>\n",
       "    <tr>\n",
       "      <th>1</th>\n",
       "      <td>B</td>\n",
       "      <td>9.0</td>\n",
       "    </tr>\n",
       "    <tr>\n",
       "      <th>2</th>\n",
       "      <td>C</td>\n",
       "      <td>8.0</td>\n",
       "    </tr>\n",
       "    <tr>\n",
       "      <th>3</th>\n",
       "      <td>D</td>\n",
       "      <td>7.0</td>\n",
       "    </tr>\n",
       "    <tr>\n",
       "      <th>4</th>\n",
       "      <td>E</td>\n",
       "      <td>10.0</td>\n",
       "    </tr>\n",
       "    <tr>\n",
       "      <th>5</th>\n",
       "      <td>F</td>\n",
       "      <td>12.0</td>\n",
       "    </tr>\n",
       "  </tbody>\n",
       "</table>\n",
       "</div>"
      ],
      "text/plain": [
       "   I  value\n",
       "0  A    6.0\n",
       "1  B    9.0\n",
       "2  C    8.0\n",
       "3  D    7.0\n",
       "4  E   10.0\n",
       "5  F   12.0"
      ]
     },
     "metadata": {},
     "output_type": "display_data"
    }
   ],
   "source": [
    "display(activity.records,pred.toList(),duration.records)"
   ]
  },
  {
   "cell_type": "code",
   "execution_count": 5,
   "metadata": {
    "slideshow": {
     "slide_type": "slide"
    }
   },
   "outputs": [],
   "source": [
    "%%gams\n",
    "variables projDur;\n",
    "positive variable t(I) \"time activity starts\";\n",
    "\n",
    "equations incidence(I,J), endTime(I);\n",
    "\n",
    "incidence(I,J)$pred(I,J)..\n",
    "    t(J) =g= t(I) + duration(I);\n",
    "\n",
    "endTime(I)..\n",
    "    projDur =g= t(I) + duration(I);\n",
    "\n",
    "model cpm /incidence,endTime/;"
   ]
  },
  {
   "cell_type": "markdown",
   "metadata": {},
   "source": [
    "Only run the following cell to demonstrate a non-unique critical path"
   ]
  },
  {
   "cell_type": "code",
   "execution_count": 6,
   "metadata": {},
   "outputs": [],
   "source": [
    "# gams.gams('duration('C') = 17;')"
   ]
  },
  {
   "cell_type": "code",
   "execution_count": 7,
   "metadata": {
    "slideshow": {
     "slide_type": "slide"
    }
   },
   "outputs": [
    {
     "data": {
      "text/html": [
       "<div>\n",
       "<style scoped>\n",
       "    .dataframe tbody tr th:only-of-type {\n",
       "        vertical-align: middle;\n",
       "    }\n",
       "\n",
       "    .dataframe tbody tr th {\n",
       "        vertical-align: top;\n",
       "    }\n",
       "\n",
       "    .dataframe thead th {\n",
       "        text-align: right;\n",
       "    }\n",
       "</style>\n",
       "<table border=\"1\" class=\"dataframe\">\n",
       "  <thead>\n",
       "    <tr style=\"text-align: right;\">\n",
       "      <th></th>\n",
       "      <th>Solver Status</th>\n",
       "      <th>Model Status</th>\n",
       "      <th>Objective</th>\n",
       "      <th>#equ</th>\n",
       "      <th>#var</th>\n",
       "      <th>Model Type</th>\n",
       "      <th>Solver</th>\n",
       "      <th>Solver Time</th>\n",
       "    </tr>\n",
       "  </thead>\n",
       "  <tbody>\n",
       "    <tr>\n",
       "      <th>0</th>\n",
       "      <td>Normal (1)</td>\n",
       "      <td>Optimal Global (1)</td>\n",
       "      <td>38.0</td>\n",
       "      <td>13</td>\n",
       "      <td>7</td>\n",
       "      <td>LP</td>\n",
       "      <td>CPLEX</td>\n",
       "      <td>0.016</td>\n",
       "    </tr>\n",
       "  </tbody>\n",
       "</table>\n",
       "</div>"
      ],
      "text/plain": [
       "  Solver Status        Model Status  Objective #equ #var Model Type Solver  \\\n",
       "0    Normal (1)  Optimal Global (1)       38.0   13    7         LP  CPLEX   \n",
       "\n",
       "  Solver Time  \n",
       "0       0.016  "
      ]
     },
     "execution_count": 7,
     "metadata": {},
     "output_type": "execute_result"
    }
   ],
   "source": [
    "%%gams\n",
    "solve cpm using lp minimizing projDur;\n",
    "\n",
    "set critical(activity) \"critical activities\";\n",
    "\n",
    "critical(activity) = yes$(smax(J$pred(J,activity),incidence.m(J,activity)) ge 1\n",
    "            or smax(J$pred(activity,J),incidence.m(activity,J)) ge 1);"
   ]
  },
  {
   "cell_type": "markdown",
   "metadata": {},
   "source": [
    "Critical path is identifed by binding constraints (those with positive multipliers)"
   ]
  },
  {
   "cell_type": "code",
   "execution_count": 8,
   "metadata": {
    "scrolled": true
   },
   "outputs": [
    {
     "data": {
      "text/plain": [
       "['B', 'D', 'E', 'F']"
      ]
     },
     "metadata": {},
     "output_type": "display_data"
    },
    {
     "data": {
      "text/html": [
       "<div>\n",
       "<style scoped>\n",
       "    .dataframe tbody tr th:only-of-type {\n",
       "        vertical-align: middle;\n",
       "    }\n",
       "\n",
       "    .dataframe tbody tr th {\n",
       "        vertical-align: top;\n",
       "    }\n",
       "\n",
       "    .dataframe thead th {\n",
       "        text-align: right;\n",
       "    }\n",
       "</style>\n",
       "<table border=\"1\" class=\"dataframe\">\n",
       "  <thead>\n",
       "    <tr style=\"text-align: right;\">\n",
       "      <th></th>\n",
       "      <th>C</th>\n",
       "      <th>D</th>\n",
       "      <th>F</th>\n",
       "      <th>E</th>\n",
       "    </tr>\n",
       "  </thead>\n",
       "  <tbody>\n",
       "    <tr>\n",
       "      <th>A</th>\n",
       "      <td>0.0</td>\n",
       "      <td>0.0</td>\n",
       "      <td></td>\n",
       "      <td></td>\n",
       "    </tr>\n",
       "    <tr>\n",
       "      <th>B</th>\n",
       "      <td>-0.0</td>\n",
       "      <td>1.0</td>\n",
       "      <td></td>\n",
       "      <td></td>\n",
       "    </tr>\n",
       "    <tr>\n",
       "      <th>C</th>\n",
       "      <td></td>\n",
       "      <td></td>\n",
       "      <td>0.0</td>\n",
       "      <td></td>\n",
       "    </tr>\n",
       "    <tr>\n",
       "      <th>D</th>\n",
       "      <td></td>\n",
       "      <td></td>\n",
       "      <td></td>\n",
       "      <td>1.0</td>\n",
       "    </tr>\n",
       "    <tr>\n",
       "      <th>E</th>\n",
       "      <td></td>\n",
       "      <td></td>\n",
       "      <td>1.0</td>\n",
       "      <td></td>\n",
       "    </tr>\n",
       "  </tbody>\n",
       "</table>\n",
       "</div>"
      ],
      "text/plain": [
       "     C    D    F    E\n",
       "A  0.0  0.0          \n",
       "B -0.0  1.0          \n",
       "C            0.0     \n",
       "D                 1.0\n",
       "E            1.0     "
      ]
     },
     "metadata": {},
     "output_type": "display_data"
    }
   ],
   "source": [
    "incidence=m.data['incidence']\n",
    "critical=m.data['critical']\n",
    "display(critical.toList(),incidence.pivot(fill_value='',value='marginal'))"
   ]
  },
  {
   "cell_type": "markdown",
   "metadata": {},
   "source": [
    "Now let's set up the dual"
   ]
  },
  {
   "cell_type": "code",
   "execution_count": 9,
   "metadata": {
    "slideshow": {
     "slide_type": "slide"
    }
   },
   "outputs": [
    {
     "data": {
      "text/html": [
       "<div>\n",
       "<style scoped>\n",
       "    .dataframe tbody tr th:only-of-type {\n",
       "        vertical-align: middle;\n",
       "    }\n",
       "\n",
       "    .dataframe tbody tr th {\n",
       "        vertical-align: top;\n",
       "    }\n",
       "\n",
       "    .dataframe thead th {\n",
       "        text-align: right;\n",
       "    }\n",
       "</style>\n",
       "<table border=\"1\" class=\"dataframe\">\n",
       "  <thead>\n",
       "    <tr style=\"text-align: right;\">\n",
       "      <th></th>\n",
       "      <th>Solver Status</th>\n",
       "      <th>Model Status</th>\n",
       "      <th>Objective</th>\n",
       "      <th>#equ</th>\n",
       "      <th>#var</th>\n",
       "      <th>Model Type</th>\n",
       "      <th>Solver</th>\n",
       "      <th>Solver Time</th>\n",
       "    </tr>\n",
       "  </thead>\n",
       "  <tbody>\n",
       "    <tr>\n",
       "      <th>0</th>\n",
       "      <td>Normal (1)</td>\n",
       "      <td>Optimal Global (1)</td>\n",
       "      <td>38.0</td>\n",
       "      <td>8</td>\n",
       "      <td>14</td>\n",
       "      <td>LP</td>\n",
       "      <td>CPLEX</td>\n",
       "      <td>0.001</td>\n",
       "    </tr>\n",
       "  </tbody>\n",
       "</table>\n",
       "</div>"
      ],
      "text/plain": [
       "  Solver Status        Model Status  Objective #equ #var Model Type Solver  \\\n",
       "0    Normal (1)  Optimal Global (1)       38.0    8   14         LP  CPLEX   \n",
       "\n",
       "  Solver Time  \n",
       "0       0.001  "
      ]
     },
     "execution_count": 9,
     "metadata": {},
     "output_type": "execute_result"
    }
   ],
   "source": [
    "%%gams\n",
    "positive variables\n",
    "    lamda(I,J) \"Dual var for incidence (critical arc)\"\n",
    "    pi(I);\n",
    "\n",
    "free variable dual_obj;\n",
    "\n",
    "equations\n",
    "    projDur_dual_eq \"Dual equation for projDur\"\n",
    "    teq(I)  \"Equations for primal t vars\"\n",
    "    dual_obj_def;\n",
    "\n",
    "dual_obj_def..\n",
    "    dual_obj =E= sum((I,J)$pred(I,J), lamda(I,J) * duration(I))\n",
    "        + sum(I,duration(I)*pi(I));\n",
    "\n",
    "projDur_dual_eq..\n",
    "    sum(I, pi(I)) =E= 1;\n",
    "\n",
    "teq(I)..\n",
    "    -pi(I) - sum(J$pred(I,J), lamda(I,J)) + sum(J$pred(J,I), lamda(J,I)) =L= 0;\n",
    "\n",
    "\n",
    "model dual_cpm /teq, projDur_dual_eq, dual_obj_def/;\n",
    "\n",
    "solve dual_cpm using lp maximizing dual_obj;\n",
    "\n",
    "critical(activity) = yes$(smax(J$pred(J,activity),lamda.l(J,activity)) ge 1\n",
    "            or smax(J$pred(activity,J),lamda.l(activity,J)) ge 1);"
   ]
  },
  {
   "cell_type": "code",
   "execution_count": 10,
   "metadata": {},
   "outputs": [
    {
     "data": {
      "text/html": [
       "<div>\n",
       "<style scoped>\n",
       "    .dataframe tbody tr th:only-of-type {\n",
       "        vertical-align: middle;\n",
       "    }\n",
       "\n",
       "    .dataframe tbody tr th {\n",
       "        vertical-align: top;\n",
       "    }\n",
       "\n",
       "    .dataframe thead th {\n",
       "        text-align: right;\n",
       "    }\n",
       "</style>\n",
       "<table border=\"1\" class=\"dataframe\">\n",
       "  <thead>\n",
       "    <tr style=\"text-align: right;\">\n",
       "      <th></th>\n",
       "      <th>C</th>\n",
       "      <th>D</th>\n",
       "      <th>F</th>\n",
       "      <th>E</th>\n",
       "    </tr>\n",
       "  </thead>\n",
       "  <tbody>\n",
       "    <tr>\n",
       "      <th>A</th>\n",
       "      <td>0.0</td>\n",
       "      <td>0.0</td>\n",
       "      <td></td>\n",
       "      <td></td>\n",
       "    </tr>\n",
       "    <tr>\n",
       "      <th>B</th>\n",
       "      <td>0.0</td>\n",
       "      <td>1.0</td>\n",
       "      <td></td>\n",
       "      <td></td>\n",
       "    </tr>\n",
       "    <tr>\n",
       "      <th>C</th>\n",
       "      <td></td>\n",
       "      <td></td>\n",
       "      <td>0.0</td>\n",
       "      <td></td>\n",
       "    </tr>\n",
       "    <tr>\n",
       "      <th>D</th>\n",
       "      <td></td>\n",
       "      <td></td>\n",
       "      <td></td>\n",
       "      <td>1.0</td>\n",
       "    </tr>\n",
       "    <tr>\n",
       "      <th>E</th>\n",
       "      <td></td>\n",
       "      <td></td>\n",
       "      <td>1.0</td>\n",
       "      <td></td>\n",
       "    </tr>\n",
       "  </tbody>\n",
       "</table>\n",
       "</div>"
      ],
      "text/plain": [
       "     C    D    F    E\n",
       "A  0.0  0.0          \n",
       "B  0.0  1.0          \n",
       "C            0.0     \n",
       "D                 1.0\n",
       "E            1.0     "
      ]
     },
     "metadata": {},
     "output_type": "display_data"
    },
    {
     "data": {
      "text/plain": [
       "['B', 'D', 'E', 'F']"
      ]
     },
     "metadata": {},
     "output_type": "display_data"
    }
   ],
   "source": [
    "lamda=m.data['lamda']\n",
    "critical=m.data['critical']\n",
    "display(lamda.pivot(fill_value=''),critical.toList())"
   ]
  },
  {
   "cell_type": "markdown",
   "metadata": {},
   "source": [
    "Now try to find early and late event times"
   ]
  },
  {
   "cell_type": "code",
   "execution_count": 11,
   "metadata": {},
   "outputs": [
    {
     "data": {
      "text/html": [
       "<div>\n",
       "<style scoped>\n",
       "    .dataframe tbody tr th:only-of-type {\n",
       "        vertical-align: middle;\n",
       "    }\n",
       "\n",
       "    .dataframe tbody tr th {\n",
       "        vertical-align: top;\n",
       "    }\n",
       "\n",
       "    .dataframe thead th {\n",
       "        text-align: right;\n",
       "    }\n",
       "</style>\n",
       "<table border=\"1\" class=\"dataframe\">\n",
       "  <thead>\n",
       "    <tr style=\"text-align: right;\">\n",
       "      <th></th>\n",
       "      <th>Solver Status</th>\n",
       "      <th>Model Status</th>\n",
       "      <th>Objective</th>\n",
       "      <th>#equ</th>\n",
       "      <th>#var</th>\n",
       "      <th>Model Type</th>\n",
       "      <th>Solver</th>\n",
       "      <th>Solver Time</th>\n",
       "    </tr>\n",
       "  </thead>\n",
       "  <tbody>\n",
       "    <tr>\n",
       "      <th>0</th>\n",
       "      <td>Normal (1)</td>\n",
       "      <td>Optimal Global (1)</td>\n",
       "      <td>72.0</td>\n",
       "      <td>14</td>\n",
       "      <td>8</td>\n",
       "      <td>LP</td>\n",
       "      <td>CPLEX</td>\n",
       "      <td>0.001</td>\n",
       "    </tr>\n",
       "    <tr>\n",
       "      <th>1</th>\n",
       "      <td>Normal (1)</td>\n",
       "      <td>Optimal Global (1)</td>\n",
       "      <td>60.0</td>\n",
       "      <td>14</td>\n",
       "      <td>8</td>\n",
       "      <td>LP</td>\n",
       "      <td>CPLEX</td>\n",
       "      <td>0.001</td>\n",
       "    </tr>\n",
       "  </tbody>\n",
       "</table>\n",
       "</div>"
      ],
      "text/plain": [
       "  Solver Status        Model Status  Objective #equ #var Model Type Solver  \\\n",
       "0    Normal (1)  Optimal Global (1)       72.0   14    8         LP  CPLEX   \n",
       "1    Normal (1)  Optimal Global (1)       60.0   14    8         LP  CPLEX   \n",
       "\n",
       "  Solver Time  \n",
       "0       0.001  \n",
       "1       0.001  "
      ]
     },
     "execution_count": 11,
     "metadata": {},
     "output_type": "execute_result"
    }
   ],
   "source": [
    "%%gams\n",
    "parameter\n",
    "    eeTime(activity) \"early event time\",\n",
    "    leTime(activity) \"late event time\";\n",
    "\n",
    "projDur.fx = projDur.l;\n",
    "\n",
    "variables objective;\n",
    "equations timeopt;\n",
    "\n",
    "timeopt..\n",
    "    objective =e= sum(activity,t(activity));\n",
    "\n",
    "model eventtimes /timeopt,incidence,endTime/;\n",
    "\n",
    "solve eventtimes using lp maximizing objective;\n",
    "leTime(activity) = t.l(activity);\n",
    "solve eventtimes using lp minimizing objective;\n",
    "eeTime(activity) = t.l(activity);\n",
    "\n",
    "critical(activity) = yes$(eeTime(activity) ge leTime(activity));"
   ]
  },
  {
   "cell_type": "code",
   "execution_count": 12,
   "metadata": {},
   "outputs": [
    {
     "data": {
      "text/html": [
       "<div>\n",
       "<style scoped>\n",
       "    .dataframe tbody tr th:only-of-type {\n",
       "        vertical-align: middle;\n",
       "    }\n",
       "\n",
       "    .dataframe tbody tr th {\n",
       "        vertical-align: top;\n",
       "    }\n",
       "\n",
       "    .dataframe thead th {\n",
       "        text-align: right;\n",
       "    }\n",
       "</style>\n",
       "<table border=\"1\" class=\"dataframe\">\n",
       "  <thead>\n",
       "    <tr style=\"text-align: right;\">\n",
       "      <th></th>\n",
       "      <th>activity</th>\n",
       "      <th>value</th>\n",
       "    </tr>\n",
       "  </thead>\n",
       "  <tbody>\n",
       "    <tr>\n",
       "      <th>0</th>\n",
       "      <td>C</td>\n",
       "      <td>9.0</td>\n",
       "    </tr>\n",
       "    <tr>\n",
       "      <th>1</th>\n",
       "      <td>D</td>\n",
       "      <td>9.0</td>\n",
       "    </tr>\n",
       "    <tr>\n",
       "      <th>2</th>\n",
       "      <td>E</td>\n",
       "      <td>16.0</td>\n",
       "    </tr>\n",
       "    <tr>\n",
       "      <th>3</th>\n",
       "      <td>F</td>\n",
       "      <td>26.0</td>\n",
       "    </tr>\n",
       "  </tbody>\n",
       "</table>\n",
       "</div>"
      ],
      "text/plain": [
       "  activity  value\n",
       "0        C    9.0\n",
       "1        D    9.0\n",
       "2        E   16.0\n",
       "3        F   26.0"
      ]
     },
     "metadata": {},
     "output_type": "display_data"
    },
    {
     "data": {
      "text/html": [
       "<div>\n",
       "<style scoped>\n",
       "    .dataframe tbody tr th:only-of-type {\n",
       "        vertical-align: middle;\n",
       "    }\n",
       "\n",
       "    .dataframe tbody tr th {\n",
       "        vertical-align: top;\n",
       "    }\n",
       "\n",
       "    .dataframe thead th {\n",
       "        text-align: right;\n",
       "    }\n",
       "</style>\n",
       "<table border=\"1\" class=\"dataframe\">\n",
       "  <thead>\n",
       "    <tr style=\"text-align: right;\">\n",
       "      <th></th>\n",
       "      <th>activity</th>\n",
       "      <th>value</th>\n",
       "    </tr>\n",
       "  </thead>\n",
       "  <tbody>\n",
       "    <tr>\n",
       "      <th>0</th>\n",
       "      <td>A</td>\n",
       "      <td>3.0</td>\n",
       "    </tr>\n",
       "    <tr>\n",
       "      <th>1</th>\n",
       "      <td>C</td>\n",
       "      <td>18.0</td>\n",
       "    </tr>\n",
       "    <tr>\n",
       "      <th>2</th>\n",
       "      <td>D</td>\n",
       "      <td>9.0</td>\n",
       "    </tr>\n",
       "    <tr>\n",
       "      <th>3</th>\n",
       "      <td>E</td>\n",
       "      <td>16.0</td>\n",
       "    </tr>\n",
       "    <tr>\n",
       "      <th>4</th>\n",
       "      <td>F</td>\n",
       "      <td>26.0</td>\n",
       "    </tr>\n",
       "  </tbody>\n",
       "</table>\n",
       "</div>"
      ],
      "text/plain": [
       "  activity  value\n",
       "0        A    3.0\n",
       "1        C   18.0\n",
       "2        D    9.0\n",
       "3        E   16.0\n",
       "4        F   26.0"
      ]
     },
     "metadata": {},
     "output_type": "display_data"
    },
    {
     "data": {
      "text/plain": [
       "['B', 'D', 'E', 'F']"
      ]
     },
     "metadata": {},
     "output_type": "display_data"
    }
   ],
   "source": [
    "eeTime=m.data['eeTime']\n",
    "leTime=m.data['leTime']\n",
    "critical=m.data['critical']\n",
    "display(eeTime.records,leTime.records,critical.toList())"
   ]
  },
  {
   "cell_type": "markdown",
   "metadata": {},
   "source": [
    "Now do this only solving the single LP (i.e. only need data and the value projDur.l)\n",
    "(Note this is more complicated gams programming)"
   ]
  },
  {
   "cell_type": "code",
   "execution_count": 13,
   "metadata": {
    "scrolled": true
   },
   "outputs": [],
   "source": [
    "%%gams\n",
    "set firstdone(activity), next(activity);\n",
    "\n",
    "eeTime(activity) = -inf;\n",
    "\n",
    "firstdone(J) = yes$(sum(I$pred(I,J),1) eq 0);\n",
    "eeTime(firstdone) = 0;\n",
    "\n",
    "set iters /iter1*iter100/;\n",
    "\n",
    "loop(iters$(card(firstdone) gt 0),\n",
    "  next(I) = yes$sum(pred(firstdone,I),1);\n",
    "  eeTime(next) = smax(pred(J,next), eeTime(J)+duration(J));\n",
    "  firstdone(activity) = next(activity);\n",
    ");\n",
    "\n",
    "set lastdone(activity), prev(activity);\n",
    "\n",
    "leTime(activity) = inf;\n",
    "\n",
    "lastdone(I) = yes$(sum(J$pred(I,J),1) eq 0);\n",
    "leTime(lastdone) = projDur.l-duration(lastdone);\n",
    "\n",
    "loop(iters$(card(lastdone) gt 0),\n",
    "  prev(I) = yes$sum(pred(I,lastdone),1);\n",
    "  leTime(prev) = smin(pred(prev,J), leTime(J)-duration(prev));\n",
    "  lastdone(activity) = prev(activity);\n",
    ");\n",
    "\n",
    "critical(activity) = yes$(eeTime(activity) ge leTime(activity));"
   ]
  },
  {
   "cell_type": "code",
   "execution_count": 14,
   "metadata": {},
   "outputs": [
    {
     "data": {
      "text/html": [
       "<div>\n",
       "<style scoped>\n",
       "    .dataframe tbody tr th:only-of-type {\n",
       "        vertical-align: middle;\n",
       "    }\n",
       "\n",
       "    .dataframe tbody tr th {\n",
       "        vertical-align: top;\n",
       "    }\n",
       "\n",
       "    .dataframe thead th {\n",
       "        text-align: right;\n",
       "    }\n",
       "</style>\n",
       "<table border=\"1\" class=\"dataframe\">\n",
       "  <thead>\n",
       "    <tr style=\"text-align: right;\">\n",
       "      <th></th>\n",
       "      <th>activity</th>\n",
       "      <th>value</th>\n",
       "    </tr>\n",
       "  </thead>\n",
       "  <tbody>\n",
       "    <tr>\n",
       "      <th>0</th>\n",
       "      <td>C</td>\n",
       "      <td>9.0</td>\n",
       "    </tr>\n",
       "    <tr>\n",
       "      <th>1</th>\n",
       "      <td>D</td>\n",
       "      <td>9.0</td>\n",
       "    </tr>\n",
       "    <tr>\n",
       "      <th>2</th>\n",
       "      <td>E</td>\n",
       "      <td>16.0</td>\n",
       "    </tr>\n",
       "    <tr>\n",
       "      <th>3</th>\n",
       "      <td>F</td>\n",
       "      <td>26.0</td>\n",
       "    </tr>\n",
       "  </tbody>\n",
       "</table>\n",
       "</div>"
      ],
      "text/plain": [
       "  activity  value\n",
       "0        C    9.0\n",
       "1        D    9.0\n",
       "2        E   16.0\n",
       "3        F   26.0"
      ]
     },
     "metadata": {},
     "output_type": "display_data"
    },
    {
     "data": {
      "text/html": [
       "<div>\n",
       "<style scoped>\n",
       "    .dataframe tbody tr th:only-of-type {\n",
       "        vertical-align: middle;\n",
       "    }\n",
       "\n",
       "    .dataframe tbody tr th {\n",
       "        vertical-align: top;\n",
       "    }\n",
       "\n",
       "    .dataframe thead th {\n",
       "        text-align: right;\n",
       "    }\n",
       "</style>\n",
       "<table border=\"1\" class=\"dataframe\">\n",
       "  <thead>\n",
       "    <tr style=\"text-align: right;\">\n",
       "      <th></th>\n",
       "      <th>activity</th>\n",
       "      <th>value</th>\n",
       "    </tr>\n",
       "  </thead>\n",
       "  <tbody>\n",
       "    <tr>\n",
       "      <th>0</th>\n",
       "      <td>A</td>\n",
       "      <td>3.0</td>\n",
       "    </tr>\n",
       "    <tr>\n",
       "      <th>1</th>\n",
       "      <td>C</td>\n",
       "      <td>18.0</td>\n",
       "    </tr>\n",
       "    <tr>\n",
       "      <th>2</th>\n",
       "      <td>D</td>\n",
       "      <td>9.0</td>\n",
       "    </tr>\n",
       "    <tr>\n",
       "      <th>3</th>\n",
       "      <td>E</td>\n",
       "      <td>16.0</td>\n",
       "    </tr>\n",
       "    <tr>\n",
       "      <th>4</th>\n",
       "      <td>F</td>\n",
       "      <td>26.0</td>\n",
       "    </tr>\n",
       "  </tbody>\n",
       "</table>\n",
       "</div>"
      ],
      "text/plain": [
       "  activity  value\n",
       "0        A    3.0\n",
       "1        C   18.0\n",
       "2        D    9.0\n",
       "3        E   16.0\n",
       "4        F   26.0"
      ]
     },
     "metadata": {},
     "output_type": "display_data"
    },
    {
     "data": {
      "text/plain": [
       "['B', 'D', 'E', 'F']"
      ]
     },
     "metadata": {},
     "output_type": "display_data"
    }
   ],
   "source": [
    "eeTime=m.data['eeTime']\n",
    "leTime=m.data['leTime']\n",
    "critical=m.data['critical']\n",
    "display(eeTime.records,leTime.records,critical.toList())"
   ]
  },
  {
   "cell_type": "code",
   "execution_count": 15,
   "metadata": {},
   "outputs": [],
   "source": [
    "gams.gams_cleanup('--closedown')"
   ]
  },
  {
   "cell_type": "code",
   "execution_count": null,
   "metadata": {},
   "outputs": [],
   "source": []
  }
 ],
 "metadata": {
  "kernelspec": {
   "display_name": "Python 3 (ipykernel)",
   "language": "python",
   "name": "python3"
  },
  "language_info": {
   "codemirror_mode": {
    "name": "ipython",
    "version": 3
   },
   "file_extension": ".py",
   "mimetype": "text/x-python",
   "name": "python",
   "nbconvert_exporter": "python",
   "pygments_lexer": "ipython3",
   "version": "3.10.12"
  }
 },
 "nbformat": 4,
 "nbformat_minor": 4
}
