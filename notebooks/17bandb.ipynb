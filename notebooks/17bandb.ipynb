{
 "cells": [
  {
   "cell_type": "markdown",
   "metadata": {
    "slideshow": {
     "slide_type": "slide"
    }
   },
   "source": [
    "CS524: Introduction to Optimization Lecture 17\n",
    "======================================\n",
    "\n",
    "#### Michael C. Ferris<br>Computer Sciences Department<br>University of Wisconsin-Madison\n",
    "#### October 13, 2023"
   ]
  },
  {
   "cell_type": "markdown",
   "metadata": {},
   "source": [
    "## Discrete variables\n",
    "\n",
    "- In many modeling situations some or all of the variables are constrained to\n",
    " take on only integer values.\n",
    "\n",
    "- In addition to ``positive`` and ``free variables``, GAMS has ``integer variables`` $x \\in \\{ 0,1,2,\\ldots\\}$ and ``binary variables`` $x \\in \\{ 0, 1 \\}$.\n",
    "\n",
    "- Any model that involves discrete variables (and otherwise) linear constraints is a ``mip`` and not a linear program.  The solve statement must be modified:\n",
    "\n",
    " solve modname using mip minimizing obj;\n",
    "\n",
    "- Such problems are much harder to solve as we now see.  \n",
    "- Note that replacing ``mip`` by ``rmip`` in the above solve statement relaxes the integer constraints so the variable are continuous and the resulting model is then a linear program (but is a ``relaxation``).\n",
    "  "
   ]
  },
  {
   "cell_type": "markdown",
   "metadata": {},
   "source": [
    "## Semiint, semicont or sos (other discrete) variables}\n",
    "\n",
    "\n",
    "- Note that GAMS can use semiint or semicontinuous variables that are also discrete variables. See the ``Variables'' section of the user guide.\n",
    "- Semicontinuous is a variable that is either zero, or else in a given range $[L,U]$. Define ``semicont variable x; x.lo = L; x.up = U;``\n",
    "- Semiint is the same, except that there is also an integer restriction. It's a variable that is either zero or else an integer in\n",
    "the range $[L,U]$.\n",
    "- Not all mip solvers allow these variable types so we often just model using  binary and integer variables.\n",
    "- Example: ``dorian2.gms``\n",
    "- There are also ``sos1`` and ``sos2`` variables} as we shall use later."
   ]
  },
  {
   "cell_type": "markdown",
   "metadata": {
    "slideshow": {
     "slide_type": "slide"
    }
   },
   "source": [
    "## Integer Programs are hard!\n",
    "<ul>\n",
    "    <li>IP models can be very much more difficult to solve than LP models.</li>\n",
    "    <li><b>I’m not kidding<br>\n",
    "           For example, an IP model can take 2 years of CPU time to solve. </b></li>\n",
    "    <li>It is important that you have a handle on...\n",
    "        <ol>\n",
    "            <li>How to build a problem that is likely to be solved – <b>Proper formulation is important!</b> This can affect how long the program will run. </li>\n",
    "            <li>The general ideas of how integer programming problems are solved: <font color=\"red\">Branch and Bound.</font></li>\n",
    "        </ol>\n",
    "    </li>\n",
    "</ul>"
   ]
  },
  {
   "cell_type": "markdown",
   "metadata": {
    "slideshow": {
     "slide_type": "slide"
    }
   },
   "source": [
    "## It’s All About Relaxations\n",
    "<img src=\"ST.png\" style=\"height: 300px;\" class=\"center\"/>\n",
    "Here, the red rectangle $ S $ can be seen as the region holding the solutions of the IP problem, while the green hexagon $ T $ is the region holding the solutions of the relaxed LP problem.<br>\n",
    "\n",
    "The optimal solution in each region can be written as\n",
    "<ul>\n",
    "    <li>Let $ z_S = \\max f(x):x \\in S$</li>\n",
    "    <li>Let $ z_T = \\max f(x):x \\in T$</li>\n",
    "</ul>\n",
    "<br>"
   ]
  },
  {
   "cell_type": "markdown",
   "metadata": {
    "slideshow": {
     "slide_type": "slide"
    }
   },
   "source": [
    "## Obvious, but Important Stuff\n",
    "\n",
    "$$ z_T \\geq z_S \\text{(Always true!!!)}$$\n",
    "\n",
    "<br>\n",
    "<ul>\n",
    "    <li>If $ x^*_T $ is an optimal solution to $ \\max f(x):x \\in T $</li>\n",
    "<li>And $ x^*_T \\in S$, then</li>\n",
    "<li>$ x^*_T $ is an optimal solution to $ \\max f(x):x \\in S $</li>\n",
    "<li>If we were to replace $ \\max $ by $ \\min $, then $ z_T \\leq z_S $. <font color=\"red\">Everything is just flipped!</font></li>\n",
    "</ul>"
   ]
  },
  {
   "cell_type": "markdown",
   "metadata": {
    "slideshow": {
     "slide_type": "slide"
    }
   },
   "source": [
    "## LP relaxation\n",
    "Consider the IP problem<br><br>\n",
    "\n",
    "maximize\n",
    "$$ z_{IP} = c^T x $$\n",
    "subject to\n",
    "$$ Ax \\geq b $$\n",
    "$$ x \\geq 0 $$\n",
    "$$ x_j \\in \\mathbb{Z}, j \\in P \\subseteq N $$\n",
    "\n",
    "This is essentially the \"red rectangle\" problem."
   ]
  },
  {
   "cell_type": "markdown",
   "metadata": {
    "slideshow": {
     "slide_type": "slide"
    }
   },
   "source": [
    "## LP relaxation\n",
    "This IP problem can be relaxed to the LP problem <br><br>\n",
    "\n",
    "maximize\n",
    "$$ z_{LP} = c^T x $$\n",
    "subject to\n",
    "$$ Ax \\geq b $$\n",
    "$$ x \\geq 0 $$\n",
    "\n",
    "This is essentially the \"green hexagon\" problem.\n",
    "\n",
    "<ul>\n",
    "    <li>$ z_{LP} \\geq z_{IP}$<br></li>\n",
    "    <li>If $ x^* $ solves the LP relaxation and $ x^* $ satisfies the integrality requirements ($ x^* \\in S $), then $ x^* $ solves IP.</li>\n",
    "</ul>"
   ]
  },
  {
   "cell_type": "markdown",
   "metadata": {
    "slideshow": {
     "slide_type": "slide"
    }
   },
   "source": [
    "## $ x^* \\notin S $?\n",
    "<ul>\n",
    "    <li>Then we <font color=\"red\">branch!</font></li>\n",
    "    <li>Partition the problem into smaller pieces.</li>\n",
    "    <li>$ x^* \\notin S \\Rightarrow \\exists k \\in P $ such that $ x^*_k $ is fractional.</li>\n",
    "    <li>Create two new (restricted IP) problems...</li>\n",
    "</ul>\n",
    "<ol>\n",
    "    <li>In one problem, add the constraint $ x_k \\leq \\lfloor{x^*_k}\\rfloor $</li>\n",
    "    <li>In the other problem, add the constraint $ x_k \\geq \\lceil{x^*_k}\\rceil $</li>\n",
    "</ol>"
   ]
  },
  {
   "cell_type": "markdown",
   "metadata": {
    "slideshow": {
     "slide_type": "slide"
    }
   },
   "source": [
    "## What Does All That Fancy Notation Mean?\n",
    "Consider the IP problem<br><br>\n",
    "maximize\n",
    "$$ z = 5x_1 + 4x_2 $$\n",
    "subject to\n",
    "$$ x_1 + x_2 \\leq 5 $$\n",
    "$$ 10x_1 + 6x_2 \\leq 45 $$\n",
    "$$ x_1, x_2 \\geq 0 $$\n",
    "$$ x_1,x_2 \\in \\mathbb{Z} \\text{(must be integer valued)} $$"
   ]
  },
  {
   "cell_type": "markdown",
   "metadata": {
    "slideshow": {
     "slide_type": "slide"
    }
   },
   "source": [
    "## The Feasible Region\n",
    "<img src=\"FeasibleRegion.png\" style=\"height: 300px;\" class=\"center\"/>\n",
    "Here, the \"red dots\" are the feasible region (i.e. integers). <br>"
   ]
  },
  {
   "cell_type": "markdown",
   "metadata": {
    "slideshow": {
     "slide_type": "slide"
    }
   },
   "source": [
    "## The Feasible Region\n",
    "<img src=\"FeasibleRegion.png\" style=\"height: 300px;\" class=\"center\"/>\n",
    "The optimal solution of the LP relaxation of this problem is $ z = 23.75 $, $ x_1 = 3.75 $, $ x_2 = 1.25 $.<br>\n",
    "However, these solution values do not satisfy the integral restrictions."
   ]
  },
  {
   "cell_type": "markdown",
   "metadata": {
    "slideshow": {
     "slide_type": "slide"
    }
   },
   "source": [
    "## Branching\n",
    "To solve this problem, divide (or \"branch\") the problem into two smaller restricted IP problems, where one has $ x_1 \\leq 3 $ and the other has $ x_1 \\geq 4 $, as shown: <br>\n",
    "\n",
    "<img src=\"Branching.png\" style=\"height: 300px;\" class=\"center\"/>\n",
    "\n",
    "Now, the IP solution can be found by recursively solving the LP relaxations of the two smaller restricted IP problems.<br>"
   ]
  },
  {
   "cell_type": "markdown",
   "metadata": {
    "slideshow": {
     "slide_type": "slide"
    }
   },
   "source": [
    "## The Branch and Bound Algorithm\n",
    "<ul>\n",
    "    <li>All of the following assumes a <i>maximization</i> problem.</li>\n",
    "    <li>It works equally well for minimization, but you need to replace “lower” by “upper” (and vice verse) everywhere.</li>\n",
    "    <li>Let $ z_L $ be a lower bound on optimal objective value. Originally $ z_L = -\\infty $. The initial list of LP relaxations to solve consists of just the LP relaxation to the entire problem.</li>\n",
    "</ul>"
   ]
  },
  {
   "cell_type": "markdown",
   "metadata": {
    "slideshow": {
     "slide_type": "slide"
    }
   },
   "source": [
    "## Branch and Bound (1 of 2)\n",
    "\n",
    "<ol>\n",
    "    <li>Select a restricted IP problem.</li>\n",
    "    <li>Solve the LP relaxation of the restricted IP problem. If the LP relaxation is infeasible, Go to 1.</li>\n",
    "    <li>Otherwise, let $ x^* $ be the optimal solution to the LP relaxation and let $ z^* $ be its objective value.</li>\n",
    "    <li>If $ x^* $ satisfies the integer restrictions, then $ z^* $ is the optimal value for the restricted IP problem. If $ z^* \\gt z_L $, then $ z_L := z^* $. (Also keep track of $ x^* $ as a candidate solution). Go to 1.</li>\n",
    "</ol>"
   ]
  },
  {
   "cell_type": "markdown",
   "metadata": {
    "slideshow": {
     "slide_type": "slide"
    }
   },
   "source": [
    "## Branch and Bound (2 of 2)\n",
    "\n",
    "<ol start=\"5\">\n",
    "    <li>Otherwise, $ x^* $ does not satisfy the integer restrictions. $ z^* $ is an upper bound on the optimal value of the restricted IP problem.</li>\n",
    "    <li>If $ z^* \\leq z_L $, (<font color=\"red\">Fathom</font>) Go to 1. (There is no way that a better optimal solution can be in this restricted region).</li>\n",
    "    <li>Otherwise, <font color=\"red\">Divide</font>. Choose some index $ k $ such that $ x^*_k $ does not satsify the integer restriction. Add two new restricted problems to the list:\n",
    "        <ol>\n",
    "            <li>Include constraint $ x_k \\leq \\lfloor{x^*_k}\\rfloor $</li>\n",
    "            <li>Include constraint $ x_k \\geq \\lceil{x^*_k}\\rceil $</li>\n",
    "        </ol></li>\n",
    "    <li>Go to 1.</li>\n",
    "</ol>"
   ]
  },
  {
   "cell_type": "markdown",
   "metadata": {
    "slideshow": {
     "slide_type": "slide"
    }
   },
   "source": [
    "## Simple knapsack example\n",
    "$$ \\max_x{8x_1 + 6x_2 + 5x_3 + 4x_4} $$\n",
    "$$ 5x_1 + 4x_2 + 4x_3 + 2x_4 \\leq 8 $$\n",
    "$$ x_1, x_2, x_3, x_4 \\in \\{0, 1\\} $$"
   ]
  },
  {
   "cell_type": "code",
   "execution_count": 1,
   "metadata": {
    "slideshow": {
     "slide_type": "slide"
    }
   },
   "outputs": [],
   "source": [
    "%load_ext gams.magic\n",
    "m = gams.exchange_container\n",
    "x1 = m.addVariable('x1','binary')\n",
    "x2 = m.addVariable('x2','binary')\n",
    "x3 = m.addVariable('x3','binary')\n",
    "x4 = m.addVariable('x4','binary')"
   ]
  },
  {
   "cell_type": "code",
   "execution_count": 2,
   "metadata": {
    "slideshow": {
     "slide_type": "slide"
    }
   },
   "outputs": [],
   "source": [
    "%%gams\n",
    "variable obj_var;\n",
    "\n",
    "Equations eq, obj;\n",
    "obj..    8*x1 + 6*x2 + 5*x3 + 4*x4 =e= obj_var;\n",
    "eq..     5*x1 + 4*x2 + 4*x3 + 2*x4 =l= 8;  \n",
    "\n",
    "model bb/all/;"
   ]
  },
  {
   "cell_type": "markdown",
   "metadata": {
    "slideshow": {
     "slide_type": "slide"
    }
   },
   "source": [
    "# b_and_b.gms\n",
    "\n",
    "The lower and upper bounds are initialized to be\n",
    "$$ z_L = -\\infty, z_U = \\infty $$\n",
    "First solve the basic LP relaxation of the original IP problem (restricted IP problem).<br>"
   ]
  },
  {
   "cell_type": "code",
   "execution_count": 3,
   "metadata": {
    "slideshow": {
     "slide_type": "slide"
    }
   },
   "outputs": [
    {
     "data": {
      "text/html": [
       "<div>\n",
       "<style scoped>\n",
       "    .dataframe tbody tr th:only-of-type {\n",
       "        vertical-align: middle;\n",
       "    }\n",
       "\n",
       "    .dataframe tbody tr th {\n",
       "        vertical-align: top;\n",
       "    }\n",
       "\n",
       "    .dataframe thead th {\n",
       "        text-align: right;\n",
       "    }\n",
       "</style>\n",
       "<table border=\"1\" class=\"dataframe\">\n",
       "  <thead>\n",
       "    <tr style=\"text-align: right;\">\n",
       "      <th></th>\n",
       "      <th>Solver Status</th>\n",
       "      <th>Model Status</th>\n",
       "      <th>Objective</th>\n",
       "      <th>#equ</th>\n",
       "      <th>#var</th>\n",
       "      <th>Model Type</th>\n",
       "      <th>Solver</th>\n",
       "      <th>Solver Time</th>\n",
       "    </tr>\n",
       "  </thead>\n",
       "  <tbody>\n",
       "    <tr>\n",
       "      <th>0</th>\n",
       "      <td>Normal (1)</td>\n",
       "      <td>Optimal Global (1)</td>\n",
       "      <td>13.5</td>\n",
       "      <td>2</td>\n",
       "      <td>5</td>\n",
       "      <td>RMIP</td>\n",
       "      <td>CPLEX</td>\n",
       "      <td>0.015</td>\n",
       "    </tr>\n",
       "  </tbody>\n",
       "</table>\n",
       "</div>"
      ],
      "text/plain": [
       "  Solver Status        Model Status  Objective #equ #var Model Type Solver  \\\n",
       "0    Normal (1)  Optimal Global (1)       13.5    2    5       RMIP  CPLEX   \n",
       "\n",
       "  Solver Time  \n",
       "0       0.015  "
      ]
     },
     "execution_count": 3,
     "metadata": {},
     "output_type": "execute_result"
    },
    {
     "name": "stdout",
     "output_type": "stream",
     "text": [
      "x = (1.0, 0.25, 0.0, 1.0)\n"
     ]
    }
   ],
   "source": [
    "gams.gams('solve bb using rmip maximizing obj_var;')\n",
    "print(f'x = ({x1.toValue()}, {x2.toValue()}, {x3.toValue()}, {x4.toValue()})')"
   ]
  },
  {
   "cell_type": "markdown",
   "metadata": {
    "slideshow": {
     "slide_type": "slide"
    }
   },
   "source": [
    "# b_and_b.gms\n",
    "The current LP relaxation is feasible, but $ x_2 $ is not an integer. <br>\n",
    "<img src=\"BranchandBoundProcess1.png\" style=\"height: 300px;\" class=\"center\"/><br>\n",
    "Here, $ z = 13.5 $ is the upper bound for all of the remaining restricted problems. Thus, the current bounds become\n",
    "$$ z_L = -\\infty, z_U = 13.5 $$"
   ]
  },
  {
   "cell_type": "markdown",
   "metadata": {
    "slideshow": {
     "slide_type": "slide"
    }
   },
   "source": [
    "# b_and_b.gms\n",
    "Divide the current problem into two restricted problems, where one has $ x_2 = 0 $ and the other has $ x_2 = 1 $.<br>\n",
    "<img src=\"BranchandBoundProcess2.png\" style=\"height: 300px;\" class=\"center\"/><br>\n",
    "First, solve the LP relaxation where $ x_2 = 0 $."
   ]
  },
  {
   "cell_type": "code",
   "execution_count": 4,
   "metadata": {
    "slideshow": {
     "slide_type": "slide"
    }
   },
   "outputs": [
    {
     "data": {
      "text/html": [
       "<div>\n",
       "<style scoped>\n",
       "    .dataframe tbody tr th:only-of-type {\n",
       "        vertical-align: middle;\n",
       "    }\n",
       "\n",
       "    .dataframe tbody tr th {\n",
       "        vertical-align: top;\n",
       "    }\n",
       "\n",
       "    .dataframe thead th {\n",
       "        text-align: right;\n",
       "    }\n",
       "</style>\n",
       "<table border=\"1\" class=\"dataframe\">\n",
       "  <thead>\n",
       "    <tr style=\"text-align: right;\">\n",
       "      <th></th>\n",
       "      <th>Solver Status</th>\n",
       "      <th>Model Status</th>\n",
       "      <th>Objective</th>\n",
       "      <th>#equ</th>\n",
       "      <th>#var</th>\n",
       "      <th>Model Type</th>\n",
       "      <th>Solver</th>\n",
       "      <th>Solver Time</th>\n",
       "    </tr>\n",
       "  </thead>\n",
       "  <tbody>\n",
       "    <tr>\n",
       "      <th>0</th>\n",
       "      <td>Normal (1)</td>\n",
       "      <td>Optimal Global (1)</td>\n",
       "      <td>13.25</td>\n",
       "      <td>2</td>\n",
       "      <td>5</td>\n",
       "      <td>RMIP</td>\n",
       "      <td>CPLEX</td>\n",
       "      <td>0.003</td>\n",
       "    </tr>\n",
       "  </tbody>\n",
       "</table>\n",
       "</div>"
      ],
      "text/plain": [
       "  Solver Status        Model Status  Objective #equ #var Model Type Solver  \\\n",
       "0    Normal (1)  Optimal Global (1)      13.25    2    5       RMIP  CPLEX   \n",
       "\n",
       "  Solver Time  \n",
       "0       0.003  "
      ]
     },
     "execution_count": 4,
     "metadata": {},
     "output_type": "execute_result"
    },
    {
     "name": "stdout",
     "output_type": "stream",
     "text": [
      "x = (1.0, 0.0, 0.25, 1.0)\n"
     ]
    }
   ],
   "source": [
    "gams.gams('x2.fx=0; solve bb using rmip maximizing obj_var;')\n",
    "print(f'x = ({x1.toValue()}, {x2.toValue()}, {x3.toValue()}, {x4.toValue()})')"
   ]
  },
  {
   "cell_type": "markdown",
   "metadata": {
    "slideshow": {
     "slide_type": "slide"
    }
   },
   "source": [
    "# b_and_b.gms\n",
    "The current LP relaxation is feasible, but $ x_3 $ is not an integer. <br>\n",
    "Current bounds are\n",
    "$$ z_L = -\\infty, z_U = 13.5 $$"
   ]
  },
  {
   "cell_type": "markdown",
   "metadata": {
    "slideshow": {
     "slide_type": "slide"
    }
   },
   "source": [
    "# b_and_b.gms\n",
    "Divide the current problem into two restricted problems, where one has $ x_2 = 0, x_3 = 0 $ and the other has $ x_2 = 0, x_3 = 1 $.<br>\n",
    "<img src=\"BranchandBoundProcess3.png\" style=\"height: 300px;\" class=\"center\"/><br>\n",
    "First, solve the LP relaxation where $ x_2 = 0, x_3 = 0 $."
   ]
  },
  {
   "cell_type": "code",
   "execution_count": 5,
   "metadata": {
    "slideshow": {
     "slide_type": "slide"
    }
   },
   "outputs": [
    {
     "data": {
      "text/html": [
       "<div>\n",
       "<style scoped>\n",
       "    .dataframe tbody tr th:only-of-type {\n",
       "        vertical-align: middle;\n",
       "    }\n",
       "\n",
       "    .dataframe tbody tr th {\n",
       "        vertical-align: top;\n",
       "    }\n",
       "\n",
       "    .dataframe thead th {\n",
       "        text-align: right;\n",
       "    }\n",
       "</style>\n",
       "<table border=\"1\" class=\"dataframe\">\n",
       "  <thead>\n",
       "    <tr style=\"text-align: right;\">\n",
       "      <th></th>\n",
       "      <th>Solver Status</th>\n",
       "      <th>Model Status</th>\n",
       "      <th>Objective</th>\n",
       "      <th>#equ</th>\n",
       "      <th>#var</th>\n",
       "      <th>Model Type</th>\n",
       "      <th>Solver</th>\n",
       "      <th>Solver Time</th>\n",
       "    </tr>\n",
       "  </thead>\n",
       "  <tbody>\n",
       "    <tr>\n",
       "      <th>0</th>\n",
       "      <td>Normal (1)</td>\n",
       "      <td>Optimal Global (1)</td>\n",
       "      <td>12.0</td>\n",
       "      <td>2</td>\n",
       "      <td>5</td>\n",
       "      <td>RMIP</td>\n",
       "      <td>CPLEX</td>\n",
       "      <td>0.001</td>\n",
       "    </tr>\n",
       "  </tbody>\n",
       "</table>\n",
       "</div>"
      ],
      "text/plain": [
       "  Solver Status        Model Status  Objective #equ #var Model Type Solver  \\\n",
       "0    Normal (1)  Optimal Global (1)       12.0    2    5       RMIP  CPLEX   \n",
       "\n",
       "  Solver Time  \n",
       "0       0.001  "
      ]
     },
     "execution_count": 5,
     "metadata": {},
     "output_type": "execute_result"
    },
    {
     "name": "stdout",
     "output_type": "stream",
     "text": [
      "x = (1.0, 0.0, 0.0, 1.0)\n"
     ]
    }
   ],
   "source": [
    "gams.gams('x3.fx=0; solve bb using rmip maximizing obj_var;')\n",
    "print(f'x = ({x1.toValue()}, {x2.toValue()}, {x3.toValue()}, {x4.toValue()})')"
   ]
  },
  {
   "cell_type": "markdown",
   "metadata": {
    "slideshow": {
     "slide_type": "slide"
    }
   },
   "source": [
    "# b_and_b.gms\n",
    "The current LP relaxation is feasible and all $ x_i $ satisfy the integer restrictions. <br>\n",
    "<img src=\"BranchandBoundProcess4.png\" style=\"height: 300px;\" class=\"center\"/><br>\n",
    "Thus, update the lower bound with $ z = 12.0 $. The current bounds become\n",
    "$$ z_L = 12.0, z_U = 13.5 $$"
   ]
  },
  {
   "cell_type": "markdown",
   "metadata": {
    "slideshow": {
     "slide_type": "slide"
    }
   },
   "source": [
    "# b_and_b.gms\n",
    "Next, solve the LP relaxation where $ x_2 = 0, x_3 = 1 $."
   ]
  },
  {
   "cell_type": "code",
   "execution_count": 6,
   "metadata": {
    "slideshow": {
     "slide_type": "slide"
    }
   },
   "outputs": [
    {
     "data": {
      "text/html": [
       "<div>\n",
       "<style scoped>\n",
       "    .dataframe tbody tr th:only-of-type {\n",
       "        vertical-align: middle;\n",
       "    }\n",
       "\n",
       "    .dataframe tbody tr th {\n",
       "        vertical-align: top;\n",
       "    }\n",
       "\n",
       "    .dataframe thead th {\n",
       "        text-align: right;\n",
       "    }\n",
       "</style>\n",
       "<table border=\"1\" class=\"dataframe\">\n",
       "  <thead>\n",
       "    <tr style=\"text-align: right;\">\n",
       "      <th></th>\n",
       "      <th>Solver Status</th>\n",
       "      <th>Model Status</th>\n",
       "      <th>Objective</th>\n",
       "      <th>#equ</th>\n",
       "      <th>#var</th>\n",
       "      <th>Model Type</th>\n",
       "      <th>Solver</th>\n",
       "      <th>Solver Time</th>\n",
       "    </tr>\n",
       "  </thead>\n",
       "  <tbody>\n",
       "    <tr>\n",
       "      <th>0</th>\n",
       "      <td>Normal (1)</td>\n",
       "      <td>Optimal Global (1)</td>\n",
       "      <td>12.2</td>\n",
       "      <td>2</td>\n",
       "      <td>5</td>\n",
       "      <td>RMIP</td>\n",
       "      <td>CPLEX</td>\n",
       "      <td>0.001</td>\n",
       "    </tr>\n",
       "  </tbody>\n",
       "</table>\n",
       "</div>"
      ],
      "text/plain": [
       "  Solver Status        Model Status  Objective #equ #var Model Type Solver  \\\n",
       "0    Normal (1)  Optimal Global (1)       12.2    2    5       RMIP  CPLEX   \n",
       "\n",
       "  Solver Time  \n",
       "0       0.001  "
      ]
     },
     "execution_count": 6,
     "metadata": {},
     "output_type": "execute_result"
    },
    {
     "name": "stdout",
     "output_type": "stream",
     "text": [
      "x = (0.4, 0.0, 1.0, 1.0)\n"
     ]
    }
   ],
   "source": [
    "gams.gams('x3.fx=1; solve bb using rmip maximizing obj_var;')\n",
    "print(f'x = ({x1.toValue()}, {x2.toValue()}, {x3.toValue()}, {x4.toValue()})')"
   ]
  },
  {
   "cell_type": "markdown",
   "metadata": {
    "slideshow": {
     "slide_type": "slide"
    }
   },
   "source": [
    "# b_and_b.gms\n",
    "The current LP relaxation is feasible, but $ x_1 $ is not an integer. <br>\n",
    "<img src=\"BranchandBoundProcess5.png\" style=\"height: 300px;\" class=\"center\"/><br>\n",
    "Current bounds are\n",
    "$$ z_L = 12.0, z_U = 13.5 $$"
   ]
  },
  {
   "cell_type": "markdown",
   "metadata": {
    "slideshow": {
     "slide_type": "slide"
    }
   },
   "source": [
    "# b_and_b.gms\n",
    "By rounding the objective value from $ z = 12.2 $ to $ z = 12.0 $ (this can be done since $ z $ must be an integer), it can be seen that\n",
    "$$ z \\leq z_L $$\n",
    "Thus, the current problem can be fathomed, since there is no better optimal solution in this restricted region.\n",
    "<img src=\"BranchandBoundProcess6.png\" style=\"height: 300px;\" class=\"center\"/>"
   ]
  },
  {
   "cell_type": "markdown",
   "metadata": {
    "slideshow": {
     "slide_type": "slide"
    }
   },
   "source": [
    "# b_and_b.gms\n",
    "Next, go back to the very first \"branch\" and solve the LP relaxation where $ x_2 = 1 $."
   ]
  },
  {
   "cell_type": "code",
   "execution_count": 7,
   "metadata": {
    "slideshow": {
     "slide_type": "slide"
    }
   },
   "outputs": [
    {
     "data": {
      "text/html": [
       "<div>\n",
       "<style scoped>\n",
       "    .dataframe tbody tr th:only-of-type {\n",
       "        vertical-align: middle;\n",
       "    }\n",
       "\n",
       "    .dataframe tbody tr th {\n",
       "        vertical-align: top;\n",
       "    }\n",
       "\n",
       "    .dataframe thead th {\n",
       "        text-align: right;\n",
       "    }\n",
       "</style>\n",
       "<table border=\"1\" class=\"dataframe\">\n",
       "  <thead>\n",
       "    <tr style=\"text-align: right;\">\n",
       "      <th></th>\n",
       "      <th>Solver Status</th>\n",
       "      <th>Model Status</th>\n",
       "      <th>Objective</th>\n",
       "      <th>#equ</th>\n",
       "      <th>#var</th>\n",
       "      <th>Model Type</th>\n",
       "      <th>Solver</th>\n",
       "      <th>Solver Time</th>\n",
       "    </tr>\n",
       "  </thead>\n",
       "  <tbody>\n",
       "    <tr>\n",
       "      <th>0</th>\n",
       "      <td>Normal (1)</td>\n",
       "      <td>Optimal Global (1)</td>\n",
       "      <td>13.2</td>\n",
       "      <td>2</td>\n",
       "      <td>5</td>\n",
       "      <td>RMIP</td>\n",
       "      <td>CPLEX</td>\n",
       "      <td>0.001</td>\n",
       "    </tr>\n",
       "  </tbody>\n",
       "</table>\n",
       "</div>"
      ],
      "text/plain": [
       "  Solver Status        Model Status  Objective #equ #var Model Type Solver  \\\n",
       "0    Normal (1)  Optimal Global (1)       13.2    2    5       RMIP  CPLEX   \n",
       "\n",
       "  Solver Time  \n",
       "0       0.001  "
      ]
     },
     "execution_count": 7,
     "metadata": {},
     "output_type": "execute_result"
    },
    {
     "name": "stdout",
     "output_type": "stream",
     "text": [
      "x = (0.4, 1.0, 0.0, 1.0)\n"
     ]
    }
   ],
   "source": [
    "gams.gams('x2.fx=1; x3.lo=0; solve bb using rmip maximizing obj_var;')\n",
    "print(f'x = ({x1.toValue()}, {x2.toValue()}, {x3.toValue()}, {x4.toValue()})')"
   ]
  },
  {
   "cell_type": "markdown",
   "metadata": {
    "slideshow": {
     "slide_type": "slide"
    }
   },
   "source": [
    "# b_and_b.gms\n",
    "The current LP relaxation is feasible, but $ x_1 $ is not an integer. <br>\n",
    "Here, $ z = 13.2 $ is the upper bound for all of the remaining restricted problems. Thus, the current bounds become\n",
    "$$ z_L = 12.0, z_U = 13.2 $$"
   ]
  },
  {
   "cell_type": "markdown",
   "metadata": {
    "slideshow": {
     "slide_type": "slide"
    }
   },
   "source": [
    "# b_and_b.gms\n",
    "Divide the current problem into two restricted problems, where one has $ x_2 = 1, x_1 = 0 $ and the other has $ x_2 = 1, x_1 = 1 $.<br>\n",
    "<img src=\"BranchandBoundProcess7.png\" style=\"height: 300px;\" class=\"center\"/><br>\n",
    "First, solve the LP relaxation where $ x_2 = 1, x_1 = 0 $."
   ]
  },
  {
   "cell_type": "code",
   "execution_count": 8,
   "metadata": {
    "slideshow": {
     "slide_type": "slide"
    }
   },
   "outputs": [
    {
     "data": {
      "text/html": [
       "<div>\n",
       "<style scoped>\n",
       "    .dataframe tbody tr th:only-of-type {\n",
       "        vertical-align: middle;\n",
       "    }\n",
       "\n",
       "    .dataframe tbody tr th {\n",
       "        vertical-align: top;\n",
       "    }\n",
       "\n",
       "    .dataframe thead th {\n",
       "        text-align: right;\n",
       "    }\n",
       "</style>\n",
       "<table border=\"1\" class=\"dataframe\">\n",
       "  <thead>\n",
       "    <tr style=\"text-align: right;\">\n",
       "      <th></th>\n",
       "      <th>Solver Status</th>\n",
       "      <th>Model Status</th>\n",
       "      <th>Objective</th>\n",
       "      <th>#equ</th>\n",
       "      <th>#var</th>\n",
       "      <th>Model Type</th>\n",
       "      <th>Solver</th>\n",
       "      <th>Solver Time</th>\n",
       "    </tr>\n",
       "  </thead>\n",
       "  <tbody>\n",
       "    <tr>\n",
       "      <th>0</th>\n",
       "      <td>Normal (1)</td>\n",
       "      <td>Optimal Global (1)</td>\n",
       "      <td>12.5</td>\n",
       "      <td>2</td>\n",
       "      <td>5</td>\n",
       "      <td>RMIP</td>\n",
       "      <td>CPLEX</td>\n",
       "      <td>0.001</td>\n",
       "    </tr>\n",
       "  </tbody>\n",
       "</table>\n",
       "</div>"
      ],
      "text/plain": [
       "  Solver Status        Model Status  Objective #equ #var Model Type Solver  \\\n",
       "0    Normal (1)  Optimal Global (1)       12.5    2    5       RMIP  CPLEX   \n",
       "\n",
       "  Solver Time  \n",
       "0       0.001  "
      ]
     },
     "execution_count": 8,
     "metadata": {},
     "output_type": "execute_result"
    },
    {
     "name": "stdout",
     "output_type": "stream",
     "text": [
      "x = (0.0, 1.0, 0.5, 1.0)\n"
     ]
    }
   ],
   "source": [
    "gams.gams('x1.fx=0; solve bb using rmip maximizing obj_var;')\n",
    "print(f'x = ({x1.toValue()}, {x2.toValue()}, {x3.toValue()}, {x4.toValue()})')"
   ]
  },
  {
   "cell_type": "markdown",
   "metadata": {
    "slideshow": {
     "slide_type": "slide"
    }
   },
   "source": [
    "# b_and_b.gms\n",
    "The current LP relaxation is feasible, but $ x_3 $ is not an integer. <br>\n",
    "<img src=\"BranchandBoundProcess8.png\" style=\"height: 300px;\" class=\"center\"/>\n",
    "Current bounds are\n",
    "$$ z_L = 12.0, z_U = 13.2 $$"
   ]
  },
  {
   "cell_type": "markdown",
   "metadata": {
    "slideshow": {
     "slide_type": "slide"
    }
   },
   "source": [
    "# b_and_b.gms\n",
    "By rounding the objective value (which in this instance must be integral) from $ z = 12.5 $ to $ z = 12.0 $, it can be seen that\n",
    "$$ z \\leq z_L $$\n",
    "Thus, the current problem can be fathomed.\n",
    "<img src=\"BranchandBoundProcess9.png\" style=\"height: 300px;\" class=\"center\"/>"
   ]
  },
  {
   "cell_type": "markdown",
   "metadata": {
    "slideshow": {
     "slide_type": "slide"
    }
   },
   "source": [
    "# b_and_b.gms\n",
    "Next, solve the LP relaxation where $ x_2 = 1, x_1 = 1 $."
   ]
  },
  {
   "cell_type": "code",
   "execution_count": 9,
   "metadata": {
    "slideshow": {
     "slide_type": "slide"
    }
   },
   "outputs": [
    {
     "data": {
      "text/html": [
       "<div>\n",
       "<style scoped>\n",
       "    .dataframe tbody tr th:only-of-type {\n",
       "        vertical-align: middle;\n",
       "    }\n",
       "\n",
       "    .dataframe tbody tr th {\n",
       "        vertical-align: top;\n",
       "    }\n",
       "\n",
       "    .dataframe thead th {\n",
       "        text-align: right;\n",
       "    }\n",
       "</style>\n",
       "<table border=\"1\" class=\"dataframe\">\n",
       "  <thead>\n",
       "    <tr style=\"text-align: right;\">\n",
       "      <th></th>\n",
       "      <th>Solver Status</th>\n",
       "      <th>Model Status</th>\n",
       "      <th>Objective</th>\n",
       "      <th>#equ</th>\n",
       "      <th>#var</th>\n",
       "      <th>Model Type</th>\n",
       "      <th>Solver</th>\n",
       "      <th>Solver Time</th>\n",
       "    </tr>\n",
       "  </thead>\n",
       "  <tbody>\n",
       "    <tr>\n",
       "      <th>0</th>\n",
       "      <td>Normal (1)</td>\n",
       "      <td>InfeasibleGlobal (4)</td>\n",
       "      <td>NA</td>\n",
       "      <td>2</td>\n",
       "      <td>5</td>\n",
       "      <td>RMIP</td>\n",
       "      <td>CPLEX</td>\n",
       "      <td>0</td>\n",
       "    </tr>\n",
       "  </tbody>\n",
       "</table>\n",
       "</div>"
      ],
      "text/plain": [
       "  Solver Status          Model Status Objective #equ #var Model Type Solver  \\\n",
       "0    Normal (1)  InfeasibleGlobal (4)        NA    2    5       RMIP  CPLEX   \n",
       "\n",
       "  Solver Time  \n",
       "0           0  "
      ]
     },
     "execution_count": 9,
     "metadata": {},
     "output_type": "execute_result"
    },
    {
     "name": "stdout",
     "output_type": "stream",
     "text": [
      "x = (1.0, 1.0, 0.5, 1.0)\n"
     ]
    }
   ],
   "source": [
    "gams.gams('x1.fx=1; solve bb using rmip maximizing obj_var;')\n",
    "print(f'x = ({x1.toValue()}, {x2.toValue()}, {x3.toValue()}, {x4.toValue()})')"
   ]
  },
  {
   "cell_type": "markdown",
   "metadata": {
    "slideshow": {
     "slide_type": "slide"
    }
   },
   "source": [
    "# b_and_b.gms\n",
    "The current LP relaxation is infeasible. <br>\n",
    "<img src=\"BranchandBoundProcess10.png\" style=\"height: 300px;\" class=\"center\"/>"
   ]
  },
  {
   "cell_type": "markdown",
   "metadata": {
    "slideshow": {
     "slide_type": "slide"
    }
   },
   "source": [
    "# b_and_b.gms\n",
    "Since all restricted IP problems have been solved, the bounds can be updated to\n",
    "$$ z_L = 12.0, z_U = 12.0 $$\n",
    "The optimal solution to this IP problem is thus\n",
    "$$ z^* = 12.0 $$\n",
    "$$ x^*_1 = 1, x^*_2 = 0, x^*_3 = 0, x^*_4 = 1 $$"
   ]
  },
  {
   "cell_type": "code",
   "execution_count": 10,
   "metadata": {},
   "outputs": [],
   "source": [
    "gams.gams_cleanup('--closedown')"
   ]
  },
  {
   "cell_type": "markdown",
   "metadata": {},
   "source": [
    "## Bounds and performance guarantees\n",
    "\n",
    "<ul>\n",
    "<li> We saw in the description of the algorithm how to get a lower\n",
    "bound $z_L$ on the optimal objective function value</li>\n",
    "<li> We can also get an upper bound on the optimal objective\n",
    "value.  $z_U$ is the maximum of all of the upper bounds of all of the\n",
    "remaining restriced problems that must be evaluated</li>\n",
    "<li> If we only want to solve a problem to within $\\alpha$% of\n",
    "optimality, we can!!!</li>\n",
    "<li> This is really what is great about optimization.  Not only do\n",
    "you get a solution, but you can tell your boss that if there is a\n",
    "better solution it can be at most $\\alpha$% better.</li>\n",
    "</ul>"
   ]
  },
  {
   "cell_type": "markdown",
   "metadata": {
    "slideshow": {
     "slide_type": "slide"
    }
   },
   "source": [
    "## GAMS and Tolerances\n",
    "<ul>\n",
    "    <li><b><font face = \"Courier New\">option optcr = 0.0</font></b></li>\n",
    "    <li><b><font face = \"Courier New\">option optca = 0.0</font></b></li>\n",
    "</ul>\n",
    "<ul>\n",
    "    <li><b><font face = \"Courier New\">optcr</font></b>: Stop if $ (z_U - z_L) / \\max{\\{|z_L|, 1\\}} \\leq $ <b><font face = \"Courier New\">optcr</font></b></li>\n",
    "    <li><b><font face = \"Courier New\">optca</font></b>: Stop if $ (z_U - z_L) \\leq $ <b><font face = \"Courier New\">optca</font></b></li>\n",
    "</ul>"
   ]
  },
  {
   "attachments": {},
   "cell_type": "markdown",
   "metadata": {
    "slideshow": {
     "slide_type": "slide"
    }
   },
   "source": [
    "## Some Good CPLEX parameters\n",
    "<ul>\n",
    "    <li>mipemphasis (1 for solution finding, 2 for optimality)</li>\n",
    "    <li>varsel (strong branching 3)</li>\n",
    "    <li>cuts (-1 no, 5 aggressive)</li>\n",
    "    <li>probe (-1 no, 3 full)</li>\n",
    "    <li>lbheur (local branching heuristic)</li>\n",
    "    <li>preslvnd</li>\n",
    "    <li>repeatepresolve</li>\n",
    "    <li>subalg</li>\n",
    "    <li>nodesel (0 dfs, 2 best estimate)</li>\n",
    "    <li>heurfreq (-1 for node heuristic off)</li>\n",
    "    <li>mipstart 1 (use an existing integer solution to start)</li>\n",
    "    <li>numericalemphasis (1 for extreme caution)</li>\n",
    "</ul>"
   ]
  },
  {
   "cell_type": "markdown",
   "metadata": {
    "slideshow": {
     "slide_type": "slide"
    }
   },
   "source": [
    "## Some Good Gurobi parameters\n",
    "<ul>\n",
    "    <li>cuts -1: auto, 0:off, 3:aggresive</li>\n",
    "    <li>heuristics (fraction) % of time spent trying to find feasible solutions</li>\n",
    "    <li>mipfocus: 1 for solution finding, 2 for optimality</li>\n",
    "    <li>mipstart 1</li>\n",
    "</ul>"
   ]
  },
  {
   "cell_type": "markdown",
   "metadata": {
    "slideshow": {
     "slide_type": "slide"
    }
   },
   "source": [
    "## Additional Materials\n",
    "<ul>\n",
    "    <li><a href=\"https://support.gams.com/solver:what_is_optca_optcr\">Gams Tolerances</a></li>\n",
    "    <li><a href=\"https://www.gams.com/latest/docs/S_CPLEX.html\">CPLEX Solver and Parameters</a></li>\n",
    "    <li><a href=\"https://www.gams.com/latest/docs/S_GUROBI.html\">Gurobi Solver and Paramters</a></li>\n",
    "    <li><a href=\"https://web.stanford.edu/class/ee364b/lectures/bb_slides.pdf\">Stanford Lecture on Branch and Bound Methods</a></li>\n",
    "    <li><a href=\"https://towardsdatascience.com/the-branch-and-bound-algorithm-a7ae4d227a69\">Simple Explanation on Branch and Bound Algorithm</a></li>\n",
    "</ul>"
   ]
  },
  {
   "cell_type": "markdown",
   "metadata": {
    "slideshow": {
     "slide_type": "slide"
    }
   },
   "source": [
    "## Overview\n",
    "<ul>\n",
    "    <li>This lecture introduces the basic concept of solving IP models using the Branch and Bound method.</li>\n",
    "    <li>Briefly, the Branch and Bound method recursively divides and solves the LP relaxations of restricted IP problems.</li>\n",
    "    <li>During the recursion, a lower and upper bound of the current optimal value is recorded and updated; these bounds are used to trim down the search space of restricted IP problems.</li>\n",
    "    <li>After all the restricted IP problems have been solved, the optimal solution within the bounds can be obtained.\n",
    "</ul>"
   ]
  }
 ],
 "metadata": {
  "celltoolbar": "Slideshow",
  "kernelspec": {
   "display_name": "Python 3 (ipykernel)",
   "language": "python",
   "name": "python3"
  },
  "language_info": {
   "codemirror_mode": {
    "name": "ipython",
    "version": 3
   },
   "file_extension": ".py",
   "mimetype": "text/x-python",
   "name": "python",
   "nbconvert_exporter": "python",
   "pygments_lexer": "ipython3",
   "version": "3.10.12"
  }
 },
 "nbformat": 4,
 "nbformat_minor": 4
}
